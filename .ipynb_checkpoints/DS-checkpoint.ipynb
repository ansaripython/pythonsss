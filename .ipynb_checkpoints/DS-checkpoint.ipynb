{
 "cells": [
  {
   "cell_type": "code",
   "execution_count": null,
   "id": "d31cc967",
   "metadata": {},
   "outputs": [],
   "source": [
    "list -- []\n",
    "tuple - ()\n",
    "set -- {}\n",
    "dict {}\n",
    "frozenset {}\n",
    "str '',\"\",'''df''',\"\"\"\"\"\"\n"
   ]
  },
  {
   "cell_type": "code",
   "execution_count": null,
   "id": "5e18332d",
   "metadata": {},
   "outputs": [],
   "source": [
    "mutable ---> we can change its structure after creation\n",
    "(unhashable)\n",
    "(changable)\n",
    "\n",
    "***************************************************************\n",
    "immutable --> we cannt change---read only type\n",
    "(hashable)\n",
    "(unchangable)"
   ]
  },
  {
   "cell_type": "code",
   "execution_count": 1,
   "id": "977c347b",
   "metadata": {},
   "outputs": [],
   "source": [
    "#List ---> []"
   ]
  },
  {
   "cell_type": "code",
   "execution_count": null,
   "id": "54cb269b",
   "metadata": {},
   "outputs": [],
   "source": [
    "1.it is collection of similar type data(homogeneous) or different type(hetro) data\n",
    "2.it is denoted by []\n",
    "3.element of list can be accessed by its index number(0 based index)\n",
    "4.list is an orderd type data structure\n",
    "5.list can contain duplicate element"
   ]
  },
  {
   "cell_type": "code",
   "execution_count": 3,
   "id": "fe787c16",
   "metadata": {},
   "outputs": [],
   "source": [
    "py_list = [1,5,8,3,90,35]"
   ]
  },
  {
   "cell_type": "code",
   "execution_count": 4,
   "id": "57d5167e",
   "metadata": {},
   "outputs": [
    {
     "data": {
      "text/plain": [
       "list"
      ]
     },
     "execution_count": 4,
     "metadata": {},
     "output_type": "execute_result"
    }
   ],
   "source": [
    "type(py_list)"
   ]
  },
  {
   "cell_type": "code",
   "execution_count": 5,
   "id": "986ac984",
   "metadata": {},
   "outputs": [],
   "source": [
    "py_list = ['python',10,45.78,True,None]"
   ]
  },
  {
   "cell_type": "code",
   "execution_count": 6,
   "id": "a88ff750",
   "metadata": {},
   "outputs": [
    {
     "data": {
      "text/plain": [
       "['python', 10, 45.78, True, None]"
      ]
     },
     "execution_count": 6,
     "metadata": {},
     "output_type": "execute_result"
    }
   ],
   "source": [
    "py_list"
   ]
  },
  {
   "cell_type": "code",
   "execution_count": 7,
   "id": "5e8ac6a6",
   "metadata": {},
   "outputs": [
    {
     "data": {
      "text/plain": [
       "list"
      ]
     },
     "execution_count": 7,
     "metadata": {},
     "output_type": "execute_result"
    }
   ],
   "source": [
    "type(py_list)"
   ]
  },
  {
   "cell_type": "code",
   "execution_count": 8,
   "id": "7e293ad0",
   "metadata": {},
   "outputs": [],
   "source": [
    "#empty list"
   ]
  },
  {
   "cell_type": "code",
   "execution_count": 9,
   "id": "c9cdb663",
   "metadata": {},
   "outputs": [],
   "source": [
    "p = []"
   ]
  },
  {
   "cell_type": "code",
   "execution_count": 10,
   "id": "72a9ef8f",
   "metadata": {},
   "outputs": [
    {
     "data": {
      "text/plain": [
       "list"
      ]
     },
     "execution_count": 10,
     "metadata": {},
     "output_type": "execute_result"
    }
   ],
   "source": [
    "type(p)"
   ]
  },
  {
   "cell_type": "code",
   "execution_count": 11,
   "id": "2a0b106d",
   "metadata": {},
   "outputs": [],
   "source": [
    "py_list = ['python','java','c',500,40,30]"
   ]
  },
  {
   "cell_type": "code",
   "execution_count": 12,
   "id": "b91a6cf8",
   "metadata": {},
   "outputs": [
    {
     "data": {
      "text/plain": [
       "['python', 'java', 'c', 500, 40, 30]"
      ]
     },
     "execution_count": 12,
     "metadata": {},
     "output_type": "execute_result"
    }
   ],
   "source": [
    "py_list"
   ]
  },
  {
   "cell_type": "code",
   "execution_count": 13,
   "id": "dc92654b",
   "metadata": {},
   "outputs": [
    {
     "data": {
      "text/plain": [
       "['python', 'java', 'c', 500, 40, 30]"
      ]
     },
     "execution_count": 13,
     "metadata": {},
     "output_type": "execute_result"
    }
   ],
   "source": [
    "py_list"
   ]
  },
  {
   "cell_type": "code",
   "execution_count": 14,
   "id": "7567b3d2",
   "metadata": {},
   "outputs": [
    {
     "data": {
      "text/plain": [
       "'c'"
      ]
     },
     "execution_count": 14,
     "metadata": {},
     "output_type": "execute_result"
    }
   ],
   "source": [
    "py_list[2]"
   ]
  },
  {
   "cell_type": "code",
   "execution_count": 15,
   "id": "e02ab1c3",
   "metadata": {},
   "outputs": [
    {
     "data": {
      "text/plain": [
       "'c'"
      ]
     },
     "execution_count": 15,
     "metadata": {},
     "output_type": "execute_result"
    }
   ],
   "source": [
    "py_list[-4]"
   ]
  },
  {
   "cell_type": "code",
   "execution_count": 16,
   "id": "c01e8903",
   "metadata": {},
   "outputs": [],
   "source": [
    "p = [1,4,90,35,80,45]"
   ]
  },
  {
   "cell_type": "code",
   "execution_count": 17,
   "id": "30aef3c5",
   "metadata": {},
   "outputs": [
    {
     "data": {
      "text/plain": [
       "[1, 4, 90, 35, 80, 45]"
      ]
     },
     "execution_count": 17,
     "metadata": {},
     "output_type": "execute_result"
    }
   ],
   "source": [
    "p"
   ]
  },
  {
   "cell_type": "code",
   "execution_count": 18,
   "id": "eecb24e1",
   "metadata": {},
   "outputs": [],
   "source": [
    "p1 = {1,60,'python',40,100} # set"
   ]
  },
  {
   "cell_type": "code",
   "execution_count": 19,
   "id": "9810be9b",
   "metadata": {},
   "outputs": [
    {
     "data": {
      "text/plain": [
       "{1, 100, 40, 60, 'python'}"
      ]
     },
     "execution_count": 19,
     "metadata": {},
     "output_type": "execute_result"
    }
   ],
   "source": [
    "p1"
   ]
  },
  {
   "cell_type": "code",
   "execution_count": 20,
   "id": "ee01c965",
   "metadata": {},
   "outputs": [],
   "source": [
    "p = [1,1,1,1,1,3,5,6,7,8,8]"
   ]
  },
  {
   "cell_type": "code",
   "execution_count": 21,
   "id": "e3521438",
   "metadata": {},
   "outputs": [
    {
     "data": {
      "text/plain": [
       "[1, 1, 1, 1, 1, 3, 5, 6, 7, 8, 8]"
      ]
     },
     "execution_count": 21,
     "metadata": {},
     "output_type": "execute_result"
    }
   ],
   "source": [
    "p"
   ]
  },
  {
   "cell_type": "markdown",
   "id": "63609929",
   "metadata": {},
   "source": [
    "# list Operation"
   ]
  },
  {
   "cell_type": "code",
   "execution_count": 22,
   "id": "8611c498",
   "metadata": {},
   "outputs": [],
   "source": [
    "#mutable type"
   ]
  },
  {
   "cell_type": "code",
   "execution_count": 23,
   "id": "3d38ddbc",
   "metadata": {},
   "outputs": [
    {
     "data": {
      "text/plain": [
       "['python', 'java', 'c', 500, 40, 30]"
      ]
     },
     "execution_count": 23,
     "metadata": {},
     "output_type": "execute_result"
    }
   ],
   "source": [
    "py_list"
   ]
  },
  {
   "cell_type": "code",
   "execution_count": 24,
   "id": "0c367623",
   "metadata": {},
   "outputs": [],
   "source": [
    "#how to insert element in the list\n",
    "1.insert --->single element at desired location/index\n",
    "2.append---> insert single element at the end\n",
    "3.extend"
   ]
  },
  {
   "cell_type": "code",
   "execution_count": 25,
   "id": "85e13cbb",
   "metadata": {},
   "outputs": [
    {
     "data": {
      "text/plain": [
       "['python', 'java', 'c', 500, 40, 30]"
      ]
     },
     "execution_count": 25,
     "metadata": {},
     "output_type": "execute_result"
    }
   ],
   "source": [
    "py_list"
   ]
  },
  {
   "cell_type": "code",
   "execution_count": 26,
   "id": "e327e0bf",
   "metadata": {},
   "outputs": [],
   "source": [
    "#list_varibale.insert(index,element)"
   ]
  },
  {
   "cell_type": "code",
   "execution_count": 27,
   "id": "eb3a5b80",
   "metadata": {},
   "outputs": [],
   "source": [
    "py_list.insert(3,'Hadoop')"
   ]
  },
  {
   "cell_type": "code",
   "execution_count": 28,
   "id": "1307e85b",
   "metadata": {},
   "outputs": [
    {
     "data": {
      "text/plain": [
       "['python', 'java', 'c', 'Hadoop', 500, 40, 30]"
      ]
     },
     "execution_count": 28,
     "metadata": {},
     "output_type": "execute_result"
    }
   ],
   "source": [
    "py_list"
   ]
  },
  {
   "cell_type": "code",
   "execution_count": 29,
   "id": "8d1d98e5",
   "metadata": {},
   "outputs": [],
   "source": [
    "p = []"
   ]
  },
  {
   "cell_type": "code",
   "execution_count": 30,
   "id": "3b4790ed",
   "metadata": {},
   "outputs": [],
   "source": [
    "p.insert(0,'python')"
   ]
  },
  {
   "cell_type": "code",
   "execution_count": 31,
   "id": "c524b494",
   "metadata": {},
   "outputs": [
    {
     "data": {
      "text/plain": [
       "['python']"
      ]
     },
     "execution_count": 31,
     "metadata": {},
     "output_type": "execute_result"
    }
   ],
   "source": [
    "p"
   ]
  },
  {
   "cell_type": "code",
   "execution_count": 32,
   "id": "888627e3",
   "metadata": {},
   "outputs": [],
   "source": [
    "p.insert(1,'java?')"
   ]
  },
  {
   "cell_type": "code",
   "execution_count": 33,
   "id": "e3b91fc5",
   "metadata": {},
   "outputs": [
    {
     "data": {
      "text/plain": [
       "['python', 'java?']"
      ]
     },
     "execution_count": 33,
     "metadata": {},
     "output_type": "execute_result"
    }
   ],
   "source": [
    "p"
   ]
  },
  {
   "cell_type": "code",
   "execution_count": 34,
   "id": "5e23166f",
   "metadata": {},
   "outputs": [
    {
     "ename": "TypeError",
     "evalue": "insert expected 2 arguments, got 4",
     "output_type": "error",
     "traceback": [
      "\u001b[1;31m---------------------------------------------------------------------------\u001b[0m",
      "\u001b[1;31mTypeError\u001b[0m                                 Traceback (most recent call last)",
      "\u001b[1;32m<ipython-input-34-588f4419150b>\u001b[0m in \u001b[0;36m<module>\u001b[1;34m\u001b[0m\n\u001b[1;32m----> 1\u001b[1;33m \u001b[0mpy_list\u001b[0m\u001b[1;33m.\u001b[0m\u001b[0minsert\u001b[0m\u001b[1;33m(\u001b[0m\u001b[1;36m4\u001b[0m\u001b[1;33m,\u001b[0m\u001b[1;36m40\u001b[0m\u001b[1;33m,\u001b[0m\u001b[1;36m60\u001b[0m\u001b[1;33m,\u001b[0m\u001b[1;36m70\u001b[0m\u001b[1;33m)\u001b[0m\u001b[1;33m\u001b[0m\u001b[1;33m\u001b[0m\u001b[0m\n\u001b[0m",
      "\u001b[1;31mTypeError\u001b[0m: insert expected 2 arguments, got 4"
     ]
    }
   ],
   "source": [
    "py_list.insert(4,40,60,70)"
   ]
  },
  {
   "cell_type": "code",
   "execution_count": 35,
   "id": "28f72640",
   "metadata": {},
   "outputs": [
    {
     "data": {
      "text/plain": [
       "['python', 'java?']"
      ]
     },
     "execution_count": 35,
     "metadata": {},
     "output_type": "execute_result"
    }
   ],
   "source": [
    "p"
   ]
  },
  {
   "cell_type": "code",
   "execution_count": 36,
   "id": "54bc7412",
   "metadata": {},
   "outputs": [],
   "source": [
    "p.insert(10,'c')"
   ]
  },
  {
   "cell_type": "code",
   "execution_count": 37,
   "id": "ffc6537d",
   "metadata": {},
   "outputs": [
    {
     "data": {
      "text/plain": [
       "['python', 'java?', 'c']"
      ]
     },
     "execution_count": 37,
     "metadata": {},
     "output_type": "execute_result"
    }
   ],
   "source": [
    "p"
   ]
  },
  {
   "cell_type": "code",
   "execution_count": 38,
   "id": "da4c0f8a",
   "metadata": {},
   "outputs": [],
   "source": [
    "p.insert(2,'BigData')"
   ]
  },
  {
   "cell_type": "code",
   "execution_count": 39,
   "id": "6a903a62",
   "metadata": {},
   "outputs": [
    {
     "data": {
      "text/plain": [
       "['python', 'java?', 'BigData', 'c']"
      ]
     },
     "execution_count": 39,
     "metadata": {},
     "output_type": "execute_result"
    }
   ],
   "source": [
    "p"
   ]
  },
  {
   "cell_type": "code",
   "execution_count": 40,
   "id": "c1510f00",
   "metadata": {},
   "outputs": [],
   "source": [
    "p.insert(2,'c++')"
   ]
  },
  {
   "cell_type": "code",
   "execution_count": 41,
   "id": "b1c704b4",
   "metadata": {},
   "outputs": [
    {
     "data": {
      "text/plain": [
       "['python', 'java?', 'c++', 'BigData', 'c']"
      ]
     },
     "execution_count": 41,
     "metadata": {},
     "output_type": "execute_result"
    }
   ],
   "source": [
    "p"
   ]
  },
  {
   "cell_type": "code",
   "execution_count": 42,
   "id": "289728ec",
   "metadata": {},
   "outputs": [],
   "source": [
    "p.insert(-2,'sadfsaf')"
   ]
  },
  {
   "cell_type": "code",
   "execution_count": 43,
   "id": "bdc4d7b9",
   "metadata": {},
   "outputs": [
    {
     "data": {
      "text/plain": [
       "['python', 'java?', 'c++', 'sadfsaf', 'BigData', 'c']"
      ]
     },
     "execution_count": 43,
     "metadata": {},
     "output_type": "execute_result"
    }
   ],
   "source": [
    "p"
   ]
  },
  {
   "cell_type": "code",
   "execution_count": 44,
   "id": "202e3c87",
   "metadata": {},
   "outputs": [],
   "source": [
    "p.insert(2,[1,2,3])"
   ]
  },
  {
   "cell_type": "code",
   "execution_count": 45,
   "id": "cb5dc104",
   "metadata": {},
   "outputs": [
    {
     "data": {
      "text/plain": [
       "['python', 'java?', [1, 2, 3], 'c++', 'sadfsaf', 'BigData', 'c']"
      ]
     },
     "execution_count": 45,
     "metadata": {},
     "output_type": "execute_result"
    }
   ],
   "source": [
    "p"
   ]
  },
  {
   "cell_type": "code",
   "execution_count": 46,
   "id": "2224f364",
   "metadata": {},
   "outputs": [
    {
     "data": {
      "text/plain": [
       "[1, 2, 3]"
      ]
     },
     "execution_count": 46,
     "metadata": {},
     "output_type": "execute_result"
    }
   ],
   "source": [
    "p[2]"
   ]
  },
  {
   "cell_type": "code",
   "execution_count": 47,
   "id": "dea7013a",
   "metadata": {},
   "outputs": [
    {
     "data": {
      "text/plain": [
       "['python', 'java?', [1, 2, 3], 'c++', 'sadfsaf', 'BigData', 'c']"
      ]
     },
     "execution_count": 47,
     "metadata": {},
     "output_type": "execute_result"
    }
   ],
   "source": [
    "p"
   ]
  },
  {
   "cell_type": "code",
   "execution_count": 48,
   "id": "94f4a809",
   "metadata": {},
   "outputs": [],
   "source": [
    "p = [10,40,70,50]"
   ]
  },
  {
   "cell_type": "code",
   "execution_count": 49,
   "id": "48f42f9e",
   "metadata": {},
   "outputs": [
    {
     "data": {
      "text/plain": [
       "[10, 40, 70, 50]"
      ]
     },
     "execution_count": 49,
     "metadata": {},
     "output_type": "execute_result"
    }
   ],
   "source": [
    "p"
   ]
  },
  {
   "cell_type": "code",
   "execution_count": 50,
   "id": "c7e12352",
   "metadata": {},
   "outputs": [],
   "source": [
    "p.append(600)"
   ]
  },
  {
   "cell_type": "code",
   "execution_count": 51,
   "id": "1eb4a5c0",
   "metadata": {},
   "outputs": [
    {
     "data": {
      "text/plain": [
       "[10, 40, 70, 50, 600]"
      ]
     },
     "execution_count": 51,
     "metadata": {},
     "output_type": "execute_result"
    }
   ],
   "source": [
    "p"
   ]
  },
  {
   "cell_type": "code",
   "execution_count": 52,
   "id": "7d4d947f",
   "metadata": {},
   "outputs": [],
   "source": [
    "p.append(300)"
   ]
  },
  {
   "cell_type": "code",
   "execution_count": 53,
   "id": "b235b9f0",
   "metadata": {},
   "outputs": [
    {
     "data": {
      "text/plain": [
       "[10, 40, 70, 50, 600, 300]"
      ]
     },
     "execution_count": 53,
     "metadata": {},
     "output_type": "execute_result"
    }
   ],
   "source": [
    "p"
   ]
  },
  {
   "cell_type": "code",
   "execution_count": 54,
   "id": "ce4a23d5",
   "metadata": {},
   "outputs": [],
   "source": [
    "p.append('python')"
   ]
  },
  {
   "cell_type": "code",
   "execution_count": 55,
   "id": "8834b5e4",
   "metadata": {},
   "outputs": [
    {
     "data": {
      "text/plain": [
       "[10, 40, 70, 50, 600, 300, 'python']"
      ]
     },
     "execution_count": 55,
     "metadata": {},
     "output_type": "execute_result"
    }
   ],
   "source": [
    "p"
   ]
  },
  {
   "cell_type": "code",
   "execution_count": 56,
   "id": "4cec12ff",
   "metadata": {},
   "outputs": [
    {
     "ename": "TypeError",
     "evalue": "append() takes exactly one argument (2 given)",
     "output_type": "error",
     "traceback": [
      "\u001b[1;31m---------------------------------------------------------------------------\u001b[0m",
      "\u001b[1;31mTypeError\u001b[0m                                 Traceback (most recent call last)",
      "\u001b[1;32m<ipython-input-56-aa2cdd4b2834>\u001b[0m in \u001b[0;36m<module>\u001b[1;34m\u001b[0m\n\u001b[1;32m----> 1\u001b[1;33m \u001b[0mp\u001b[0m\u001b[1;33m.\u001b[0m\u001b[0mappend\u001b[0m\u001b[1;33m(\u001b[0m\u001b[1;36m34\u001b[0m\u001b[1;33m,\u001b[0m\u001b[1;36m6768\u001b[0m\u001b[1;33m)\u001b[0m\u001b[1;33m\u001b[0m\u001b[1;33m\u001b[0m\u001b[0m\n\u001b[0m",
      "\u001b[1;31mTypeError\u001b[0m: append() takes exactly one argument (2 given)"
     ]
    }
   ],
   "source": [
    "p.append(34,6768)"
   ]
  },
  {
   "cell_type": "code",
   "execution_count": 61,
   "id": "73cc7b52",
   "metadata": {},
   "outputs": [],
   "source": [
    "fsFfAGSDR = 50"
   ]
  },
  {
   "cell_type": "code",
   "execution_count": 62,
   "id": "42cc20c5",
   "metadata": {},
   "outputs": [],
   "source": [
    "#RCA--ROOT CAUSE ANALYSIS"
   ]
  },
  {
   "cell_type": "code",
   "execution_count": 63,
   "id": "39c8fb78",
   "metadata": {},
   "outputs": [
    {
     "data": {
      "text/plain": [
       "50"
      ]
     },
     "execution_count": 63,
     "metadata": {},
     "output_type": "execute_result"
    }
   ],
   "source": [
    "fsFfAGSDR"
   ]
  },
  {
   "cell_type": "code",
   "execution_count": null,
   "id": "f3327364",
   "metadata": {},
   "outputs": [],
   "source": []
  },
  {
   "cell_type": "code",
   "execution_count": 60,
   "id": "5b074a6c",
   "metadata": {},
   "outputs": [
    {
     "data": {
      "text/plain": [
       "['python', 'java', 'c', 'Hadoop', 500, 40, 30]"
      ]
     },
     "execution_count": 60,
     "metadata": {},
     "output_type": "execute_result"
    }
   ],
   "source": [
    "py_list"
   ]
  },
  {
   "cell_type": "code",
   "execution_count": 64,
   "id": "bd76a46d",
   "metadata": {},
   "outputs": [],
   "source": [
    "py_list.append([1,2,3,34,54,6436,])"
   ]
  },
  {
   "cell_type": "code",
   "execution_count": 65,
   "id": "96485f32",
   "metadata": {},
   "outputs": [
    {
     "data": {
      "text/plain": [
       "['python', 'java', 'c', 'Hadoop', 500, 40, 30, [1, 2, 3, 34, 54, 6436]]"
      ]
     },
     "execution_count": 65,
     "metadata": {},
     "output_type": "execute_result"
    }
   ],
   "source": [
    "py_list"
   ]
  },
  {
   "cell_type": "code",
   "execution_count": 66,
   "id": "b34de932",
   "metadata": {},
   "outputs": [],
   "source": [
    "#extend ---> multiple element "
   ]
  },
  {
   "cell_type": "code",
   "execution_count": 67,
   "id": "17f3259b",
   "metadata": {},
   "outputs": [],
   "source": [
    "\n",
    "p  = ['python','java','hadoop','c']"
   ]
  },
  {
   "cell_type": "code",
   "execution_count": 68,
   "id": "f0d79d70",
   "metadata": {},
   "outputs": [],
   "source": [
    "p.extend([40,78,'c++',34,67])"
   ]
  },
  {
   "cell_type": "code",
   "execution_count": 69,
   "id": "54200380",
   "metadata": {},
   "outputs": [
    {
     "data": {
      "text/plain": [
       "['python', 'java', 'hadoop', 'c', 40, 78, 'c++', 34, 67]"
      ]
     },
     "execution_count": 69,
     "metadata": {},
     "output_type": "execute_result"
    }
   ],
   "source": [
    "p"
   ]
  },
  {
   "cell_type": "code",
   "execution_count": null,
   "id": "ea1a9f90",
   "metadata": {},
   "outputs": [],
   "source": [
    "insert -- at desired location -single\n",
    "append -- at the end single\n",
    "extend -- at the end multiple elements"
   ]
  },
  {
   "cell_type": "code",
   "execution_count": null,
   "id": "e243a0f5",
   "metadata": {},
   "outputs": [],
   "source": [
    "mutable:\n",
    "    list\n",
    "    set\n",
    "    dict\n",
    "immutable:\n",
    "    number\n",
    "    string\n",
    "    tuple\n",
    "    frozenset"
   ]
  },
  {
   "cell_type": "code",
   "execution_count": null,
   "id": "f7157572",
   "metadata": {},
   "outputs": [],
   "source": []
  },
  {
   "cell_type": "code",
   "execution_count": 3,
   "id": "a9308f6e",
   "metadata": {},
   "outputs": [],
   "source": [
    " k = ['python', 'java', 'c', 'Hadoop', 500, 40, 30]"
   ]
  },
  {
   "cell_type": "code",
   "execution_count": 4,
   "id": "56ea773b",
   "metadata": {},
   "outputs": [
    {
     "data": {
      "text/plain": [
       "['python', 'java', 'c', 'Hadoop', 500, 40, 30]"
      ]
     },
     "execution_count": 4,
     "metadata": {},
     "output_type": "execute_result"
    }
   ],
   "source": [
    "k"
   ]
  },
  {
   "cell_type": "code",
   "execution_count": 5,
   "id": "0fd04494",
   "metadata": {},
   "outputs": [
    {
     "data": {
      "text/plain": [
       "['python', 'java', 'c', 'Hadoop', 500, 40, 30]"
      ]
     },
     "execution_count": 5,
     "metadata": {},
     "output_type": "execute_result"
    }
   ],
   "source": [
    "k"
   ]
  },
  {
   "cell_type": "code",
   "execution_count": 6,
   "id": "0153d88e",
   "metadata": {},
   "outputs": [],
   "source": [
    "#delete element from the list"
   ]
  },
  {
   "cell_type": "code",
   "execution_count": 7,
   "id": "65889728",
   "metadata": {},
   "outputs": [
    {
     "data": {
      "text/plain": [
       "['python', 'java', 'c', 'Hadoop', 500, 40, 30]"
      ]
     },
     "execution_count": 7,
     "metadata": {},
     "output_type": "execute_result"
    }
   ],
   "source": [
    "k"
   ]
  },
  {
   "cell_type": "code",
   "execution_count": null,
   "id": "4ad6e652",
   "metadata": {},
   "outputs": [],
   "source": [
    "1.remove--- delete element by name/value\n",
    "2.pop"
   ]
  },
  {
   "cell_type": "code",
   "execution_count": 8,
   "id": "3c55ffda",
   "metadata": {},
   "outputs": [
    {
     "data": {
      "text/plain": [
       "['python', 'java', 'c', 'Hadoop', 500, 40, 30]"
      ]
     },
     "execution_count": 8,
     "metadata": {},
     "output_type": "execute_result"
    }
   ],
   "source": [
    "k"
   ]
  },
  {
   "cell_type": "code",
   "execution_count": 10,
   "id": "34c97e14",
   "metadata": {},
   "outputs": [],
   "source": [
    "k.remove('Hadoop')"
   ]
  },
  {
   "cell_type": "code",
   "execution_count": 11,
   "id": "66175b39",
   "metadata": {},
   "outputs": [
    {
     "data": {
      "text/plain": [
       "['python', 'java', 'c', 500, 40, 30]"
      ]
     },
     "execution_count": 11,
     "metadata": {},
     "output_type": "execute_result"
    }
   ],
   "source": [
    "k"
   ]
  },
  {
   "cell_type": "code",
   "execution_count": 12,
   "id": "8a0d2879",
   "metadata": {},
   "outputs": [],
   "source": [
    "k.remove('java')"
   ]
  },
  {
   "cell_type": "code",
   "execution_count": 13,
   "id": "c9fc5d45",
   "metadata": {},
   "outputs": [
    {
     "data": {
      "text/plain": [
       "['python', 'c', 500, 40, 30]"
      ]
     },
     "execution_count": 13,
     "metadata": {},
     "output_type": "execute_result"
    }
   ],
   "source": [
    "k"
   ]
  },
  {
   "cell_type": "code",
   "execution_count": 14,
   "id": "d920cd16",
   "metadata": {},
   "outputs": [],
   "source": [
    "k.insert(0,'python')"
   ]
  },
  {
   "cell_type": "code",
   "execution_count": 15,
   "id": "3ae5f172",
   "metadata": {},
   "outputs": [
    {
     "data": {
      "text/plain": [
       "['python', 'python', 'c', 500, 40, 30]"
      ]
     },
     "execution_count": 15,
     "metadata": {},
     "output_type": "execute_result"
    }
   ],
   "source": [
    "k"
   ]
  },
  {
   "cell_type": "code",
   "execution_count": 16,
   "id": "a37d965d",
   "metadata": {},
   "outputs": [],
   "source": [
    "k.remove('python')"
   ]
  },
  {
   "cell_type": "code",
   "execution_count": 17,
   "id": "a90ebc49",
   "metadata": {},
   "outputs": [
    {
     "data": {
      "text/plain": [
       "['python', 'c', 500, 40, 30]"
      ]
     },
     "execution_count": 17,
     "metadata": {},
     "output_type": "execute_result"
    }
   ],
   "source": [
    "k"
   ]
  },
  {
   "cell_type": "code",
   "execution_count": 18,
   "id": "0fe9ff5b",
   "metadata": {},
   "outputs": [
    {
     "data": {
      "text/plain": [
       "500"
      ]
     },
     "execution_count": 18,
     "metadata": {},
     "output_type": "execute_result"
    }
   ],
   "source": [
    "k.pop(2)"
   ]
  },
  {
   "cell_type": "code",
   "execution_count": 19,
   "id": "88f859c8",
   "metadata": {},
   "outputs": [
    {
     "data": {
      "text/plain": [
       "['python', 'c', 40, 30]"
      ]
     },
     "execution_count": 19,
     "metadata": {},
     "output_type": "execute_result"
    }
   ],
   "source": [
    "k"
   ]
  },
  {
   "cell_type": "code",
   "execution_count": 20,
   "id": "7c14a678",
   "metadata": {},
   "outputs": [],
   "source": [
    "p = ['python','java','c','c++','hadoop']"
   ]
  },
  {
   "cell_type": "code",
   "execution_count": 21,
   "id": "bbb492d5",
   "metadata": {},
   "outputs": [
    {
     "data": {
      "text/plain": [
       "['python', 'java', 'c', 'c++', 'hadoop']"
      ]
     },
     "execution_count": 21,
     "metadata": {},
     "output_type": "execute_result"
    }
   ],
   "source": [
    "p"
   ]
  },
  {
   "cell_type": "code",
   "execution_count": 22,
   "id": "6d9c3b00",
   "metadata": {},
   "outputs": [],
   "source": [
    "p.remove('c++')"
   ]
  },
  {
   "cell_type": "code",
   "execution_count": 23,
   "id": "60b8d6f0",
   "metadata": {},
   "outputs": [
    {
     "data": {
      "text/plain": [
       "['python', 'java', 'c', 'hadoop']"
      ]
     },
     "execution_count": 23,
     "metadata": {},
     "output_type": "execute_result"
    }
   ],
   "source": [
    "p"
   ]
  },
  {
   "cell_type": "code",
   "execution_count": 24,
   "id": "d0ccae5b",
   "metadata": {},
   "outputs": [
    {
     "data": {
      "text/plain": [
       "['python', 'java', 'c', 'hadoop']"
      ]
     },
     "execution_count": 24,
     "metadata": {},
     "output_type": "execute_result"
    }
   ],
   "source": [
    "p"
   ]
  },
  {
   "cell_type": "code",
   "execution_count": 25,
   "id": "563dcd37",
   "metadata": {},
   "outputs": [],
   "source": [
    "#pop ---> index"
   ]
  },
  {
   "cell_type": "code",
   "execution_count": 26,
   "id": "1a270b5b",
   "metadata": {},
   "outputs": [
    {
     "data": {
      "text/plain": [
       "'java'"
      ]
     },
     "execution_count": 26,
     "metadata": {},
     "output_type": "execute_result"
    }
   ],
   "source": [
    "p.pop(1)"
   ]
  },
  {
   "cell_type": "code",
   "execution_count": 27,
   "id": "125bc2b2",
   "metadata": {},
   "outputs": [
    {
     "data": {
      "text/plain": [
       "['python', 'c', 'hadoop']"
      ]
     },
     "execution_count": 27,
     "metadata": {},
     "output_type": "execute_result"
    }
   ],
   "source": [
    "p"
   ]
  },
  {
   "cell_type": "code",
   "execution_count": 28,
   "id": "8d9cf242",
   "metadata": {},
   "outputs": [
    {
     "data": {
      "text/plain": [
       "'python'"
      ]
     },
     "execution_count": 28,
     "metadata": {},
     "output_type": "execute_result"
    }
   ],
   "source": [
    "p.pop(0)"
   ]
  },
  {
   "cell_type": "code",
   "execution_count": 29,
   "id": "b9e47259",
   "metadata": {},
   "outputs": [
    {
     "data": {
      "text/plain": [
       "['c', 'hadoop']"
      ]
     },
     "execution_count": 29,
     "metadata": {},
     "output_type": "execute_result"
    }
   ],
   "source": [
    "p"
   ]
  },
  {
   "cell_type": "code",
   "execution_count": 30,
   "id": "683e7632",
   "metadata": {},
   "outputs": [
    {
     "data": {
      "text/plain": [
       "'c'"
      ]
     },
     "execution_count": 30,
     "metadata": {},
     "output_type": "execute_result"
    }
   ],
   "source": [
    "p.pop(0)"
   ]
  },
  {
   "cell_type": "code",
   "execution_count": 32,
   "id": "c83e260a",
   "metadata": {},
   "outputs": [
    {
     "data": {
      "text/plain": [
       "'hadoop'"
      ]
     },
     "execution_count": 32,
     "metadata": {},
     "output_type": "execute_result"
    }
   ],
   "source": [
    "p.pop(0)"
   ]
  },
  {
   "cell_type": "code",
   "execution_count": 33,
   "id": "b26afe34",
   "metadata": {},
   "outputs": [
    {
     "data": {
      "text/plain": [
       "[]"
      ]
     },
     "execution_count": 33,
     "metadata": {},
     "output_type": "execute_result"
    }
   ],
   "source": [
    "p"
   ]
  },
  {
   "cell_type": "code",
   "execution_count": 34,
   "id": "de2aaa9f",
   "metadata": {},
   "outputs": [
    {
     "ename": "IndexError",
     "evalue": "pop from empty list",
     "output_type": "error",
     "traceback": [
      "\u001b[1;31m---------------------------------------------------------------------------\u001b[0m",
      "\u001b[1;31mIndexError\u001b[0m                                Traceback (most recent call last)",
      "\u001b[1;32m<ipython-input-34-b8280e56ee3c>\u001b[0m in \u001b[0;36m<module>\u001b[1;34m\u001b[0m\n\u001b[1;32m----> 1\u001b[1;33m \u001b[0mp\u001b[0m\u001b[1;33m.\u001b[0m\u001b[0mpop\u001b[0m\u001b[1;33m(\u001b[0m\u001b[1;36m0\u001b[0m\u001b[1;33m)\u001b[0m\u001b[1;33m\u001b[0m\u001b[1;33m\u001b[0m\u001b[0m\n\u001b[0m",
      "\u001b[1;31mIndexError\u001b[0m: pop from empty list"
     ]
    }
   ],
   "source": [
    "p.pop(0)"
   ]
  },
  {
   "cell_type": "code",
   "execution_count": 35,
   "id": "2cfb88a4",
   "metadata": {},
   "outputs": [],
   "source": [
    "p = ['python', 'java', 'c', 'hadoop']"
   ]
  },
  {
   "cell_type": "code",
   "execution_count": 36,
   "id": "4e454fb3",
   "metadata": {},
   "outputs": [
    {
     "data": {
      "text/plain": [
       "'hadoop'"
      ]
     },
     "execution_count": 36,
     "metadata": {},
     "output_type": "execute_result"
    }
   ],
   "source": [
    "p.pop()"
   ]
  },
  {
   "cell_type": "code",
   "execution_count": 37,
   "id": "ba4590d3",
   "metadata": {},
   "outputs": [],
   "source": [
    "a = 100"
   ]
  },
  {
   "cell_type": "code",
   "execution_count": 38,
   "id": "2c33cf44",
   "metadata": {},
   "outputs": [],
   "source": [
    "a = 500"
   ]
  },
  {
   "cell_type": "code",
   "execution_count": null,
   "id": "c79304b6",
   "metadata": {},
   "outputs": [],
   "source": [
    "def copper()\n"
   ]
  },
  {
   "cell_type": "code",
   "execution_count": null,
   "id": "ba0c05a1",
   "metadata": {},
   "outputs": [],
   "source": [
    "gold\n",
    "\n",
    "sfdf"
   ]
  },
  {
   "cell_type": "code",
   "execution_count": 42,
   "id": "2b423f99",
   "metadata": {},
   "outputs": [],
   "source": []
  },
  {
   "cell_type": "code",
   "execution_count": null,
   "id": "4fb96f90",
   "metadata": {},
   "outputs": [],
   "source": []
  },
  {
   "cell_type": "code",
   "execution_count": null,
   "id": "2a7ba2a5",
   "metadata": {},
   "outputs": [],
   "source": []
  },
  {
   "cell_type": "code",
   "execution_count": 45,
   "id": "42800518",
   "metadata": {},
   "outputs": [
    {
     "data": {
      "text/plain": [
       "['python', 'java', 'c']"
      ]
     },
     "execution_count": 45,
     "metadata": {},
     "output_type": "execute_result"
    }
   ],
   "source": [
    "p"
   ]
  },
  {
   "cell_type": "code",
   "execution_count": 46,
   "id": "4c6d6395",
   "metadata": {},
   "outputs": [],
   "source": [
    "p[1] = 'Adv Java'"
   ]
  },
  {
   "cell_type": "code",
   "execution_count": 47,
   "id": "1d6198a5",
   "metadata": {},
   "outputs": [
    {
     "data": {
      "text/plain": [
       "['python', 'Adv Java', 'c']"
      ]
     },
     "execution_count": 47,
     "metadata": {},
     "output_type": "execute_result"
    }
   ],
   "source": [
    "p"
   ]
  },
  {
   "cell_type": "code",
   "execution_count": 48,
   "id": "ec0ea13c",
   "metadata": {},
   "outputs": [],
   "source": [
    "p.insert(3,'c++')"
   ]
  },
  {
   "cell_type": "code",
   "execution_count": 49,
   "id": "a2eeb96e",
   "metadata": {},
   "outputs": [
    {
     "data": {
      "text/plain": [
       "['python', 'Adv Java', 'c', 'c++']"
      ]
     },
     "execution_count": 49,
     "metadata": {},
     "output_type": "execute_result"
    }
   ],
   "source": [
    "p"
   ]
  },
  {
   "cell_type": "code",
   "execution_count": 50,
   "id": "42dd33ac",
   "metadata": {},
   "outputs": [],
   "source": [
    "p[1] = 'Hadoop'"
   ]
  },
  {
   "cell_type": "code",
   "execution_count": 51,
   "id": "f27e4e7b",
   "metadata": {},
   "outputs": [
    {
     "data": {
      "text/plain": [
       "['python', 'Hadoop', 'c', 'c++']"
      ]
     },
     "execution_count": 51,
     "metadata": {},
     "output_type": "execute_result"
    }
   ],
   "source": [
    "p"
   ]
  },
  {
   "cell_type": "code",
   "execution_count": 52,
   "id": "ccbca4c2",
   "metadata": {},
   "outputs": [
    {
     "data": {
      "text/plain": [
       "['python', 'Hadoop', 'c', 'c++']"
      ]
     },
     "execution_count": 52,
     "metadata": {},
     "output_type": "execute_result"
    }
   ],
   "source": [
    "p"
   ]
  },
  {
   "cell_type": "code",
   "execution_count": 53,
   "id": "998a1be0",
   "metadata": {},
   "outputs": [],
   "source": [
    "p_new = p.copy()"
   ]
  },
  {
   "cell_type": "code",
   "execution_count": 54,
   "id": "8194032a",
   "metadata": {},
   "outputs": [
    {
     "data": {
      "text/plain": [
       "['python', 'Hadoop', 'c', 'c++']"
      ]
     },
     "execution_count": 54,
     "metadata": {},
     "output_type": "execute_result"
    }
   ],
   "source": [
    "p_new"
   ]
  },
  {
   "cell_type": "code",
   "execution_count": 55,
   "id": "26d3daee",
   "metadata": {},
   "outputs": [],
   "source": [
    "py_list = [1,2,3,4,5]"
   ]
  },
  {
   "cell_type": "code",
   "execution_count": 56,
   "id": "e409c00a",
   "metadata": {},
   "outputs": [],
   "source": [
    "p1 = py_list.copy()"
   ]
  },
  {
   "cell_type": "code",
   "execution_count": 57,
   "id": "9738c660",
   "metadata": {},
   "outputs": [
    {
     "data": {
      "text/plain": [
       "[1, 2, 3, 4, 5]"
      ]
     },
     "execution_count": 57,
     "metadata": {},
     "output_type": "execute_result"
    }
   ],
   "source": [
    "p1"
   ]
  },
  {
   "cell_type": "code",
   "execution_count": 58,
   "id": "6039ace8",
   "metadata": {},
   "outputs": [
    {
     "data": {
      "text/plain": [
       "[1, 2, 3, 4, 5]"
      ]
     },
     "execution_count": 58,
     "metadata": {},
     "output_type": "execute_result"
    }
   ],
   "source": [
    "py_list"
   ]
  },
  {
   "cell_type": "code",
   "execution_count": 59,
   "id": "ace8b0c5",
   "metadata": {},
   "outputs": [],
   "source": [
    "py_list1 = [1, 2, 3, 4, 5]"
   ]
  },
  {
   "cell_type": "code",
   "execution_count": 60,
   "id": "522b6642",
   "metadata": {},
   "outputs": [
    {
     "data": {
      "text/plain": [
       "[1, 2, 3, 4, 5]"
      ]
     },
     "execution_count": 60,
     "metadata": {},
     "output_type": "execute_result"
    }
   ],
   "source": [
    "py_list"
   ]
  },
  {
   "cell_type": "code",
   "execution_count": 61,
   "id": "a1527493",
   "metadata": {},
   "outputs": [],
   "source": [
    "py = py_list[2:] #sclice"
   ]
  },
  {
   "cell_type": "code",
   "execution_count": 62,
   "id": "4524269e",
   "metadata": {},
   "outputs": [
    {
     "data": {
      "text/plain": [
       "[3, 4, 5]"
      ]
     },
     "execution_count": 62,
     "metadata": {},
     "output_type": "execute_result"
    }
   ],
   "source": [
    "py"
   ]
  },
  {
   "cell_type": "code",
   "execution_count": 66,
   "id": "90d7eafe",
   "metadata": {},
   "outputs": [
    {
     "data": {
      "text/plain": [
       "[1, 2, 3, 4, 5]"
      ]
     },
     "execution_count": 66,
     "metadata": {},
     "output_type": "execute_result"
    }
   ],
   "source": [
    "py_list"
   ]
  },
  {
   "cell_type": "code",
   "execution_count": 67,
   "id": "67eecc3a",
   "metadata": {},
   "outputs": [
    {
     "data": {
      "text/plain": [
       "[1, 2, 3, 4, 5]"
      ]
     },
     "execution_count": 67,
     "metadata": {},
     "output_type": "execute_result"
    }
   ],
   "source": [
    "py_list"
   ]
  },
  {
   "cell_type": "code",
   "execution_count": 68,
   "id": "60637350",
   "metadata": {},
   "outputs": [],
   "source": [
    "pp = py_list"
   ]
  },
  {
   "cell_type": "code",
   "execution_count": 69,
   "id": "32eea43f",
   "metadata": {},
   "outputs": [
    {
     "data": {
      "text/plain": [
       "[1, 2, 3, 4, 5]"
      ]
     },
     "execution_count": 69,
     "metadata": {},
     "output_type": "execute_result"
    }
   ],
   "source": [
    "pp"
   ]
  },
  {
   "cell_type": "code",
   "execution_count": 70,
   "id": "37a16b75",
   "metadata": {},
   "outputs": [],
   "source": [
    "pp.insert(2,'python')"
   ]
  },
  {
   "cell_type": "code",
   "execution_count": 71,
   "id": "3022676d",
   "metadata": {},
   "outputs": [
    {
     "data": {
      "text/plain": [
       "[1, 2, 'python', 3, 4, 5]"
      ]
     },
     "execution_count": 71,
     "metadata": {},
     "output_type": "execute_result"
    }
   ],
   "source": [
    "pp"
   ]
  },
  {
   "cell_type": "code",
   "execution_count": 72,
   "id": "265f281d",
   "metadata": {},
   "outputs": [
    {
     "data": {
      "text/plain": [
       "[1, 2, 'python', 3, 4, 5]"
      ]
     },
     "execution_count": 72,
     "metadata": {},
     "output_type": "execute_result"
    }
   ],
   "source": [
    "py_list"
   ]
  },
  {
   "cell_type": "code",
   "execution_count": 74,
   "id": "620fa465",
   "metadata": {},
   "outputs": [
    {
     "data": {
      "text/plain": [
       "[1, 2, 'python', 3, 4, 5]"
      ]
     },
     "execution_count": 74,
     "metadata": {},
     "output_type": "execute_result"
    }
   ],
   "source": [
    "pp"
   ]
  },
  {
   "cell_type": "code",
   "execution_count": null,
   "id": "91a2ba56",
   "metadata": {
    "collapsed": true
   },
   "outputs": [],
   "source": []
  },
  {
   "cell_type": "code",
   "execution_count": 79,
   "id": "d68f1507",
   "metadata": {},
   "outputs": [],
   "source": [
    "p = [45,2,90,48,23,12,78]"
   ]
  },
  {
   "cell_type": "code",
   "execution_count": 76,
   "id": "f9ae1ae6",
   "metadata": {},
   "outputs": [
    {
     "data": {
      "text/plain": [
       "[45, 2, 90, 48, 23, 12, 78]"
      ]
     },
     "execution_count": 76,
     "metadata": {},
     "output_type": "execute_result"
    }
   ],
   "source": [
    "p"
   ]
  },
  {
   "cell_type": "code",
   "execution_count": 77,
   "id": "91794066",
   "metadata": {},
   "outputs": [],
   "source": [
    "p.sort()"
   ]
  },
  {
   "cell_type": "code",
   "execution_count": 78,
   "id": "c65a5677",
   "metadata": {},
   "outputs": [
    {
     "data": {
      "text/plain": [
       "[2, 12, 23, 45, 48, 78, 90]"
      ]
     },
     "execution_count": 78,
     "metadata": {},
     "output_type": "execute_result"
    }
   ],
   "source": [
    "p"
   ]
  },
  {
   "cell_type": "code",
   "execution_count": 83,
   "id": "b610466c",
   "metadata": {},
   "outputs": [],
   "source": [
    "p.sort(reverse=False) #== asc then reverse ---> desc"
   ]
  },
  {
   "cell_type": "code",
   "execution_count": 84,
   "id": "0f8a484e",
   "metadata": {},
   "outputs": [
    {
     "data": {
      "text/plain": [
       "[2, 12, 23, 45, 48, 78, 90]"
      ]
     },
     "execution_count": 84,
     "metadata": {},
     "output_type": "execute_result"
    }
   ],
   "source": [
    "p"
   ]
  },
  {
   "cell_type": "code",
   "execution_count": 85,
   "id": "cbec9a01",
   "metadata": {},
   "outputs": [],
   "source": [
    "#interview  -- 100 per"
   ]
  },
  {
   "cell_type": "code",
   "execution_count": 86,
   "id": "26100a1e",
   "metadata": {},
   "outputs": [
    {
     "data": {
      "text/plain": [
       "[2, 12, 23, 45, 48, 78, 90]"
      ]
     },
     "execution_count": 86,
     "metadata": {},
     "output_type": "execute_result"
    }
   ],
   "source": [
    "p"
   ]
  },
  {
   "cell_type": "code",
   "execution_count": 87,
   "id": "5be3fd56",
   "metadata": {},
   "outputs": [],
   "source": [
    "p = [34,89,21,568,34,79,23]"
   ]
  },
  {
   "cell_type": "code",
   "execution_count": 88,
   "id": "5915dcd1",
   "metadata": {},
   "outputs": [
    {
     "data": {
      "text/plain": [
       "[34, 89, 21, 568, 34, 79, 23]"
      ]
     },
     "execution_count": 88,
     "metadata": {},
     "output_type": "execute_result"
    }
   ],
   "source": [
    "p"
   ]
  },
  {
   "cell_type": "code",
   "execution_count": 89,
   "id": "aa1955c2",
   "metadata": {},
   "outputs": [],
   "source": [
    "p.reverse()"
   ]
  },
  {
   "cell_type": "code",
   "execution_count": 90,
   "id": "49b22915",
   "metadata": {},
   "outputs": [
    {
     "data": {
      "text/plain": [
       "[23, 79, 34, 568, 21, 89, 34]"
      ]
     },
     "execution_count": 90,
     "metadata": {},
     "output_type": "execute_result"
    }
   ],
   "source": [
    "p"
   ]
  },
  {
   "cell_type": "code",
   "execution_count": 91,
   "id": "5e985079",
   "metadata": {},
   "outputs": [],
   "source": [
    "p = [23,6,686,'python',4646,46]"
   ]
  },
  {
   "cell_type": "code",
   "execution_count": 92,
   "id": "f9a975ff",
   "metadata": {},
   "outputs": [],
   "source": [
    "p.reverse()"
   ]
  },
  {
   "cell_type": "code",
   "execution_count": 93,
   "id": "00955640",
   "metadata": {},
   "outputs": [
    {
     "data": {
      "text/plain": [
       "[46, 4646, 'python', 686, 6, 23]"
      ]
     },
     "execution_count": 93,
     "metadata": {},
     "output_type": "execute_result"
    }
   ],
   "source": [
    "p"
   ]
  },
  {
   "cell_type": "code",
   "execution_count": 94,
   "id": "161d4a2e",
   "metadata": {},
   "outputs": [
    {
     "ename": "TypeError",
     "evalue": "'>' not supported between instances of 'str' and 'int'",
     "output_type": "error",
     "traceback": [
      "\u001b[1;31m---------------------------------------------------------------------------\u001b[0m",
      "\u001b[1;31mTypeError\u001b[0m                                 Traceback (most recent call last)",
      "\u001b[1;32m<ipython-input-94-3730ac21e773>\u001b[0m in \u001b[0;36m<module>\u001b[1;34m\u001b[0m\n\u001b[1;32m----> 1\u001b[1;33m \u001b[1;34m'a'\u001b[0m \u001b[1;33m>\u001b[0m  \u001b[1;36m10\u001b[0m\u001b[1;33m\u001b[0m\u001b[1;33m\u001b[0m\u001b[0m\n\u001b[0m",
      "\u001b[1;31mTypeError\u001b[0m: '>' not supported between instances of 'str' and 'int'"
     ]
    }
   ],
   "source": [
    "'a' >  10"
   ]
  },
  {
   "cell_type": "code",
   "execution_count": 95,
   "id": "fea39632",
   "metadata": {},
   "outputs": [],
   "source": [
    " p = ['python',35,67,'java']"
   ]
  },
  {
   "cell_type": "code",
   "execution_count": 96,
   "id": "8ffecb2d",
   "metadata": {},
   "outputs": [
    {
     "ename": "TypeError",
     "evalue": "'<' not supported between instances of 'int' and 'str'",
     "output_type": "error",
     "traceback": [
      "\u001b[1;31m---------------------------------------------------------------------------\u001b[0m",
      "\u001b[1;31mTypeError\u001b[0m                                 Traceback (most recent call last)",
      "\u001b[1;32m<ipython-input-96-357f481f0589>\u001b[0m in \u001b[0;36m<module>\u001b[1;34m\u001b[0m\n\u001b[1;32m----> 1\u001b[1;33m \u001b[0mp\u001b[0m\u001b[1;33m.\u001b[0m\u001b[0msort\u001b[0m\u001b[1;33m(\u001b[0m\u001b[1;33m)\u001b[0m\u001b[1;33m\u001b[0m\u001b[1;33m\u001b[0m\u001b[0m\n\u001b[0m",
      "\u001b[1;31mTypeError\u001b[0m: '<' not supported between instances of 'int' and 'str'"
     ]
    }
   ],
   "source": [
    "p.sort()"
   ]
  },
  {
   "cell_type": "code",
   "execution_count": 100,
   "id": "1fc1c840",
   "metadata": {},
   "outputs": [],
   "source": [
    "p = ['z','A','a','c','x']"
   ]
  },
  {
   "cell_type": "code",
   "execution_count": 101,
   "id": "6261ad55",
   "metadata": {},
   "outputs": [],
   "source": [
    "p.sort()"
   ]
  },
  {
   "cell_type": "code",
   "execution_count": 102,
   "id": "bfa175d4",
   "metadata": {},
   "outputs": [
    {
     "data": {
      "text/plain": [
       "['A', 'a', 'c', 'x', 'z']"
      ]
     },
     "execution_count": 102,
     "metadata": {},
     "output_type": "execute_result"
    }
   ],
   "source": [
    "p"
   ]
  },
  {
   "cell_type": "code",
   "execution_count": 103,
   "id": "fad64fed",
   "metadata": {},
   "outputs": [
    {
     "data": {
      "text/plain": [
       "['A', 'a', 'c', 'x', 'z']"
      ]
     },
     "execution_count": 103,
     "metadata": {},
     "output_type": "execute_result"
    }
   ],
   "source": [
    "p"
   ]
  },
  {
   "cell_type": "code",
   "execution_count": null,
   "id": "67ed8a69",
   "metadata": {},
   "outputs": [],
   "source": [
    "# 15 min discussion\n",
    "\n",
    "ASCII Value ---> \n"
   ]
  },
  {
   "cell_type": "code",
   "execution_count": 2,
   "id": "e6002324",
   "metadata": {},
   "outputs": [
    {
     "data": {
      "text/plain": [
       "97"
      ]
     },
     "execution_count": 2,
     "metadata": {},
     "output_type": "execute_result"
    }
   ],
   "source": [
    "ord('a')"
   ]
  },
  {
   "cell_type": "code",
   "execution_count": 3,
   "id": "080e9b52",
   "metadata": {},
   "outputs": [
    {
     "data": {
      "text/plain": [
       "65"
      ]
     },
     "execution_count": 3,
     "metadata": {},
     "output_type": "execute_result"
    }
   ],
   "source": [
    "ord('A')"
   ]
  },
  {
   "cell_type": "code",
   "execution_count": 4,
   "id": "0285dd60",
   "metadata": {},
   "outputs": [],
   "source": [
    "#Hi ---> "
   ]
  },
  {
   "cell_type": "code",
   "execution_count": 5,
   "id": "b74f786e",
   "metadata": {},
   "outputs": [],
   "source": [
    "py_list = [45,79,24,678,79,45]"
   ]
  },
  {
   "cell_type": "code",
   "execution_count": 6,
   "id": "bf71990f",
   "metadata": {},
   "outputs": [
    {
     "data": {
      "text/plain": [
       "[45, 79, 24, 678, 79, 45]"
      ]
     },
     "execution_count": 6,
     "metadata": {},
     "output_type": "execute_result"
    }
   ],
   "source": [
    "py_list"
   ]
  },
  {
   "cell_type": "code",
   "execution_count": 7,
   "id": "a9f5f207",
   "metadata": {},
   "outputs": [
    {
     "data": {
      "text/plain": [
       "3"
      ]
     },
     "execution_count": 7,
     "metadata": {},
     "output_type": "execute_result"
    }
   ],
   "source": [
    "py_list.index(678)"
   ]
  },
  {
   "cell_type": "code",
   "execution_count": 9,
   "id": "0e7a60c6",
   "metadata": {},
   "outputs": [
    {
     "data": {
      "text/plain": [
       "2"
      ]
     },
     "execution_count": 9,
     "metadata": {},
     "output_type": "execute_result"
    }
   ],
   "source": [
    "py_list.index(24)"
   ]
  },
  {
   "cell_type": "code",
   "execution_count": 10,
   "id": "e4a8aab9",
   "metadata": {},
   "outputs": [],
   "source": [
    "p = ['python','java','c',45,23,'hadoop']"
   ]
  },
  {
   "cell_type": "code",
   "execution_count": 11,
   "id": "d35c7bac",
   "metadata": {},
   "outputs": [
    {
     "data": {
      "text/plain": [
       "1"
      ]
     },
     "execution_count": 11,
     "metadata": {},
     "output_type": "execute_result"
    }
   ],
   "source": [
    "p.index('java')"
   ]
  },
  {
   "cell_type": "code",
   "execution_count": 12,
   "id": "75c712f7",
   "metadata": {},
   "outputs": [],
   "source": [
    "p.clear()"
   ]
  },
  {
   "cell_type": "code",
   "execution_count": 13,
   "id": "b4bc598a",
   "metadata": {},
   "outputs": [
    {
     "data": {
      "text/plain": [
       "[]"
      ]
     },
     "execution_count": 13,
     "metadata": {},
     "output_type": "execute_result"
    }
   ],
   "source": [
    "p"
   ]
  },
  {
   "cell_type": "code",
   "execution_count": 14,
   "id": "c845f8e0",
   "metadata": {},
   "outputs": [],
   "source": [
    "p = [20,40,60,23,78]"
   ]
  },
  {
   "cell_type": "code",
   "execution_count": 15,
   "id": "b92920c9",
   "metadata": {},
   "outputs": [
    {
     "data": {
      "text/plain": [
       "3"
      ]
     },
     "execution_count": 15,
     "metadata": {},
     "output_type": "execute_result"
    }
   ],
   "source": [
    "p.index(23)"
   ]
  },
  {
   "cell_type": "code",
   "execution_count": 16,
   "id": "127e7397",
   "metadata": {},
   "outputs": [],
   "source": [
    "#all element you want delete"
   ]
  },
  {
   "cell_type": "code",
   "execution_count": 17,
   "id": "e0e46422",
   "metadata": {},
   "outputs": [],
   "source": [
    "p.clear()"
   ]
  },
  {
   "cell_type": "code",
   "execution_count": 18,
   "id": "70702644",
   "metadata": {},
   "outputs": [
    {
     "data": {
      "text/plain": [
       "[]"
      ]
     },
     "execution_count": 18,
     "metadata": {},
     "output_type": "execute_result"
    }
   ],
   "source": [
    "p"
   ]
  },
  {
   "cell_type": "code",
   "execution_count": 19,
   "id": "1d490292",
   "metadata": {},
   "outputs": [],
   "source": [
    "#revision part"
   ]
  },
  {
   "cell_type": "code",
   "execution_count": null,
   "id": "cd4c02af",
   "metadata": {},
   "outputs": [],
   "source": [
    "list\n",
    "mutable type --\n",
    "ordered type\n",
    "index --> 0\n",
    "duplicates allowed\n",
    "can contain mixed type element\n",
    "=============Methods in list====================================\n",
    "insert(index,element) ---> insert the element at desired location\n",
    "append(element) ---> insert the elemnt at the end\n",
    "extend([element]) -->insert multiple element at the end\n",
    "remove(element) ---> delete the element by using value/name\n",
    "pop(index) --> delete the element by using index\n",
    "sort() -- asc --> arranging the element in asc order\n",
    "sort(reverse=True)--> desc -\n",
    "reverse() --> reverese given list\n",
    "copy() --> it will crate new copy (deep copy)\n",
    "index(element) --> find the index of element\n",
    "clear() --> delete all element from the list"
   ]
  }
 ],
 "metadata": {
  "kernelspec": {
   "display_name": "Python 3",
   "language": "python",
   "name": "python3"
  },
  "language_info": {
   "codemirror_mode": {
    "name": "ipython",
    "version": 3
   },
   "file_extension": ".py",
   "mimetype": "text/x-python",
   "name": "python",
   "nbconvert_exporter": "python",
   "pygments_lexer": "ipython3",
   "version": "3.8.8"
  }
 },
 "nbformat": 4,
 "nbformat_minor": 5
}

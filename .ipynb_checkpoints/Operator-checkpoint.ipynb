{
 "cells": [
  {
   "cell_type": "code",
   "execution_count": null,
   "id": "443e8677",
   "metadata": {},
   "outputs": [],
   "source": [
    "#Operator\n",
    "11am \n",
    "1.Arithmetic operator -- > +,-,*,/,//,%,**\n",
    "2.Comparison Operator -->> < > = < = != ==\n",
    "3.Logical Opearator --> and ,or ,not\n",
    "4.Membership Operator --> in ,not in \n",
    "5.Assigment Operator --> -=,+=,*=,/=\n",
    "6.Identity Operator -->\n",
    "7.Bitwise Operator\n",
    "8.Ternary Operator\n"
   ]
  },
  {
   "cell_type": "code",
   "execution_count": null,
   "id": "298ad42d",
   "metadata": {},
   "outputs": [],
   "source": [
    "#Arithmetic Operator\n",
    "+\n",
    "-\n",
    "*\n",
    "/\n",
    "//\n",
    "%\n",
    "**"
   ]
  },
  {
   "cell_type": "code",
   "execution_count": null,
   "id": "4ff98df7",
   "metadata": {},
   "outputs": [],
   "source": [
    "+\n",
    "\n",
    "int/float + int/float ----> arithmetic addition\n",
    "str + str ---> concat\n"
   ]
  },
  {
   "cell_type": "code",
   "execution_count": 1,
   "id": "e55d38ba",
   "metadata": {},
   "outputs": [
    {
     "data": {
      "text/plain": [
       "85"
      ]
     },
     "execution_count": 1,
     "metadata": {},
     "output_type": "execute_result"
    }
   ],
   "source": [
    "25+60"
   ]
  },
  {
   "cell_type": "code",
   "execution_count": 2,
   "id": "c7058df0",
   "metadata": {},
   "outputs": [
    {
     "data": {
      "text/plain": [
       "71.12"
      ]
     },
     "execution_count": 2,
     "metadata": {},
     "output_type": "execute_result"
    }
   ],
   "source": [
    "14.56 + 56.56"
   ]
  },
  {
   "cell_type": "code",
   "execution_count": 3,
   "id": "b19f0c07",
   "metadata": {},
   "outputs": [],
   "source": [
    "a = 'Python'"
   ]
  },
  {
   "cell_type": "code",
   "execution_count": 4,
   "id": "de50ef24",
   "metadata": {},
   "outputs": [],
   "source": [
    "b = \"java\""
   ]
  },
  {
   "cell_type": "code",
   "execution_count": 5,
   "id": "31bbafd9",
   "metadata": {},
   "outputs": [
    {
     "data": {
      "text/plain": [
       "'Pythonjava'"
      ]
     },
     "execution_count": 5,
     "metadata": {},
     "output_type": "execute_result"
    }
   ],
   "source": [
    "a+b"
   ]
  },
  {
   "cell_type": "code",
   "execution_count": 6,
   "id": "c2ba3496",
   "metadata": {},
   "outputs": [
    {
     "ename": "TypeError",
     "evalue": "unsupported operand type(s) for +: 'int' and 'str'",
     "output_type": "error",
     "traceback": [
      "\u001b[1;31m---------------------------------------------------------------------------\u001b[0m",
      "\u001b[1;31mTypeError\u001b[0m                                 Traceback (most recent call last)",
      "\u001b[1;32m<ipython-input-6-85e6cbbe2c6e>\u001b[0m in \u001b[0;36m<module>\u001b[1;34m\u001b[0m\n\u001b[1;32m----> 1\u001b[1;33m \u001b[1;36m90\u001b[0m \u001b[1;33m+\u001b[0m \u001b[1;34m\"Java\"\u001b[0m\u001b[1;33m\u001b[0m\u001b[1;33m\u001b[0m\u001b[0m\n\u001b[0m",
      "\u001b[1;31mTypeError\u001b[0m: unsupported operand type(s) for +: 'int' and 'str'"
     ]
    }
   ],
   "source": [
    "90 + \"Java\""
   ]
  },
  {
   "cell_type": "code",
   "execution_count": 7,
   "id": "292ff311",
   "metadata": {},
   "outputs": [
    {
     "data": {
      "text/plain": [
       "90.9"
      ]
     },
     "execution_count": 7,
     "metadata": {},
     "output_type": "execute_result"
    }
   ],
   "source": [
    "45.90 + 45"
   ]
  },
  {
   "cell_type": "code",
   "execution_count": 8,
   "id": "dc177e82",
   "metadata": {},
   "outputs": [],
   "source": [
    "#Developer --- Error"
   ]
  },
  {
   "cell_type": "code",
   "execution_count": 9,
   "id": "dc208f3d",
   "metadata": {},
   "outputs": [],
   "source": [
    "#Subtraction"
   ]
  },
  {
   "cell_type": "code",
   "execution_count": null,
   "id": "7ab01bba",
   "metadata": {},
   "outputs": [],
   "source": [
    "int - int \n",
    "int/float - int/float ---> sub\n",
    "\n"
   ]
  },
  {
   "cell_type": "code",
   "execution_count": 10,
   "id": "74fbeb94",
   "metadata": {},
   "outputs": [
    {
     "data": {
      "text/plain": [
       "-44"
      ]
     },
     "execution_count": 10,
     "metadata": {},
     "output_type": "execute_result"
    }
   ],
   "source": [
    "45 - 89"
   ]
  },
  {
   "cell_type": "code",
   "execution_count": 11,
   "id": "ae4fb46b",
   "metadata": {},
   "outputs": [
    {
     "data": {
      "text/plain": [
       "-14"
      ]
     },
     "execution_count": 11,
     "metadata": {},
     "output_type": "execute_result"
    }
   ],
   "source": [
    "75- 89"
   ]
  },
  {
   "cell_type": "code",
   "execution_count": 12,
   "id": "dda0bb9f",
   "metadata": {},
   "outputs": [
    {
     "ename": "TypeError",
     "evalue": "unsupported operand type(s) for -: 'str' and 'str'",
     "output_type": "error",
     "traceback": [
      "\u001b[1;31m---------------------------------------------------------------------------\u001b[0m",
      "\u001b[1;31mTypeError\u001b[0m                                 Traceback (most recent call last)",
      "\u001b[1;32m<ipython-input-12-3b09b78c2706>\u001b[0m in \u001b[0;36m<module>\u001b[1;34m\u001b[0m\n\u001b[1;32m----> 1\u001b[1;33m \u001b[1;34m'sfgdg'\u001b[0m \u001b[1;33m-\u001b[0m  \u001b[1;34m'sdfsdf'\u001b[0m\u001b[1;33m\u001b[0m\u001b[1;33m\u001b[0m\u001b[0m\n\u001b[0m",
      "\u001b[1;31mTypeError\u001b[0m: unsupported operand type(s) for -: 'str' and 'str'"
     ]
    }
   ],
   "source": [
    "'sfgdg' -  'sdfsdf'"
   ]
  },
  {
   "cell_type": "code",
   "execution_count": null,
   "id": "a13b0206",
   "metadata": {},
   "outputs": [],
   "source": [
    "1. int/float ---> math mul\n",
    "2.str * int ---> duplication"
   ]
  },
  {
   "cell_type": "code",
   "execution_count": 13,
   "id": "a8454410",
   "metadata": {},
   "outputs": [
    {
     "data": {
      "text/plain": [
       "'PythonPython'"
      ]
     },
     "execution_count": 13,
     "metadata": {},
     "output_type": "execute_result"
    }
   ],
   "source": [
    "'Python' * 2"
   ]
  },
  {
   "cell_type": "code",
   "execution_count": 14,
   "id": "81fea318",
   "metadata": {},
   "outputs": [
    {
     "data": {
      "text/plain": [
       "'javajavajavajava'"
      ]
     },
     "execution_count": 14,
     "metadata": {},
     "output_type": "execute_result"
    }
   ],
   "source": [
    "'java'*4"
   ]
  },
  {
   "cell_type": "code",
   "execution_count": 15,
   "id": "709ceaf8",
   "metadata": {},
   "outputs": [
    {
     "data": {
      "text/plain": [
       "234"
      ]
     },
     "execution_count": 15,
     "metadata": {},
     "output_type": "execute_result"
    }
   ],
   "source": [
    "78 * 3"
   ]
  },
  {
   "cell_type": "code",
   "execution_count": 16,
   "id": "657f28ee",
   "metadata": {},
   "outputs": [
    {
     "data": {
      "text/plain": [
       "228.5"
      ]
     },
     "execution_count": 16,
     "metadata": {},
     "output_type": "execute_result"
    }
   ],
   "source": [
    "45.7 * 5"
   ]
  },
  {
   "cell_type": "code",
   "execution_count": 17,
   "id": "da6ef446",
   "metadata": {},
   "outputs": [
    {
     "data": {
      "text/plain": [
       "-2280"
      ]
     },
     "execution_count": 17,
     "metadata": {},
     "output_type": "execute_result"
    }
   ],
   "source": [
    "-456 * 5"
   ]
  },
  {
   "cell_type": "code",
   "execution_count": 18,
   "id": "54d91ae5",
   "metadata": {},
   "outputs": [
    {
     "data": {
      "text/plain": [
       "9113.0893092"
      ]
     },
     "execution_count": 18,
     "metadata": {},
     "output_type": "execute_result"
    }
   ],
   "source": [
    "4556.5446546 * 2"
   ]
  },
  {
   "cell_type": "code",
   "execution_count": 25,
   "id": "ec025091",
   "metadata": {},
   "outputs": [],
   "source": [
    "temp = 'sdfdsf ' * int(45.6)"
   ]
  },
  {
   "cell_type": "code",
   "execution_count": 21,
   "id": "1db9bed9",
   "metadata": {},
   "outputs": [],
   "source": [
    "#float * str --- TypeError: can't multiply sequence by non-int of type 'float'"
   ]
  },
  {
   "cell_type": "code",
   "execution_count": null,
   "id": "98c5f6df",
   "metadata": {},
   "outputs": [],
   "source": [
    "#division"
   ]
  },
  {
   "cell_type": "code",
   "execution_count": 26,
   "id": "470de04b",
   "metadata": {},
   "outputs": [
    {
     "data": {
      "text/plain": [
       "'sdfdsf sdfdsf sdfdsf sdfdsf sdfdsf sdfdsf sdfdsf sdfdsf sdfdsf sdfdsf sdfdsf sdfdsf sdfdsf sdfdsf sdfdsf sdfdsf sdfdsf sdfdsf sdfdsf sdfdsf sdfdsf sdfdsf sdfdsf sdfdsf sdfdsf sdfdsf sdfdsf sdfdsf sdfdsf sdfdsf sdfdsf sdfdsf sdfdsf sdfdsf sdfdsf sdfdsf sdfdsf sdfdsf sdfdsf sdfdsf sdfdsf sdfdsf sdfdsf sdfdsf sdfdsf '"
      ]
     },
     "execution_count": 26,
     "metadata": {},
     "output_type": "execute_result"
    }
   ],
   "source": [
    "temp"
   ]
  },
  {
   "cell_type": "code",
   "execution_count": 27,
   "id": "2713eb86",
   "metadata": {},
   "outputs": [],
   "source": [
    "t = 'python','sdfdsf sdfdsf sdfdsf sdfdsf sdfdsf sdfdsf sdfdsf sdfdsf sdfdsf sdfdsf sdfdsf sdfdsf sdfdsf sdfdsf sdfdsf sdfdsf sdfdsf sdfdsf sdfdsf sdfdsf sdfdsf sdfdsf sdfdsf sdfdsf sdfdsf sdfdsf sdfdsf sdfdsf sdfdsf sdfdsf sdfdsf sdfdsf sdfdsf sdfdsf sdfdsf sdfdsf sdfdsf sdfdsf sdfdsf sdfdsf sdfdsf sdfdsf sdfdsf sdfdsf sdfdsf '"
   ]
  },
  {
   "cell_type": "code",
   "execution_count": 28,
   "id": "0da3e66e",
   "metadata": {},
   "outputs": [
    {
     "data": {
      "text/plain": [
       "('python',\n",
       " 'sdfdsf sdfdsf sdfdsf sdfdsf sdfdsf sdfdsf sdfdsf sdfdsf sdfdsf sdfdsf sdfdsf sdfdsf sdfdsf sdfdsf sdfdsf sdfdsf sdfdsf sdfdsf sdfdsf sdfdsf sdfdsf sdfdsf sdfdsf sdfdsf sdfdsf sdfdsf sdfdsf sdfdsf sdfdsf sdfdsf sdfdsf sdfdsf sdfdsf sdfdsf sdfdsf sdfdsf sdfdsf sdfdsf sdfdsf sdfdsf sdfdsf sdfdsf sdfdsf sdfdsf sdfdsf ')"
      ]
     },
     "execution_count": 28,
     "metadata": {},
     "output_type": "execute_result"
    }
   ],
   "source": [
    "t"
   ]
  },
  {
   "cell_type": "code",
   "execution_count": 29,
   "id": "513cf7ec",
   "metadata": {},
   "outputs": [],
   "source": [
    "#div"
   ]
  },
  {
   "cell_type": "code",
   "execution_count": 31,
   "id": "0538b04e",
   "metadata": {},
   "outputs": [
    {
     "data": {
      "text/plain": [
       "(15+18j)"
      ]
     },
     "execution_count": 31,
     "metadata": {},
     "output_type": "execute_result"
    }
   ],
   "source": [
    "(5+6J) * 3"
   ]
  },
  {
   "cell_type": "code",
   "execution_count": 32,
   "id": "1087bfc3",
   "metadata": {},
   "outputs": [],
   "source": [
    "#Div"
   ]
  },
  {
   "cell_type": "code",
   "execution_count": 33,
   "id": "1003e8fa",
   "metadata": {},
   "outputs": [
    {
     "data": {
      "text/plain": [
       "6.0"
      ]
     },
     "execution_count": 33,
     "metadata": {},
     "output_type": "execute_result"
    }
   ],
   "source": [
    "12/2"
   ]
  },
  {
   "cell_type": "code",
   "execution_count": 34,
   "id": "bd729cc9",
   "metadata": {},
   "outputs": [],
   "source": [
    "#floor Div"
   ]
  },
  {
   "cell_type": "code",
   "execution_count": 37,
   "id": "50f1926d",
   "metadata": {},
   "outputs": [
    {
     "data": {
      "text/plain": [
       "11.2"
      ]
     },
     "execution_count": 37,
     "metadata": {},
     "output_type": "execute_result"
    }
   ],
   "source": [
    "\n",
    "56/5"
   ]
  },
  {
   "cell_type": "code",
   "execution_count": 39,
   "id": "b2c17b94",
   "metadata": {},
   "outputs": [
    {
     "data": {
      "text/plain": [
       "11"
      ]
     },
     "execution_count": 39,
     "metadata": {},
     "output_type": "execute_result"
    }
   ],
   "source": [
    "56//5"
   ]
  },
  {
   "cell_type": "code",
   "execution_count": 40,
   "id": "69e1c7ac",
   "metadata": {},
   "outputs": [
    {
     "data": {
      "text/plain": [
       "3.3333333333333335"
      ]
     },
     "execution_count": 40,
     "metadata": {},
     "output_type": "execute_result"
    }
   ],
   "source": [
    "10/3"
   ]
  },
  {
   "cell_type": "code",
   "execution_count": 43,
   "id": "39406ad4",
   "metadata": {},
   "outputs": [
    {
     "data": {
      "text/plain": [
       "4.6"
      ]
     },
     "execution_count": 43,
     "metadata": {},
     "output_type": "execute_result"
    }
   ],
   "source": [
    "23/5"
   ]
  },
  {
   "cell_type": "code",
   "execution_count": 44,
   "id": "b1f09ccc",
   "metadata": {},
   "outputs": [
    {
     "data": {
      "text/plain": [
       "9.125"
      ]
     },
     "execution_count": 44,
     "metadata": {},
     "output_type": "execute_result"
    }
   ],
   "source": [
    "73/8"
   ]
  },
  {
   "cell_type": "code",
   "execution_count": 45,
   "id": "aa215a11",
   "metadata": {},
   "outputs": [
    {
     "data": {
      "text/plain": [
       "4"
      ]
     },
     "execution_count": 45,
     "metadata": {},
     "output_type": "execute_result"
    }
   ],
   "source": [
    "23//5"
   ]
  },
  {
   "cell_type": "code",
   "execution_count": 47,
   "id": "29a86a8e",
   "metadata": {},
   "outputs": [
    {
     "data": {
      "text/plain": [
       "9"
      ]
     },
     "execution_count": 47,
     "metadata": {},
     "output_type": "execute_result"
    }
   ],
   "source": [
    "99//10"
   ]
  },
  {
   "cell_type": "code",
   "execution_count": 48,
   "id": "a7d86f8b",
   "metadata": {},
   "outputs": [],
   "source": [
    "import math"
   ]
  },
  {
   "cell_type": "code",
   "execution_count": 49,
   "id": "8af7cfbc",
   "metadata": {},
   "outputs": [
    {
     "data": {
      "text/plain": [
       "9.090909090909092"
      ]
     },
     "execution_count": 49,
     "metadata": {},
     "output_type": "execute_result"
    }
   ],
   "source": [
    "100/11"
   ]
  },
  {
   "cell_type": "code",
   "execution_count": 50,
   "id": "d6e21e09",
   "metadata": {},
   "outputs": [
    {
     "data": {
      "text/plain": [
       "9"
      ]
     },
     "execution_count": 50,
     "metadata": {},
     "output_type": "execute_result"
    }
   ],
   "source": [
    "100//11"
   ]
  },
  {
   "cell_type": "code",
   "execution_count": 51,
   "id": "323edda2",
   "metadata": {},
   "outputs": [
    {
     "data": {
      "text/plain": [
       "13"
      ]
     },
     "execution_count": 51,
     "metadata": {},
     "output_type": "execute_result"
    }
   ],
   "source": [
    "math.ceil(12.2)"
   ]
  },
  {
   "cell_type": "code",
   "execution_count": 52,
   "id": "512e6f81",
   "metadata": {},
   "outputs": [
    {
     "data": {
      "text/plain": [
       "11"
      ]
     },
     "execution_count": 52,
     "metadata": {},
     "output_type": "execute_result"
    }
   ],
   "source": [
    "math.ceil(10.1)"
   ]
  },
  {
   "cell_type": "code",
   "execution_count": 67,
   "id": "3a5f99db",
   "metadata": {},
   "outputs": [
    {
     "data": {
      "text/plain": [
       "46"
      ]
     },
     "execution_count": 67,
     "metadata": {},
     "output_type": "execute_result"
    }
   ],
   "source": [
    "round(45.499999999999999)"
   ]
  },
  {
   "cell_type": "code",
   "execution_count": 69,
   "id": "48781f57",
   "metadata": {},
   "outputs": [
    {
     "data": {
      "text/plain": [
       "15"
      ]
     },
     "execution_count": 69,
     "metadata": {},
     "output_type": "execute_result"
    }
   ],
   "source": [
    "len('499999999999999')"
   ]
  },
  {
   "cell_type": "code",
   "execution_count": null,
   "id": "8d15f813",
   "metadata": {},
   "outputs": [],
   "source": [
    "% -- modulous --- find reminder"
   ]
  },
  {
   "cell_type": "code",
   "execution_count": null,
   "id": "fb759c67",
   "metadata": {},
   "outputs": [],
   "source": []
  },
  {
   "cell_type": "code",
   "execution_count": 70,
   "id": "33009a07",
   "metadata": {},
   "outputs": [
    {
     "data": {
      "text/plain": [
       "2"
      ]
     },
     "execution_count": 70,
     "metadata": {},
     "output_type": "execute_result"
    }
   ],
   "source": [
    "11%3"
   ]
  },
  {
   "cell_type": "code",
   "execution_count": 71,
   "id": "4f94c55d",
   "metadata": {},
   "outputs": [
    {
     "data": {
      "text/plain": [
       "0"
      ]
     },
     "execution_count": 71,
     "metadata": {},
     "output_type": "execute_result"
    }
   ],
   "source": [
    "12%2"
   ]
  },
  {
   "cell_type": "code",
   "execution_count": 72,
   "id": "5be6b218",
   "metadata": {},
   "outputs": [
    {
     "data": {
      "text/plain": [
       "2"
      ]
     },
     "execution_count": 72,
     "metadata": {},
     "output_type": "execute_result"
    }
   ],
   "source": [
    "56%3"
   ]
  },
  {
   "cell_type": "code",
   "execution_count": 73,
   "id": "14aea092",
   "metadata": {},
   "outputs": [
    {
     "data": {
      "text/plain": [
       "25"
      ]
     },
     "execution_count": 73,
     "metadata": {},
     "output_type": "execute_result"
    }
   ],
   "source": [
    "5 **2"
   ]
  },
  {
   "cell_type": "code",
   "execution_count": 74,
   "id": "da91f32c",
   "metadata": {},
   "outputs": [
    {
     "data": {
      "text/plain": [
       "823543"
      ]
     },
     "execution_count": 74,
     "metadata": {},
     "output_type": "execute_result"
    }
   ],
   "source": [
    "7**7"
   ]
  },
  {
   "cell_type": "code",
   "execution_count": 75,
   "id": "fb409ab1",
   "metadata": {},
   "outputs": [
    {
     "data": {
      "text/plain": [
       "8"
      ]
     },
     "execution_count": 75,
     "metadata": {},
     "output_type": "execute_result"
    }
   ],
   "source": [
    "2**3"
   ]
  },
  {
   "cell_type": "code",
   "execution_count": 76,
   "id": "67d12f4d",
   "metadata": {},
   "outputs": [
    {
     "data": {
      "text/plain": [
       "6"
      ]
     },
     "execution_count": 76,
     "metadata": {},
     "output_type": "execute_result"
    }
   ],
   "source": [
    "2*3"
   ]
  },
  {
   "cell_type": "code",
   "execution_count": 77,
   "id": "59e8a361",
   "metadata": {},
   "outputs": [],
   "source": [
    "#comparision Operator ---> bool form"
   ]
  },
  {
   "cell_type": "code",
   "execution_count": 78,
   "id": "7ff6b179",
   "metadata": {},
   "outputs": [],
   "source": [
    "a =10"
   ]
  },
  {
   "cell_type": "code",
   "execution_count": 79,
   "id": "66c77528",
   "metadata": {},
   "outputs": [],
   "source": [
    "b = 20"
   ]
  },
  {
   "cell_type": "code",
   "execution_count": 80,
   "id": "8466d39a",
   "metadata": {},
   "outputs": [
    {
     "data": {
      "text/plain": [
       "False"
      ]
     },
     "execution_count": 80,
     "metadata": {},
     "output_type": "execute_result"
    }
   ],
   "source": [
    "a > b"
   ]
  },
  {
   "cell_type": "code",
   "execution_count": 81,
   "id": "e1433a4b",
   "metadata": {},
   "outputs": [
    {
     "data": {
      "text/plain": [
       "True"
      ]
     },
     "execution_count": 81,
     "metadata": {},
     "output_type": "execute_result"
    }
   ],
   "source": [
    "a < b"
   ]
  },
  {
   "cell_type": "code",
   "execution_count": 82,
   "id": "72880253",
   "metadata": {},
   "outputs": [
    {
     "data": {
      "text/plain": [
       "False"
      ]
     },
     "execution_count": 82,
     "metadata": {},
     "output_type": "execute_result"
    }
   ],
   "source": [
    "a >= b"
   ]
  },
  {
   "cell_type": "code",
   "execution_count": 83,
   "id": "26346269",
   "metadata": {},
   "outputs": [
    {
     "data": {
      "text/plain": [
       "True"
      ]
     },
     "execution_count": 83,
     "metadata": {},
     "output_type": "execute_result"
    }
   ],
   "source": [
    "a <= b"
   ]
  },
  {
   "cell_type": "code",
   "execution_count": 84,
   "id": "21ca9617",
   "metadata": {},
   "outputs": [],
   "source": [
    "a = 100"
   ]
  },
  {
   "cell_type": "code",
   "execution_count": 85,
   "id": "d840f941",
   "metadata": {},
   "outputs": [],
   "source": [
    "b = 100"
   ]
  },
  {
   "cell_type": "code",
   "execution_count": 86,
   "id": "fb1985f9",
   "metadata": {},
   "outputs": [
    {
     "data": {
      "text/plain": [
       "True"
      ]
     },
     "execution_count": 86,
     "metadata": {},
     "output_type": "execute_result"
    }
   ],
   "source": [
    "a>=b"
   ]
  },
  {
   "cell_type": "code",
   "execution_count": 87,
   "id": "ab216283",
   "metadata": {},
   "outputs": [
    {
     "data": {
      "text/plain": [
       "True"
      ]
     },
     "execution_count": 87,
     "metadata": {},
     "output_type": "execute_result"
    }
   ],
   "source": [
    "a<=b"
   ]
  },
  {
   "cell_type": "code",
   "execution_count": 88,
   "id": "11370e25",
   "metadata": {},
   "outputs": [],
   "source": [
    "a = 100"
   ]
  },
  {
   "cell_type": "code",
   "execution_count": 89,
   "id": "e06500fa",
   "metadata": {},
   "outputs": [],
   "source": [
    "b = 200"
   ]
  },
  {
   "cell_type": "code",
   "execution_count": 90,
   "id": "0209a92d",
   "metadata": {},
   "outputs": [
    {
     "data": {
      "text/plain": [
       "True"
      ]
     },
     "execution_count": 90,
     "metadata": {},
     "output_type": "execute_result"
    }
   ],
   "source": [
    "a!=b"
   ]
  },
  {
   "cell_type": "code",
   "execution_count": 91,
   "id": "52927967",
   "metadata": {},
   "outputs": [],
   "source": [
    "#value compare "
   ]
  },
  {
   "cell_type": "code",
   "execution_count": null,
   "id": "b0b01a93",
   "metadata": {},
   "outputs": [],
   "source": [
    " = -- assign \n",
    " == -- value compare"
   ]
  },
  {
   "cell_type": "code",
   "execution_count": 92,
   "id": "f51429e6",
   "metadata": {},
   "outputs": [],
   "source": [
    "a = 10"
   ]
  },
  {
   "cell_type": "code",
   "execution_count": 93,
   "id": "72367801",
   "metadata": {},
   "outputs": [
    {
     "data": {
      "text/plain": [
       "False"
      ]
     },
     "execution_count": 93,
     "metadata": {},
     "output_type": "execute_result"
    }
   ],
   "source": [
    "a == b "
   ]
  },
  {
   "cell_type": "code",
   "execution_count": 94,
   "id": "0178de23",
   "metadata": {},
   "outputs": [],
   "source": [
    "a = 10"
   ]
  },
  {
   "cell_type": "code",
   "execution_count": 95,
   "id": "0ffc9a5b",
   "metadata": {},
   "outputs": [],
   "source": [
    "b = 20"
   ]
  },
  {
   "cell_type": "code",
   "execution_count": 96,
   "id": "a5480cf6",
   "metadata": {},
   "outputs": [],
   "source": [
    "c = 30"
   ]
  },
  {
   "cell_type": "code",
   "execution_count": 98,
   "id": "592d3790",
   "metadata": {},
   "outputs": [
    {
     "data": {
      "text/plain": [
       "True"
      ]
     },
     "execution_count": 98,
     "metadata": {},
     "output_type": "execute_result"
    }
   ],
   "source": [
    "True and True"
   ]
  },
  {
   "cell_type": "code",
   "execution_count": 99,
   "id": "33be4a73",
   "metadata": {},
   "outputs": [
    {
     "data": {
      "text/plain": [
       "False"
      ]
     },
     "execution_count": 99,
     "metadata": {},
     "output_type": "execute_result"
    }
   ],
   "source": [
    "True and False"
   ]
  },
  {
   "cell_type": "code",
   "execution_count": 100,
   "id": "7d6577ae",
   "metadata": {},
   "outputs": [
    {
     "data": {
      "text/plain": [
       "False"
      ]
     },
     "execution_count": 100,
     "metadata": {},
     "output_type": "execute_result"
    }
   ],
   "source": [
    "False and True"
   ]
  },
  {
   "cell_type": "code",
   "execution_count": 101,
   "id": "5e97b944",
   "metadata": {},
   "outputs": [
    {
     "data": {
      "text/plain": [
       "False"
      ]
     },
     "execution_count": 101,
     "metadata": {},
     "output_type": "execute_result"
    }
   ],
   "source": [
    "False and False"
   ]
  },
  {
   "cell_type": "code",
   "execution_count": 102,
   "id": "4b3d7a12",
   "metadata": {},
   "outputs": [
    {
     "data": {
      "text/plain": [
       "10"
      ]
     },
     "execution_count": 102,
     "metadata": {},
     "output_type": "execute_result"
    }
   ],
   "source": [
    "a"
   ]
  },
  {
   "cell_type": "code",
   "execution_count": 103,
   "id": "65607be2",
   "metadata": {},
   "outputs": [
    {
     "data": {
      "text/plain": [
       "20"
      ]
     },
     "execution_count": 103,
     "metadata": {},
     "output_type": "execute_result"
    }
   ],
   "source": [
    "b"
   ]
  },
  {
   "cell_type": "code",
   "execution_count": 104,
   "id": "9dc8d555",
   "metadata": {},
   "outputs": [
    {
     "data": {
      "text/plain": [
       "30"
      ]
     },
     "execution_count": 104,
     "metadata": {},
     "output_type": "execute_result"
    }
   ],
   "source": [
    "c"
   ]
  },
  {
   "cell_type": "code",
   "execution_count": 107,
   "id": "5df2e167",
   "metadata": {},
   "outputs": [
    {
     "data": {
      "text/plain": [
       "True"
      ]
     },
     "execution_count": 107,
     "metadata": {},
     "output_type": "execute_result"
    }
   ],
   "source": [
    " a< b and b < c and c>a"
   ]
  },
  {
   "cell_type": "code",
   "execution_count": 108,
   "id": "a48c7617",
   "metadata": {},
   "outputs": [
    {
     "data": {
      "text/plain": [
       "True"
      ]
     },
     "execution_count": 108,
     "metadata": {},
     "output_type": "execute_result"
    }
   ],
   "source": [
    "True or False or False or False"
   ]
  },
  {
   "cell_type": "code",
   "execution_count": 109,
   "id": "892432cf",
   "metadata": {},
   "outputs": [
    {
     "data": {
      "text/plain": [
       "False"
      ]
     },
     "execution_count": 109,
     "metadata": {},
     "output_type": "execute_result"
    }
   ],
   "source": [
    "False or False"
   ]
  },
  {
   "cell_type": "code",
   "execution_count": 112,
   "id": "03620546",
   "metadata": {},
   "outputs": [
    {
     "data": {
      "text/plain": [
       "True"
      ]
     },
     "execution_count": 112,
     "metadata": {},
     "output_type": "execute_result"
    }
   ],
   "source": [
    " (a > b or b < c) and c>a"
   ]
  },
  {
   "cell_type": "code",
   "execution_count": 113,
   "id": "c6c1f93d",
   "metadata": {},
   "outputs": [],
   "source": [
    "#PEMDAS"
   ]
  },
  {
   "cell_type": "code",
   "execution_count": null,
   "id": "2477ec0d",
   "metadata": {},
   "outputs": [],
   "source": []
  },
  {
   "cell_type": "code",
   "execution_count": 114,
   "id": "84522b6c",
   "metadata": {},
   "outputs": [
    {
     "data": {
      "text/plain": [
       "False"
      ]
     },
     "execution_count": 114,
     "metadata": {},
     "output_type": "execute_result"
    }
   ],
   "source": [
    "not True"
   ]
  },
  {
   "cell_type": "code",
   "execution_count": 116,
   "id": "89e1d325",
   "metadata": {},
   "outputs": [
    {
     "data": {
      "text/plain": [
       "True"
      ]
     },
     "execution_count": 116,
     "metadata": {},
     "output_type": "execute_result"
    }
   ],
   "source": [
    "not a>b"
   ]
  },
  {
   "cell_type": "code",
   "execution_count": null,
   "id": "a8d8d2f4",
   "metadata": {},
   "outputs": [],
   "source": [
    "#membership operator"
   ]
  },
  {
   "cell_type": "code",
   "execution_count": null,
   "id": "9ed252ce",
   "metadata": {},
   "outputs": [],
   "source": [
    "list\n",
    "tuple\n",
    "set\n",
    "dict"
   ]
  },
  {
   "cell_type": "code",
   "execution_count": null,
   "id": "a9329734",
   "metadata": {},
   "outputs": [],
   "source": [
    "in \n",
    "not in"
   ]
  },
  {
   "cell_type": "code",
   "execution_count": 117,
   "id": "0d4df444",
   "metadata": {},
   "outputs": [],
   "source": [
    "p = [10,20,30,40,50]"
   ]
  },
  {
   "cell_type": "code",
   "execution_count": 118,
   "id": "f93aef2c",
   "metadata": {},
   "outputs": [
    {
     "data": {
      "text/plain": [
       "False"
      ]
     },
     "execution_count": 118,
     "metadata": {},
     "output_type": "execute_result"
    }
   ],
   "source": [
    "100 in p"
   ]
  },
  {
   "cell_type": "code",
   "execution_count": 119,
   "id": "8a22a642",
   "metadata": {},
   "outputs": [
    {
     "data": {
      "text/plain": [
       "True"
      ]
     },
     "execution_count": 119,
     "metadata": {},
     "output_type": "execute_result"
    }
   ],
   "source": [
    "20 in p"
   ]
  },
  {
   "cell_type": "code",
   "execution_count": 120,
   "id": "effee849",
   "metadata": {},
   "outputs": [
    {
     "data": {
      "text/plain": [
       "True"
      ]
     },
     "execution_count": 120,
     "metadata": {},
     "output_type": "execute_result"
    }
   ],
   "source": [
    "30 in p"
   ]
  },
  {
   "cell_type": "code",
   "execution_count": 121,
   "id": "670edf98",
   "metadata": {},
   "outputs": [
    {
     "data": {
      "text/plain": [
       "True"
      ]
     },
     "execution_count": 121,
     "metadata": {},
     "output_type": "execute_result"
    }
   ],
   "source": [
    "'p' in 'python'"
   ]
  },
  {
   "cell_type": "code",
   "execution_count": 122,
   "id": "58086071",
   "metadata": {},
   "outputs": [
    {
     "data": {
      "text/plain": [
       "[10, 20, 30, 40, 50]"
      ]
     },
     "execution_count": 122,
     "metadata": {},
     "output_type": "execute_result"
    }
   ],
   "source": [
    "p"
   ]
  },
  {
   "cell_type": "code",
   "execution_count": 123,
   "id": "2b641ca9",
   "metadata": {},
   "outputs": [
    {
     "data": {
      "text/plain": [
       "True"
      ]
     },
     "execution_count": 123,
     "metadata": {},
     "output_type": "execute_result"
    }
   ],
   "source": [
    "100 not in p"
   ]
  },
  {
   "cell_type": "code",
   "execution_count": 124,
   "id": "dbb8cfdc",
   "metadata": {},
   "outputs": [
    {
     "data": {
      "text/plain": [
       "False"
      ]
     },
     "execution_count": 124,
     "metadata": {},
     "output_type": "execute_result"
    }
   ],
   "source": [
    "20 not in p"
   ]
  },
  {
   "cell_type": "code",
   "execution_count": 126,
   "id": "835cfaf3",
   "metadata": {},
   "outputs": [],
   "source": [
    "d = {'a':1,'b':2}"
   ]
  },
  {
   "cell_type": "code",
   "execution_count": 127,
   "id": "bc11128a",
   "metadata": {},
   "outputs": [
    {
     "data": {
      "text/plain": [
       "True"
      ]
     },
     "execution_count": 127,
     "metadata": {},
     "output_type": "execute_result"
    }
   ],
   "source": [
    "'a' in d"
   ]
  },
  {
   "cell_type": "code",
   "execution_count": 128,
   "id": "4e860d88",
   "metadata": {},
   "outputs": [
    {
     "data": {
      "text/plain": [
       "False"
      ]
     },
     "execution_count": 128,
     "metadata": {},
     "output_type": "execute_result"
    }
   ],
   "source": [
    "'z' in d"
   ]
  },
  {
   "cell_type": "code",
   "execution_count": 129,
   "id": "aa8e36ea",
   "metadata": {},
   "outputs": [
    {
     "data": {
      "text/plain": [
       "False"
      ]
     },
     "execution_count": 129,
     "metadata": {},
     "output_type": "execute_result"
    }
   ],
   "source": [
    "10 in d.values()"
   ]
  },
  {
   "cell_type": "code",
   "execution_count": 130,
   "id": "fa33a6ab",
   "metadata": {},
   "outputs": [],
   "source": [
    "py_details = {'name':'Arun','Id':101,'Sal':45000}"
   ]
  },
  {
   "cell_type": "code",
   "execution_count": 131,
   "id": "54893564",
   "metadata": {},
   "outputs": [
    {
     "data": {
      "text/plain": [
       "{'name': 'Arun', 'Id': 101, 'Sal': 45000}"
      ]
     },
     "execution_count": 131,
     "metadata": {},
     "output_type": "execute_result"
    }
   ],
   "source": [
    "py_details"
   ]
  },
  {
   "cell_type": "code",
   "execution_count": 132,
   "id": "ff2111f0",
   "metadata": {},
   "outputs": [
    {
     "data": {
      "text/plain": [
       "False"
      ]
     },
     "execution_count": 132,
     "metadata": {},
     "output_type": "execute_result"
    }
   ],
   "source": [
    "101 in py_details"
   ]
  },
  {
   "cell_type": "code",
   "execution_count": 133,
   "id": "ef8b6fae",
   "metadata": {},
   "outputs": [
    {
     "data": {
      "text/plain": [
       "True"
      ]
     },
     "execution_count": 133,
     "metadata": {},
     "output_type": "execute_result"
    }
   ],
   "source": [
    "'name' in py_details"
   ]
  },
  {
   "cell_type": "code",
   "execution_count": 134,
   "id": "7aeb6f85",
   "metadata": {},
   "outputs": [
    {
     "data": {
      "text/plain": [
       "True"
      ]
     },
     "execution_count": 134,
     "metadata": {},
     "output_type": "execute_result"
    }
   ],
   "source": [
    "101 in py_details.values()"
   ]
  },
  {
   "cell_type": "code",
   "execution_count": 135,
   "id": "97c03aff",
   "metadata": {},
   "outputs": [],
   "source": [
    " i = 50"
   ]
  },
  {
   "cell_type": "code",
   "execution_count": 140,
   "id": "403afc47",
   "metadata": {},
   "outputs": [],
   "source": [
    "i+=5 # i=i+5"
   ]
  },
  {
   "cell_type": "code",
   "execution_count": 141,
   "id": "80df1d8d",
   "metadata": {},
   "outputs": [
    {
     "data": {
      "text/plain": [
       "65"
      ]
     },
     "execution_count": 141,
     "metadata": {},
     "output_type": "execute_result"
    }
   ],
   "source": [
    "i"
   ]
  },
  {
   "cell_type": "code",
   "execution_count": 151,
   "id": "4a4a3ee4",
   "metadata": {},
   "outputs": [],
   "source": [
    "p = 1"
   ]
  },
  {
   "cell_type": "code",
   "execution_count": 152,
   "id": "22441b6e",
   "metadata": {},
   "outputs": [],
   "source": [
    "p+=1"
   ]
  },
  {
   "cell_type": "code",
   "execution_count": 153,
   "id": "f3d2ef84",
   "metadata": {},
   "outputs": [
    {
     "data": {
      "text/plain": [
       "2"
      ]
     },
     "execution_count": 153,
     "metadata": {},
     "output_type": "execute_result"
    }
   ],
   "source": [
    "p"
   ]
  },
  {
   "cell_type": "code",
   "execution_count": 168,
   "id": "5955b07d",
   "metadata": {},
   "outputs": [],
   "source": [
    "p = 50"
   ]
  },
  {
   "cell_type": "code",
   "execution_count": 169,
   "id": "ed3554dc",
   "metadata": {},
   "outputs": [],
   "source": [
    "temp = []\n",
    "while p<500:\n",
    "    temp_var = f\"IT_DEPT_{p}\"\n",
    "    temp.append(temp_var)\n",
    "    \n",
    "    p+=1"
   ]
  },
  {
   "cell_type": "code",
   "execution_count": 170,
   "id": "17a95776",
   "metadata": {},
   "outputs": [
    {
     "data": {
      "text/plain": [
       "['IT_DEPT_50',\n",
       " 'IT_DEPT_51',\n",
       " 'IT_DEPT_52',\n",
       " 'IT_DEPT_53',\n",
       " 'IT_DEPT_54',\n",
       " 'IT_DEPT_55',\n",
       " 'IT_DEPT_56',\n",
       " 'IT_DEPT_57',\n",
       " 'IT_DEPT_58',\n",
       " 'IT_DEPT_59',\n",
       " 'IT_DEPT_60',\n",
       " 'IT_DEPT_61',\n",
       " 'IT_DEPT_62',\n",
       " 'IT_DEPT_63',\n",
       " 'IT_DEPT_64',\n",
       " 'IT_DEPT_65',\n",
       " 'IT_DEPT_66',\n",
       " 'IT_DEPT_67',\n",
       " 'IT_DEPT_68',\n",
       " 'IT_DEPT_69',\n",
       " 'IT_DEPT_70',\n",
       " 'IT_DEPT_71',\n",
       " 'IT_DEPT_72',\n",
       " 'IT_DEPT_73',\n",
       " 'IT_DEPT_74',\n",
       " 'IT_DEPT_75',\n",
       " 'IT_DEPT_76',\n",
       " 'IT_DEPT_77',\n",
       " 'IT_DEPT_78',\n",
       " 'IT_DEPT_79',\n",
       " 'IT_DEPT_80',\n",
       " 'IT_DEPT_81',\n",
       " 'IT_DEPT_82',\n",
       " 'IT_DEPT_83',\n",
       " 'IT_DEPT_84',\n",
       " 'IT_DEPT_85',\n",
       " 'IT_DEPT_86',\n",
       " 'IT_DEPT_87',\n",
       " 'IT_DEPT_88',\n",
       " 'IT_DEPT_89',\n",
       " 'IT_DEPT_90',\n",
       " 'IT_DEPT_91',\n",
       " 'IT_DEPT_92',\n",
       " 'IT_DEPT_93',\n",
       " 'IT_DEPT_94',\n",
       " 'IT_DEPT_95',\n",
       " 'IT_DEPT_96',\n",
       " 'IT_DEPT_97',\n",
       " 'IT_DEPT_98',\n",
       " 'IT_DEPT_99',\n",
       " 'IT_DEPT_100',\n",
       " 'IT_DEPT_101',\n",
       " 'IT_DEPT_102',\n",
       " 'IT_DEPT_103',\n",
       " 'IT_DEPT_104',\n",
       " 'IT_DEPT_105',\n",
       " 'IT_DEPT_106',\n",
       " 'IT_DEPT_107',\n",
       " 'IT_DEPT_108',\n",
       " 'IT_DEPT_109',\n",
       " 'IT_DEPT_110',\n",
       " 'IT_DEPT_111',\n",
       " 'IT_DEPT_112',\n",
       " 'IT_DEPT_113',\n",
       " 'IT_DEPT_114',\n",
       " 'IT_DEPT_115',\n",
       " 'IT_DEPT_116',\n",
       " 'IT_DEPT_117',\n",
       " 'IT_DEPT_118',\n",
       " 'IT_DEPT_119',\n",
       " 'IT_DEPT_120',\n",
       " 'IT_DEPT_121',\n",
       " 'IT_DEPT_122',\n",
       " 'IT_DEPT_123',\n",
       " 'IT_DEPT_124',\n",
       " 'IT_DEPT_125',\n",
       " 'IT_DEPT_126',\n",
       " 'IT_DEPT_127',\n",
       " 'IT_DEPT_128',\n",
       " 'IT_DEPT_129',\n",
       " 'IT_DEPT_130',\n",
       " 'IT_DEPT_131',\n",
       " 'IT_DEPT_132',\n",
       " 'IT_DEPT_133',\n",
       " 'IT_DEPT_134',\n",
       " 'IT_DEPT_135',\n",
       " 'IT_DEPT_136',\n",
       " 'IT_DEPT_137',\n",
       " 'IT_DEPT_138',\n",
       " 'IT_DEPT_139',\n",
       " 'IT_DEPT_140',\n",
       " 'IT_DEPT_141',\n",
       " 'IT_DEPT_142',\n",
       " 'IT_DEPT_143',\n",
       " 'IT_DEPT_144',\n",
       " 'IT_DEPT_145',\n",
       " 'IT_DEPT_146',\n",
       " 'IT_DEPT_147',\n",
       " 'IT_DEPT_148',\n",
       " 'IT_DEPT_149',\n",
       " 'IT_DEPT_150',\n",
       " 'IT_DEPT_151',\n",
       " 'IT_DEPT_152',\n",
       " 'IT_DEPT_153',\n",
       " 'IT_DEPT_154',\n",
       " 'IT_DEPT_155',\n",
       " 'IT_DEPT_156',\n",
       " 'IT_DEPT_157',\n",
       " 'IT_DEPT_158',\n",
       " 'IT_DEPT_159',\n",
       " 'IT_DEPT_160',\n",
       " 'IT_DEPT_161',\n",
       " 'IT_DEPT_162',\n",
       " 'IT_DEPT_163',\n",
       " 'IT_DEPT_164',\n",
       " 'IT_DEPT_165',\n",
       " 'IT_DEPT_166',\n",
       " 'IT_DEPT_167',\n",
       " 'IT_DEPT_168',\n",
       " 'IT_DEPT_169',\n",
       " 'IT_DEPT_170',\n",
       " 'IT_DEPT_171',\n",
       " 'IT_DEPT_172',\n",
       " 'IT_DEPT_173',\n",
       " 'IT_DEPT_174',\n",
       " 'IT_DEPT_175',\n",
       " 'IT_DEPT_176',\n",
       " 'IT_DEPT_177',\n",
       " 'IT_DEPT_178',\n",
       " 'IT_DEPT_179',\n",
       " 'IT_DEPT_180',\n",
       " 'IT_DEPT_181',\n",
       " 'IT_DEPT_182',\n",
       " 'IT_DEPT_183',\n",
       " 'IT_DEPT_184',\n",
       " 'IT_DEPT_185',\n",
       " 'IT_DEPT_186',\n",
       " 'IT_DEPT_187',\n",
       " 'IT_DEPT_188',\n",
       " 'IT_DEPT_189',\n",
       " 'IT_DEPT_190',\n",
       " 'IT_DEPT_191',\n",
       " 'IT_DEPT_192',\n",
       " 'IT_DEPT_193',\n",
       " 'IT_DEPT_194',\n",
       " 'IT_DEPT_195',\n",
       " 'IT_DEPT_196',\n",
       " 'IT_DEPT_197',\n",
       " 'IT_DEPT_198',\n",
       " 'IT_DEPT_199',\n",
       " 'IT_DEPT_200',\n",
       " 'IT_DEPT_201',\n",
       " 'IT_DEPT_202',\n",
       " 'IT_DEPT_203',\n",
       " 'IT_DEPT_204',\n",
       " 'IT_DEPT_205',\n",
       " 'IT_DEPT_206',\n",
       " 'IT_DEPT_207',\n",
       " 'IT_DEPT_208',\n",
       " 'IT_DEPT_209',\n",
       " 'IT_DEPT_210',\n",
       " 'IT_DEPT_211',\n",
       " 'IT_DEPT_212',\n",
       " 'IT_DEPT_213',\n",
       " 'IT_DEPT_214',\n",
       " 'IT_DEPT_215',\n",
       " 'IT_DEPT_216',\n",
       " 'IT_DEPT_217',\n",
       " 'IT_DEPT_218',\n",
       " 'IT_DEPT_219',\n",
       " 'IT_DEPT_220',\n",
       " 'IT_DEPT_221',\n",
       " 'IT_DEPT_222',\n",
       " 'IT_DEPT_223',\n",
       " 'IT_DEPT_224',\n",
       " 'IT_DEPT_225',\n",
       " 'IT_DEPT_226',\n",
       " 'IT_DEPT_227',\n",
       " 'IT_DEPT_228',\n",
       " 'IT_DEPT_229',\n",
       " 'IT_DEPT_230',\n",
       " 'IT_DEPT_231',\n",
       " 'IT_DEPT_232',\n",
       " 'IT_DEPT_233',\n",
       " 'IT_DEPT_234',\n",
       " 'IT_DEPT_235',\n",
       " 'IT_DEPT_236',\n",
       " 'IT_DEPT_237',\n",
       " 'IT_DEPT_238',\n",
       " 'IT_DEPT_239',\n",
       " 'IT_DEPT_240',\n",
       " 'IT_DEPT_241',\n",
       " 'IT_DEPT_242',\n",
       " 'IT_DEPT_243',\n",
       " 'IT_DEPT_244',\n",
       " 'IT_DEPT_245',\n",
       " 'IT_DEPT_246',\n",
       " 'IT_DEPT_247',\n",
       " 'IT_DEPT_248',\n",
       " 'IT_DEPT_249',\n",
       " 'IT_DEPT_250',\n",
       " 'IT_DEPT_251',\n",
       " 'IT_DEPT_252',\n",
       " 'IT_DEPT_253',\n",
       " 'IT_DEPT_254',\n",
       " 'IT_DEPT_255',\n",
       " 'IT_DEPT_256',\n",
       " 'IT_DEPT_257',\n",
       " 'IT_DEPT_258',\n",
       " 'IT_DEPT_259',\n",
       " 'IT_DEPT_260',\n",
       " 'IT_DEPT_261',\n",
       " 'IT_DEPT_262',\n",
       " 'IT_DEPT_263',\n",
       " 'IT_DEPT_264',\n",
       " 'IT_DEPT_265',\n",
       " 'IT_DEPT_266',\n",
       " 'IT_DEPT_267',\n",
       " 'IT_DEPT_268',\n",
       " 'IT_DEPT_269',\n",
       " 'IT_DEPT_270',\n",
       " 'IT_DEPT_271',\n",
       " 'IT_DEPT_272',\n",
       " 'IT_DEPT_273',\n",
       " 'IT_DEPT_274',\n",
       " 'IT_DEPT_275',\n",
       " 'IT_DEPT_276',\n",
       " 'IT_DEPT_277',\n",
       " 'IT_DEPT_278',\n",
       " 'IT_DEPT_279',\n",
       " 'IT_DEPT_280',\n",
       " 'IT_DEPT_281',\n",
       " 'IT_DEPT_282',\n",
       " 'IT_DEPT_283',\n",
       " 'IT_DEPT_284',\n",
       " 'IT_DEPT_285',\n",
       " 'IT_DEPT_286',\n",
       " 'IT_DEPT_287',\n",
       " 'IT_DEPT_288',\n",
       " 'IT_DEPT_289',\n",
       " 'IT_DEPT_290',\n",
       " 'IT_DEPT_291',\n",
       " 'IT_DEPT_292',\n",
       " 'IT_DEPT_293',\n",
       " 'IT_DEPT_294',\n",
       " 'IT_DEPT_295',\n",
       " 'IT_DEPT_296',\n",
       " 'IT_DEPT_297',\n",
       " 'IT_DEPT_298',\n",
       " 'IT_DEPT_299',\n",
       " 'IT_DEPT_300',\n",
       " 'IT_DEPT_301',\n",
       " 'IT_DEPT_302',\n",
       " 'IT_DEPT_303',\n",
       " 'IT_DEPT_304',\n",
       " 'IT_DEPT_305',\n",
       " 'IT_DEPT_306',\n",
       " 'IT_DEPT_307',\n",
       " 'IT_DEPT_308',\n",
       " 'IT_DEPT_309',\n",
       " 'IT_DEPT_310',\n",
       " 'IT_DEPT_311',\n",
       " 'IT_DEPT_312',\n",
       " 'IT_DEPT_313',\n",
       " 'IT_DEPT_314',\n",
       " 'IT_DEPT_315',\n",
       " 'IT_DEPT_316',\n",
       " 'IT_DEPT_317',\n",
       " 'IT_DEPT_318',\n",
       " 'IT_DEPT_319',\n",
       " 'IT_DEPT_320',\n",
       " 'IT_DEPT_321',\n",
       " 'IT_DEPT_322',\n",
       " 'IT_DEPT_323',\n",
       " 'IT_DEPT_324',\n",
       " 'IT_DEPT_325',\n",
       " 'IT_DEPT_326',\n",
       " 'IT_DEPT_327',\n",
       " 'IT_DEPT_328',\n",
       " 'IT_DEPT_329',\n",
       " 'IT_DEPT_330',\n",
       " 'IT_DEPT_331',\n",
       " 'IT_DEPT_332',\n",
       " 'IT_DEPT_333',\n",
       " 'IT_DEPT_334',\n",
       " 'IT_DEPT_335',\n",
       " 'IT_DEPT_336',\n",
       " 'IT_DEPT_337',\n",
       " 'IT_DEPT_338',\n",
       " 'IT_DEPT_339',\n",
       " 'IT_DEPT_340',\n",
       " 'IT_DEPT_341',\n",
       " 'IT_DEPT_342',\n",
       " 'IT_DEPT_343',\n",
       " 'IT_DEPT_344',\n",
       " 'IT_DEPT_345',\n",
       " 'IT_DEPT_346',\n",
       " 'IT_DEPT_347',\n",
       " 'IT_DEPT_348',\n",
       " 'IT_DEPT_349',\n",
       " 'IT_DEPT_350',\n",
       " 'IT_DEPT_351',\n",
       " 'IT_DEPT_352',\n",
       " 'IT_DEPT_353',\n",
       " 'IT_DEPT_354',\n",
       " 'IT_DEPT_355',\n",
       " 'IT_DEPT_356',\n",
       " 'IT_DEPT_357',\n",
       " 'IT_DEPT_358',\n",
       " 'IT_DEPT_359',\n",
       " 'IT_DEPT_360',\n",
       " 'IT_DEPT_361',\n",
       " 'IT_DEPT_362',\n",
       " 'IT_DEPT_363',\n",
       " 'IT_DEPT_364',\n",
       " 'IT_DEPT_365',\n",
       " 'IT_DEPT_366',\n",
       " 'IT_DEPT_367',\n",
       " 'IT_DEPT_368',\n",
       " 'IT_DEPT_369',\n",
       " 'IT_DEPT_370',\n",
       " 'IT_DEPT_371',\n",
       " 'IT_DEPT_372',\n",
       " 'IT_DEPT_373',\n",
       " 'IT_DEPT_374',\n",
       " 'IT_DEPT_375',\n",
       " 'IT_DEPT_376',\n",
       " 'IT_DEPT_377',\n",
       " 'IT_DEPT_378',\n",
       " 'IT_DEPT_379',\n",
       " 'IT_DEPT_380',\n",
       " 'IT_DEPT_381',\n",
       " 'IT_DEPT_382',\n",
       " 'IT_DEPT_383',\n",
       " 'IT_DEPT_384',\n",
       " 'IT_DEPT_385',\n",
       " 'IT_DEPT_386',\n",
       " 'IT_DEPT_387',\n",
       " 'IT_DEPT_388',\n",
       " 'IT_DEPT_389',\n",
       " 'IT_DEPT_390',\n",
       " 'IT_DEPT_391',\n",
       " 'IT_DEPT_392',\n",
       " 'IT_DEPT_393',\n",
       " 'IT_DEPT_394',\n",
       " 'IT_DEPT_395',\n",
       " 'IT_DEPT_396',\n",
       " 'IT_DEPT_397',\n",
       " 'IT_DEPT_398',\n",
       " 'IT_DEPT_399',\n",
       " 'IT_DEPT_400',\n",
       " 'IT_DEPT_401',\n",
       " 'IT_DEPT_402',\n",
       " 'IT_DEPT_403',\n",
       " 'IT_DEPT_404',\n",
       " 'IT_DEPT_405',\n",
       " 'IT_DEPT_406',\n",
       " 'IT_DEPT_407',\n",
       " 'IT_DEPT_408',\n",
       " 'IT_DEPT_409',\n",
       " 'IT_DEPT_410',\n",
       " 'IT_DEPT_411',\n",
       " 'IT_DEPT_412',\n",
       " 'IT_DEPT_413',\n",
       " 'IT_DEPT_414',\n",
       " 'IT_DEPT_415',\n",
       " 'IT_DEPT_416',\n",
       " 'IT_DEPT_417',\n",
       " 'IT_DEPT_418',\n",
       " 'IT_DEPT_419',\n",
       " 'IT_DEPT_420',\n",
       " 'IT_DEPT_421',\n",
       " 'IT_DEPT_422',\n",
       " 'IT_DEPT_423',\n",
       " 'IT_DEPT_424',\n",
       " 'IT_DEPT_425',\n",
       " 'IT_DEPT_426',\n",
       " 'IT_DEPT_427',\n",
       " 'IT_DEPT_428',\n",
       " 'IT_DEPT_429',\n",
       " 'IT_DEPT_430',\n",
       " 'IT_DEPT_431',\n",
       " 'IT_DEPT_432',\n",
       " 'IT_DEPT_433',\n",
       " 'IT_DEPT_434',\n",
       " 'IT_DEPT_435',\n",
       " 'IT_DEPT_436',\n",
       " 'IT_DEPT_437',\n",
       " 'IT_DEPT_438',\n",
       " 'IT_DEPT_439',\n",
       " 'IT_DEPT_440',\n",
       " 'IT_DEPT_441',\n",
       " 'IT_DEPT_442',\n",
       " 'IT_DEPT_443',\n",
       " 'IT_DEPT_444',\n",
       " 'IT_DEPT_445',\n",
       " 'IT_DEPT_446',\n",
       " 'IT_DEPT_447',\n",
       " 'IT_DEPT_448',\n",
       " 'IT_DEPT_449',\n",
       " 'IT_DEPT_450',\n",
       " 'IT_DEPT_451',\n",
       " 'IT_DEPT_452',\n",
       " 'IT_DEPT_453',\n",
       " 'IT_DEPT_454',\n",
       " 'IT_DEPT_455',\n",
       " 'IT_DEPT_456',\n",
       " 'IT_DEPT_457',\n",
       " 'IT_DEPT_458',\n",
       " 'IT_DEPT_459',\n",
       " 'IT_DEPT_460',\n",
       " 'IT_DEPT_461',\n",
       " 'IT_DEPT_462',\n",
       " 'IT_DEPT_463',\n",
       " 'IT_DEPT_464',\n",
       " 'IT_DEPT_465',\n",
       " 'IT_DEPT_466',\n",
       " 'IT_DEPT_467',\n",
       " 'IT_DEPT_468',\n",
       " 'IT_DEPT_469',\n",
       " 'IT_DEPT_470',\n",
       " 'IT_DEPT_471',\n",
       " 'IT_DEPT_472',\n",
       " 'IT_DEPT_473',\n",
       " 'IT_DEPT_474',\n",
       " 'IT_DEPT_475',\n",
       " 'IT_DEPT_476',\n",
       " 'IT_DEPT_477',\n",
       " 'IT_DEPT_478',\n",
       " 'IT_DEPT_479',\n",
       " 'IT_DEPT_480',\n",
       " 'IT_DEPT_481',\n",
       " 'IT_DEPT_482',\n",
       " 'IT_DEPT_483',\n",
       " 'IT_DEPT_484',\n",
       " 'IT_DEPT_485',\n",
       " 'IT_DEPT_486',\n",
       " 'IT_DEPT_487',\n",
       " 'IT_DEPT_488',\n",
       " 'IT_DEPT_489',\n",
       " 'IT_DEPT_490',\n",
       " 'IT_DEPT_491',\n",
       " 'IT_DEPT_492',\n",
       " 'IT_DEPT_493',\n",
       " 'IT_DEPT_494',\n",
       " 'IT_DEPT_495',\n",
       " 'IT_DEPT_496',\n",
       " 'IT_DEPT_497',\n",
       " 'IT_DEPT_498',\n",
       " 'IT_DEPT_499']"
      ]
     },
     "execution_count": 170,
     "metadata": {},
     "output_type": "execute_result"
    }
   ],
   "source": [
    "temp"
   ]
  },
  {
   "cell_type": "code",
   "execution_count": 171,
   "id": "ac7a09da",
   "metadata": {},
   "outputs": [],
   "source": [
    "t = 100"
   ]
  },
  {
   "cell_type": "code",
   "execution_count": 176,
   "id": "17be0c2d",
   "metadata": {},
   "outputs": [],
   "source": [
    "t-=10"
   ]
  },
  {
   "cell_type": "code",
   "execution_count": 177,
   "id": "f1670304",
   "metadata": {},
   "outputs": [
    {
     "data": {
      "text/plain": [
       "70"
      ]
     },
     "execution_count": 177,
     "metadata": {},
     "output_type": "execute_result"
    }
   ],
   "source": [
    "t"
   ]
  },
  {
   "cell_type": "code",
   "execution_count": null,
   "id": "06fbe455",
   "metadata": {},
   "outputs": [],
   "source": [
    "+= ---> addition and assign\n",
    "-= ---> sub and assign\n",
    "*=  ---> mul and assign\n",
    "/= ---> div and assign"
   ]
  },
  {
   "cell_type": "code",
   "execution_count": null,
   "id": "124b8f27",
   "metadata": {},
   "outputs": [],
   "source": []
  },
  {
   "cell_type": "code",
   "execution_count": null,
   "id": "7e9b3247",
   "metadata": {},
   "outputs": [],
   "source": []
  },
  {
   "cell_type": "code",
   "execution_count": null,
   "id": "a6464e1b",
   "metadata": {},
   "outputs": [],
   "source": []
  }
 ],
 "metadata": {
  "kernelspec": {
   "display_name": "Python 3",
   "language": "python",
   "name": "python3"
  },
  "language_info": {
   "codemirror_mode": {
    "name": "ipython",
    "version": 3
   },
   "file_extension": ".py",
   "mimetype": "text/x-python",
   "name": "python",
   "nbconvert_exporter": "python",
   "pygments_lexer": "ipython3",
   "version": "3.8.8"
  }
 },
 "nbformat": 4,
 "nbformat_minor": 5
}

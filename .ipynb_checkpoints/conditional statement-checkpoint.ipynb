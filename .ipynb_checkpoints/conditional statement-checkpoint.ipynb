{
 "cells": [
  {
   "cell_type": "code",
   "execution_count": 1,
   "id": "3fed1d58",
   "metadata": {},
   "outputs": [
    {
     "name": "stdout",
     "output_type": "stream",
     "text": [
      "hi\n",
      "bye\n",
      "welcome again\n",
      "Bye\n"
     ]
    }
   ],
   "source": [
    "print(\"hi\")\n",
    "print(\"bye\")\n",
    "print(\"welcome again\")\n",
    "print(\"Bye\")"
   ]
  },
  {
   "cell_type": "code",
   "execution_count": null,
   "id": "aa4adce4",
   "metadata": {},
   "outputs": [],
   "source": [
    "condition/branching statement/flow control statement\n",
    "1.simple if\n",
    "2.if-else\n",
    "3.if-else ladder\n",
    "4.nested if-else"
   ]
  },
  {
   "cell_type": "code",
   "execution_count": 4,
   "id": "63eaf8c5",
   "metadata": {},
   "outputs": [
    {
     "ename": "IndentationError",
     "evalue": "expected an indented block (<ipython-input-4-937ce14baeb2>, line 3)",
     "output_type": "error",
     "traceback": [
      "\u001b[1;36m  File \u001b[1;32m\"<ipython-input-4-937ce14baeb2>\"\u001b[1;36m, line \u001b[1;32m3\u001b[0m\n\u001b[1;33m    print(\"Age is too young\")\u001b[0m\n\u001b[1;37m    ^\u001b[0m\n\u001b[1;31mIndentationError\u001b[0m\u001b[1;31m:\u001b[0m expected an indented block\n"
     ]
    }
   ],
   "source": [
    "age = int(input(\"Enter the age:\"))\n",
    "if age>25:\n",
    "    print(\"Age is too young\") \n",
    "else:\n",
    "    print(\"Age is too old\")\n",
    "print(\"Bye\")\n",
    "print(\"asdfsdfsdf\")"
   ]
  },
  {
   "cell_type": "code",
   "execution_count": null,
   "id": "c924f523",
   "metadata": {},
   "outputs": [],
   "source": [
    "#simple if\n",
    "#if we are having only one condition "
   ]
  },
  {
   "cell_type": "code",
   "execution_count": 8,
   "id": "edd118ba",
   "metadata": {},
   "outputs": [
    {
     "name": "stdout",
     "output_type": "stream",
     "text": [
      "Enter the age:35\n",
      "Please Take Booster Dose compulsory\n",
      "Thanks for visiting\n"
     ]
    }
   ],
   "source": [
    "age = int(input(\"Enter the age:\"))\n",
    "if age>=35:\n",
    "    print(\"Please Take Booster Dose compulsory\")\n",
    "print(\"Thanks for visiting\")"
   ]
  },
  {
   "cell_type": "code",
   "execution_count": null,
   "id": "51ba7a38",
   "metadata": {},
   "outputs": [],
   "source": [
    "#Assigment email valid "
   ]
  },
  {
   "cell_type": "code",
   "execution_count": null,
   "id": "4b7dbddd",
   "metadata": {},
   "outputs": [],
   "source": [
    "symtax:\n",
    "    if condition: True\n",
    "        block of code"
   ]
  },
  {
   "cell_type": "code",
   "execution_count": 9,
   "id": "1e44c18a",
   "metadata": {},
   "outputs": [],
   "source": [
    "#if-else statement\n",
    "when we have two condtion opposite"
   ]
  },
  {
   "cell_type": "code",
   "execution_count": null,
   "id": "a1689c0b",
   "metadata": {},
   "outputs": [],
   "source": [
    "if condition:\n",
    "    block of code- if \n",
    "else:\n",
    "    block of code -else"
   ]
  },
  {
   "cell_type": "code",
   "execution_count": 11,
   "id": "8e4e10b0",
   "metadata": {},
   "outputs": [
    {
     "name": "stdout",
     "output_type": "stream",
     "text": [
      "Enter the age:25\n",
      "Age is too young\n",
      "Bye\n",
      "asdfsdfsdf\n"
     ]
    }
   ],
   "source": [
    "age = int(input(\"Enter the age:\"))\n",
    "if age>=25:\n",
    "    print(\"Age is too young\") \n",
    "else:\n",
    "    print(\"Age is too old\")\n",
    "print(\"Bye\")\n",
    "print(\"asdfsdfsdf\")"
   ]
  },
  {
   "cell_type": "code",
   "execution_count": 12,
   "id": "b435c23e",
   "metadata": {},
   "outputs": [],
   "source": [
    "#number ----> even or odd"
   ]
  },
  {
   "cell_type": "code",
   "execution_count": 22,
   "id": "8cd78e27",
   "metadata": {},
   "outputs": [
    {
     "name": "stdout",
     "output_type": "stream",
     "text": [
      "Enter the number:12\n",
      "Given number 12 is Even\n",
      "thanks for using our service\n"
     ]
    }
   ],
   "source": [
    "no = int(input(\"Enter the number:\"))\n",
    "if no%2==0:\n",
    "    print(\"Given number {} is {}\".format(no,\"even\".capitalize()))\n",
    "else:\n",
    "    print(\"Given number {} is {}\".format(no,\"odd\".upper()))\n",
    "print(\"thanks for using our service\")"
   ]
  },
  {
   "cell_type": "code",
   "execution_count": 23,
   "id": "4b7568d3",
   "metadata": {},
   "outputs": [],
   "source": [
    "#Note : else never having condition"
   ]
  },
  {
   "cell_type": "code",
   "execution_count": 24,
   "id": "e2bab058",
   "metadata": {},
   "outputs": [],
   "source": [
    "#if-else ladder"
   ]
  },
  {
   "cell_type": "code",
   "execution_count": null,
   "id": "96e98d52",
   "metadata": {},
   "outputs": [],
   "source": [
    "if condition1:\n",
    "    body\n",
    "    \n",
    "elif condition 2:\n",
    "    body\n",
    "elif condition 3:\n",
    "    body\n",
    "elif condition n:\n",
    "    body \n",
    "else:\n",
    "    defualt\n",
    "\n"
   ]
  },
  {
   "cell_type": "code",
   "execution_count": 36,
   "id": "56d1ec69",
   "metadata": {},
   "outputs": [
    {
     "data": {
      "text/plain": [
       "'\\nage > 55\\nbooster\\nage > 35 and < 55\\ni and ii dose\\na> 18 and < 35\\npls regster --->\\na<18 \\npl wait for turn\\n\\ninvalid age\\n'"
      ]
     },
     "execution_count": 36,
     "metadata": {},
     "output_type": "execute_result"
    }
   ],
   "source": [
    "# problem statement\n",
    "'''\n",
    "age > 55\n",
    "booster\n",
    "age > 35 and < 55\n",
    "i and ii dose\n",
    "a> 18 and < 35\n",
    "pls regster --->\n",
    "a<18 \n",
    "pl wait for turn\n",
    "\n",
    "invalid age\n",
    "'''"
   ]
  },
  {
   "cell_type": "code",
   "execution_count": 35,
   "id": "96e3b249",
   "metadata": {},
   "outputs": [
    {
     "name": "stdout",
     "output_type": "stream",
     "text": [
      "Enter the age:18\n",
      "wait\n",
      "bye\n"
     ]
    }
   ],
   "source": [
    "age = int(input(\"Enter the age:\"))\n",
    "if age>=55 and age<=100:\n",
    "    print(\"Please take booster\")\n",
    "elif age>=35 and age<=55:\n",
    "    print(\"i and II\")\n",
    "elif age>18 and age<=35:\n",
    "    print(\"pls register\")\n",
    "elif age<=18:\n",
    "    print(\"wait\")\n",
    "else:\n",
    "    print(\"invalid age\")\n",
    "print(\"bye\")    "
   ]
  },
  {
   "cell_type": "code",
   "execution_count": null,
   "id": "94e21655",
   "metadata": {},
   "outputs": [],
   "source": [
    "input = filename = 'test.txt'\n",
    "\n",
    "\n",
    "Processing pdf file  \n",
    "\n",
    "positvie or negative\n",
    "\n"
   ]
  },
  {
   "cell_type": "code",
   "execution_count": null,
   "id": "7539f9fe",
   "metadata": {},
   "outputs": [],
   "source": [
    "numeric ---  sub ,super\n",
    "\n",
    "digit -- lang --\n",
    "\n",
    "decimal -- 0-9"
   ]
  },
  {
   "cell_type": "code",
   "execution_count": null,
   "id": "0c2863f2",
   "metadata": {},
   "outputs": [],
   "source": []
  },
  {
   "cell_type": "code",
   "execution_count": null,
   "id": "09a4da20",
   "metadata": {},
   "outputs": [],
   "source": []
  },
  {
   "cell_type": "code",
   "execution_count": 3,
   "id": "d3eaa4bd",
   "metadata": {},
   "outputs": [
    {
     "name": "stdout",
     "output_type": "stream",
     "text": [
      "Enter the filename:kdfsdf\n",
      "invalid file\n"
     ]
    }
   ],
   "source": [
    "filename = input(\"Enter the filename:\")\n",
    "\n",
    "if filename.endswith(\".pdf\"):\n",
    "    print(\"the file is PDF file\")\n",
    "elif filename.endswith(\".txt\"):\n",
    "    print(\"the file is text file\")\n",
    "else :\n",
    "    print (\"invalid file\")"
   ]
  },
  {
   "cell_type": "code",
   "execution_count": 6,
   "id": "7bd23b0a",
   "metadata": {},
   "outputs": [
    {
     "name": "stdout",
     "output_type": "stream",
     "text": [
      "10\n"
     ]
    },
    {
     "data": {
      "text/plain": [
       "'10'"
      ]
     },
     "execution_count": 6,
     "metadata": {},
     "output_type": "execute_result"
    }
   ],
   "source": [
    "\n",
    "input()"
   ]
  },
  {
   "cell_type": "code",
   "execution_count": 7,
   "id": "9bfd84ba",
   "metadata": {},
   "outputs": [],
   "source": [
    "a=100"
   ]
  },
  {
   "cell_type": "code",
   "execution_count": 8,
   "id": "23c6b491",
   "metadata": {},
   "outputs": [],
   "source": [
    "a = \"100.56\""
   ]
  },
  {
   "cell_type": "code",
   "execution_count": 11,
   "id": "02a4f61f",
   "metadata": {},
   "outputs": [
    {
     "data": {
      "text/plain": [
       "100"
      ]
     },
     "execution_count": 11,
     "metadata": {},
     "output_type": "execute_result"
    }
   ],
   "source": [
    "int(float(a))"
   ]
  },
  {
   "cell_type": "code",
   "execution_count": 17,
   "id": "3c4ef18b",
   "metadata": {},
   "outputs": [
    {
     "name": "stdout",
     "output_type": "stream",
     "text": [
      "Enter the filename:test.txt\n",
      "Processoing txt\n"
     ]
    }
   ],
   "source": [
    "filename = input(\"Enter the filename:\")\n",
    "try:\n",
    "    \n",
    "    if filename.split(\".\")[1] in ['pdf','txt','xlsx']:\n",
    "        print(\"Processoing {}\".format(filename.split(\".\")[1]))\n",
    "    else:\n",
    "        print(\"invalid file\")\n",
    "except IndexError as msg:\n",
    "    print(\"Please check filename:\",msg)\n"
   ]
  },
  {
   "cell_type": "code",
   "execution_count": 18,
   "id": "cce32850",
   "metadata": {},
   "outputs": [
    {
     "data": {
      "text/plain": [
       "False"
      ]
     },
     "execution_count": 18,
     "metadata": {},
     "output_type": "execute_result"
    }
   ],
   "source": [
    "100 in [10,3,4,57]"
   ]
  },
  {
   "cell_type": "code",
   "execution_count": null,
   "id": "e5d5f4ea",
   "metadata": {},
   "outputs": [],
   "source": [
    "#string ----> substring ---- present \n",
    "find === if present --- index \n",
    "if not -1"
   ]
  },
  {
   "cell_type": "code",
   "execution_count": null,
   "id": "14a698bf",
   "metadata": {},
   "outputs": [],
   "source": []
  },
  {
   "cell_type": "code",
   "execution_count": null,
   "id": "b4d1ced6",
   "metadata": {},
   "outputs": [],
   "source": [
    "a = \"Python  is a simple lang\"\n",
    "inputestr = input(\"Enter the string:\")\n",
    "if a.find(inputestr)!=-1:\n",
    "    print(f\"given {inputestr} is present\")\n",
    "else:\n",
    "    print(f\"given {inputestr} is not present\")"
   ]
  },
  {
   "cell_type": "code",
   "execution_count": 29,
   "id": "b9317026",
   "metadata": {},
   "outputs": [
    {
     "name": "stdout",
     "output_type": "stream",
     "text": [
      "Enter the email id:awefasdfsdafdsf@fsdafa\n",
      "Given email id is invalid\n",
      "Thank you for your input\n"
     ]
    }
   ],
   "source": [
    "p = input('Enter the email id:')\n",
    " \n",
    "if p.find('@gmail.com')>=0 or p.find('@yahoo.com')>=0  :\n",
    "    print('Given email id is valid')\n",
    "else :\n",
    "    print('Given email id is invalid')\n",
    "print('Thank you for your input')"
   ]
  },
  {
   "cell_type": "code",
   "execution_count": 30,
   "id": "3f6f96b3",
   "metadata": {},
   "outputs": [
    {
     "name": "stdout",
     "output_type": "stream",
     "text": [
      "Hey welcome , Please enter the email IDamit@gmail.com\n",
      "The given email ID : amit@gmail.com is valid\n"
     ]
    }
   ],
   "source": [
    "#Program to check whether the given email ID is correct or not .\n",
    "emailID=input(\"Hey welcome , Please enter the email ID\")\n",
    "if emailID.endswith('@gmail.com') or emailID.endswith('@hotmail.com') or emailID.endswith('@rediffmail.com'):\n",
    "    print(f'The given email ID : {emailID} is valid')\n",
    "else :\n",
    "    print(f'The given emai ID : {emailID} is not valid')"
   ]
  },
  {
   "cell_type": "code",
   "execution_count": 31,
   "id": "e7025b73",
   "metadata": {},
   "outputs": [
    {
     "name": "stdout",
     "output_type": "stream",
     "text": [
      "Hey welcome , Please enter the email IDasdflkksnadfsdl@gmail.com\n",
      "The given email ID : gmail.com is valid\n"
     ]
    }
   ],
   "source": [
    "domain=input(\"Hey welcome , Please enter the email ID\").split('@')[1]\n",
    "if domain in ['gmail.com','hotmail.com','yahoo.com']:\n",
    "    print(f'The given email ID : {domain} is valid')\n",
    "else :\n",
    "    print(f'The given emai ID : {domain} is not valid')"
   ]
  },
  {
   "cell_type": "code",
   "execution_count": 32,
   "id": "65ba291d",
   "metadata": {},
   "outputs": [],
   "source": [
    "p = ['fsdf@gmail.com','asfdasdfsd@gmail','asdfasdfsdf@gmail.com','asdfasdfasdf@sdfasdf']"
   ]
  },
  {
   "cell_type": "code",
   "execution_count": 33,
   "id": "ce7c0a6f",
   "metadata": {},
   "outputs": [
    {
     "data": {
      "text/plain": [
       "['fsdf@gmail.com', 'asdfasdfsdf@gmail.com']"
      ]
     },
     "execution_count": 33,
     "metadata": {},
     "output_type": "execute_result"
    }
   ],
   "source": []
  },
  {
   "cell_type": "code",
   "execution_count": 35,
   "id": "d8a2af29",
   "metadata": {},
   "outputs": [
    {
     "name": "stdout",
     "output_type": "stream",
     "text": [
      "Enter Your Weight in kg: 68\n",
      "Enter Your Height in meters: 1.6\n",
      "Bhai tu thodasa overweight hai... thoda control rakh 26.562499999999996\n"
     ]
    }
   ],
   "source": [
    "wt = float(input(\"Enter Your Weight in kg: \"))\n",
    "ht = float(input('Enter Your Height in meters: '))\n",
    "bmi = (wt/(ht*ht))\n",
    "if bmi<= 18.5:\n",
    "    print('You are underweight, please thoda kha le bhai',bmi)\n",
    "elif bmi>18.5 and bmi<= 24.9:\n",
    "    print ('Mast weight hai bhidu.. aisei badhte reh!',bmi)\n",
    "elif bmi>24.9 and bmi<= 29.9:\n",
    "    print ('Bhai tu thodasa overweight hai... thoda control rakh',bmi)\n",
    "else:\n",
    "    print(\"invalid\")"
   ]
  },
  {
   "cell_type": "code",
   "execution_count": null,
   "id": "3f8551ad",
   "metadata": {},
   "outputs": [],
   "source": [
    "#nested if else"
   ]
  },
  {
   "cell_type": "code",
   "execution_count": null,
   "id": "1ff4b168",
   "metadata": {},
   "outputs": [],
   "source": [
    "if condition1:\n",
    "    if condition2:\n",
    "        body\n",
    "    else:\n",
    "else:\n",
    "    if \n",
    "    \n",
    "    \n",
    "    else"
   ]
  },
  {
   "cell_type": "code",
   "execution_count": null,
   "id": "a293ca88",
   "metadata": {},
   "outputs": [],
   "source": []
  },
  {
   "cell_type": "code",
   "execution_count": null,
   "id": "e2a7ea90",
   "metadata": {},
   "outputs": [],
   "source": []
  },
  {
   "cell_type": "code",
   "execution_count": null,
   "id": "12609408",
   "metadata": {},
   "outputs": [],
   "source": [
    "bonus \n",
    "\n",
    " sal > 50 \n",
    "    \n",
    "    city pune\n",
    "      \n",
    "        gen m\n",
    "            5 %\n",
    "        gen f\n",
    "            10%\n",
    "    city mumbai\n",
    "        gen m\n",
    "            5 %\n",
    "        gen f\n",
    "            10%\n",
    "sal< 50 :\n",
    "    city pune\n",
    "      \n",
    "        gen m\n",
    "            5 %\n",
    "        gen f\n",
    "            10%\n",
    "    city mumbai\n",
    "        gen m\n",
    "            5 %\n",
    "        gen f\n",
    "            10%\n",
    "    "
   ]
  },
  {
   "cell_type": "code",
   "execution_count": null,
   "id": "342e8395",
   "metadata": {},
   "outputs": [],
   "source": [
    "file\n",
    "\n",
    "  pdf \n",
    "     \n",
    "        process\n",
    "        \n",
    "        \n",
    "        opeartion\n",
    "    text \n",
    "    \n",
    "      x"
   ]
  },
  {
   "cell_type": "code",
   "execution_count": null,
   "id": "1301825c",
   "metadata": {},
   "outputs": [],
   "source": [
    "pdf ---> size --->\n",
    "pdf ----> name start -- gold ---> size is 100 ---."
   ]
  },
  {
   "cell_type": "code",
   "execution_count": null,
   "id": "57f6dcb3",
   "metadata": {},
   "outputs": [],
   "source": []
  },
  {
   "cell_type": "code",
   "execution_count": 43,
   "id": "4b50df65",
   "metadata": {},
   "outputs": [
    {
     "name": "stdout",
     "output_type": "stream",
     "text": [
      "Enter the status of first dosep[yes|No]:asdfsdf\n",
      "please take first dose\n"
     ]
    }
   ],
   "source": [
    "firstdose = input(\"Enter the status of first dosep[yes|No]:\").lower()[0:3]\n",
    "\n",
    "if firstdose=='yes':\n",
    "    s = input(\"Enter the second dose [yes|no]:\").lower()\n",
    "    if s=='yes':\n",
    "        b = input(\"Enter the status for booster['yes|no']:\").lower()\n",
    "        if b=='yes':\n",
    "            print(\"Relax bhai\")\n",
    "        else:\n",
    "            print(\"Take booster\")\n",
    "    else:\n",
    "        print(\"Please take second dose\")\n",
    "else:\n",
    "    print(\"please take first dose\")\n",
    "    "
   ]
  },
  {
   "cell_type": "code",
   "execution_count": null,
   "id": "8d868b6b",
   "metadata": {},
   "outputs": [],
   "source": [
    "#take state ---> city --> pincode"
   ]
  },
  {
   "cell_type": "code",
   "execution_count": null,
   "id": "ca7ca36b",
   "metadata": {},
   "outputs": [],
   "source": [
    "MH\n",
    " city\n",
    "    pune\n",
    "    \n",
    "     katraj \n",
    "        \n",
    "        pincode"
   ]
  }
 ],
 "metadata": {
  "kernelspec": {
   "display_name": "Python 3",
   "language": "python",
   "name": "python3"
  },
  "language_info": {
   "codemirror_mode": {
    "name": "ipython",
    "version": 3
   },
   "file_extension": ".py",
   "mimetype": "text/x-python",
   "name": "python",
   "nbconvert_exporter": "python",
   "pygments_lexer": "ipython3",
   "version": "3.8.8"
  }
 },
 "nbformat": 4,
 "nbformat_minor": 5
}

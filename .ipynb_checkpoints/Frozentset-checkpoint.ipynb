{
 "cells": [
  {
   "cell_type": "code",
   "execution_count": null,
   "id": "02ae6bca",
   "metadata": {},
   "outputs": [],
   "source": [
    "set \n",
    "\n",
    "mutable type\n",
    "\n",
    "\n",
    "frozenset \n",
    "imutable type"
   ]
  },
  {
   "cell_type": "code",
   "execution_count": 1,
   "id": "f04bc36a",
   "metadata": {},
   "outputs": [],
   "source": [
    "p = frozenset([1,2,3])"
   ]
  },
  {
   "cell_type": "code",
   "execution_count": 2,
   "id": "7d506bf3",
   "metadata": {},
   "outputs": [
    {
     "data": {
      "text/plain": [
       "frozenset({1, 2, 3})"
      ]
     },
     "execution_count": 2,
     "metadata": {},
     "output_type": "execute_result"
    }
   ],
   "source": [
    "p"
   ]
  },
  {
   "cell_type": "code",
   "execution_count": 3,
   "id": "847e99a6",
   "metadata": {},
   "outputs": [
    {
     "data": {
      "text/plain": [
       "frozenset"
      ]
     },
     "execution_count": 3,
     "metadata": {},
     "output_type": "execute_result"
    }
   ],
   "source": [
    "type(p)"
   ]
  },
  {
   "cell_type": "code",
   "execution_count": null,
   "id": "45ac1601",
   "metadata": {},
   "outputs": [],
   "source": [
    "set -- add,discard, update \n",
    "\n",
    "frozenset "
   ]
  },
  {
   "cell_type": "code",
   "execution_count": 4,
   "id": "56b74938",
   "metadata": {},
   "outputs": [],
   "source": [
    "t = (1,1,1,1,1,2,3)"
   ]
  },
  {
   "cell_type": "code",
   "execution_count": 5,
   "id": "7514c096",
   "metadata": {},
   "outputs": [
    {
     "data": {
      "text/plain": [
       "tuple"
      ]
     },
     "execution_count": 5,
     "metadata": {},
     "output_type": "execute_result"
    }
   ],
   "source": [
    "type(t)"
   ]
  },
  {
   "cell_type": "code",
   "execution_count": 6,
   "id": "a3c01885",
   "metadata": {},
   "outputs": [],
   "source": [
    "p = frozenset([1,1,1,1,2,3])"
   ]
  },
  {
   "cell_type": "code",
   "execution_count": 7,
   "id": "961d038b",
   "metadata": {},
   "outputs": [
    {
     "data": {
      "text/plain": [
       "frozenset({1, 2, 3})"
      ]
     },
     "execution_count": 7,
     "metadata": {},
     "output_type": "execute_result"
    }
   ],
   "source": [
    "p"
   ]
  },
  {
   "cell_type": "code",
   "execution_count": 8,
   "id": "911d3d17",
   "metadata": {},
   "outputs": [],
   "source": [
    "py_list = [1,34,5,67,78]"
   ]
  },
  {
   "cell_type": "code",
   "execution_count": 9,
   "id": "84b898f9",
   "metadata": {},
   "outputs": [
    {
     "data": {
      "text/plain": [
       "frozenset({1, 5, 34, 67, 78})"
      ]
     },
     "execution_count": 9,
     "metadata": {},
     "output_type": "execute_result"
    }
   ],
   "source": [
    "frozenset(py_list)"
   ]
  },
  {
   "cell_type": "code",
   "execution_count": null,
   "id": "7b98c40e",
   "metadata": {},
   "outputs": [],
   "source": [
    "set -- frozenset\n",
    "\n",
    "mutable    imutable type"
   ]
  }
 ],
 "metadata": {
  "kernelspec": {
   "display_name": "Python 3",
   "language": "python",
   "name": "python3"
  },
  "language_info": {
   "codemirror_mode": {
    "name": "ipython",
    "version": 3
   },
   "file_extension": ".py",
   "mimetype": "text/x-python",
   "name": "python",
   "nbconvert_exporter": "python",
   "pygments_lexer": "ipython3",
   "version": "3.8.8"
  }
 },
 "nbformat": 4,
 "nbformat_minor": 5
}

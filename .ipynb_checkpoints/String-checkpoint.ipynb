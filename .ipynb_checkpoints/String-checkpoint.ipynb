{
 "cells": [
  {
   "cell_type": "code",
   "execution_count": 1,
   "id": "ce2f374d",
   "metadata": {},
   "outputs": [
    {
     "name": "stdout",
     "output_type": "stream",
     "text": [
      "Enter the name:Pravin\n"
     ]
    }
   ],
   "source": [
    "x = input(\"Enter the name:\")"
   ]
  },
  {
   "cell_type": "code",
   "execution_count": 2,
   "id": "1089b16d",
   "metadata": {},
   "outputs": [
    {
     "data": {
      "text/plain": [
       "str"
      ]
     },
     "execution_count": 2,
     "metadata": {},
     "output_type": "execute_result"
    }
   ],
   "source": [
    "type(x)"
   ]
  },
  {
   "cell_type": "code",
   "execution_count": 3,
   "id": "9e77cd61",
   "metadata": {},
   "outputs": [],
   "source": [
    "p = 'kantilalchandre1@gmail.com'"
   ]
  },
  {
   "cell_type": "code",
   "execution_count": 4,
   "id": "95d36bf2",
   "metadata": {},
   "outputs": [
    {
     "data": {
      "text/plain": [
       "str"
      ]
     },
     "execution_count": 4,
     "metadata": {},
     "output_type": "execute_result"
    }
   ],
   "source": [
    "type(p)"
   ]
  },
  {
   "cell_type": "code",
   "execution_count": 6,
   "id": "5a25f1f7",
   "metadata": {},
   "outputs": [],
   "source": [
    "p = '123pythohn'"
   ]
  },
  {
   "cell_type": "code",
   "execution_count": null,
   "id": "da638edf",
   "metadata": {},
   "outputs": [],
   "source": [
    "' '\n",
    "\" \"\n",
    "''' '''\n",
    "\"\"\" \"\"\""
   ]
  },
  {
   "cell_type": "code",
   "execution_count": 7,
   "id": "4b14b892",
   "metadata": {},
   "outputs": [],
   "source": [
    "p = 'python is powerfull lang for ML'"
   ]
  },
  {
   "cell_type": "code",
   "execution_count": 8,
   "id": "6ffbf157",
   "metadata": {},
   "outputs": [
    {
     "data": {
      "text/plain": [
       "'python is powerfull lang for ML'"
      ]
     },
     "execution_count": 8,
     "metadata": {},
     "output_type": "execute_result"
    }
   ],
   "source": [
    "p"
   ]
  },
  {
   "cell_type": "code",
   "execution_count": 9,
   "id": "642bb9e6",
   "metadata": {},
   "outputs": [],
   "source": [
    "p = \"python is powerfull lang for ML\""
   ]
  },
  {
   "cell_type": "code",
   "execution_count": 10,
   "id": "c7cfdd7c",
   "metadata": {},
   "outputs": [
    {
     "data": {
      "text/plain": [
       "'python is powerfull lang for ML'"
      ]
     },
     "execution_count": 10,
     "metadata": {},
     "output_type": "execute_result"
    }
   ],
   "source": [
    "p"
   ]
  },
  {
   "cell_type": "code",
   "execution_count": 12,
   "id": "15286fd7",
   "metadata": {},
   "outputs": [],
   "source": [
    "p = \"python is powerfull lang for ML it's also used for Web Dev\""
   ]
  },
  {
   "cell_type": "code",
   "execution_count": 13,
   "id": "f185b4fe",
   "metadata": {},
   "outputs": [
    {
     "data": {
      "text/plain": [
       "\"python is powerfull lang for ML it's also used for Web Dev\""
      ]
     },
     "execution_count": 13,
     "metadata": {},
     "output_type": "execute_result"
    }
   ],
   "source": [
    "p"
   ]
  },
  {
   "cell_type": "code",
   "execution_count": 14,
   "id": "41edb931",
   "metadata": {},
   "outputs": [],
   "source": [
    "py_str = 'DS is the next generation Tech \"AI\" is main stream'"
   ]
  },
  {
   "cell_type": "code",
   "execution_count": 15,
   "id": "5bdb3d13",
   "metadata": {},
   "outputs": [
    {
     "data": {
      "text/plain": [
       "'DS is the next generation Tech \"AI\" is main stream'"
      ]
     },
     "execution_count": 15,
     "metadata": {},
     "output_type": "execute_result"
    }
   ],
   "source": [
    "py_str"
   ]
  },
  {
   "cell_type": "code",
   "execution_count": null,
   "id": "fe711265",
   "metadata": {},
   "outputs": [],
   "source": [
    "' --> \"\"\n",
    "\" -->' "
   ]
  },
  {
   "cell_type": "code",
   "execution_count": 20,
   "id": "de5b33c7",
   "metadata": {},
   "outputs": [],
   "source": [
    "py = \"\"\"The normal distribution is a continuous probability distribution that \n",
    "is symmetrical on both sides of the mean, so the right side of the center is a\n",
    "mirror image of the left side. The area under the normal distribution curve represents \n",
    "probability and the total area under the curve sums to one.\"\"\""
   ]
  },
  {
   "cell_type": "code",
   "execution_count": 21,
   "id": "c60a91e0",
   "metadata": {},
   "outputs": [
    {
     "data": {
      "text/plain": [
       "'The normal distribution is a continuous probability distribution that \\nis symmetrical on both sides of the mean, so the right side of the center is a\\nmirror image of the left side. The area under the normal distribution curve represents \\nprobability and the total area under the curve sums to one.'"
      ]
     },
     "execution_count": 21,
     "metadata": {},
     "output_type": "execute_result"
    }
   ],
   "source": [
    "py"
   ]
  },
  {
   "cell_type": "code",
   "execution_count": null,
   "id": "b9690480",
   "metadata": {},
   "outputs": [],
   "source": [
    "' ' --- > single without '\n",
    "\" \"\n",
    "''' '''\n",
    "\"\"\" \"\"\""
   ]
  },
  {
   "cell_type": "code",
   "execution_count": 22,
   "id": "2724426d",
   "metadata": {},
   "outputs": [],
   "source": [
    "#interview \n",
    "#what is Doc String?"
   ]
  },
  {
   "cell_type": "code",
   "execution_count": 23,
   "id": "cc825a84",
   "metadata": {},
   "outputs": [],
   "source": [
    "#Doc is documented string"
   ]
  },
  {
   "cell_type": "code",
   "execution_count": 24,
   "id": "78e588aa",
   "metadata": {},
   "outputs": [],
   "source": [
    "#how define string\n"
   ]
  },
  {
   "cell_type": "code",
   "execution_count": 27,
   "id": "7edef941",
   "metadata": {},
   "outputs": [],
   "source": [
    "#DGDFGDSFGDFSSG"
   ]
  },
  {
   "cell_type": "code",
   "execution_count": 28,
   "id": "1cfb8412",
   "metadata": {},
   "outputs": [],
   "source": [
    "py_str = 'Python'"
   ]
  },
  {
   "cell_type": "code",
   "execution_count": 29,
   "id": "434f61ba",
   "metadata": {},
   "outputs": [
    {
     "data": {
      "text/plain": [
       "str"
      ]
     },
     "execution_count": 29,
     "metadata": {},
     "output_type": "execute_result"
    }
   ],
   "source": [
    "type(py_str)"
   ]
  },
  {
   "cell_type": "code",
   "execution_count": 30,
   "id": "861576df",
   "metadata": {},
   "outputs": [],
   "source": [
    "p = 'python'"
   ]
  },
  {
   "cell_type": "code",
   "execution_count": 31,
   "id": "bf55168f",
   "metadata": {},
   "outputs": [
    {
     "data": {
      "text/plain": [
       "'PYTHON'"
      ]
     },
     "execution_count": 31,
     "metadata": {},
     "output_type": "execute_result"
    }
   ],
   "source": [
    "p.upper()"
   ]
  },
  {
   "cell_type": "code",
   "execution_count": null,
   "id": "2efe6cc2",
   "metadata": {},
   "outputs": [],
   "source": [
    "#Theroy\n",
    "\n",
    "String --\n",
    "\n",
    "it is immutable DS\n",
    "it is zero based index DS\n",
    "it is orderd type"
   ]
  },
  {
   "cell_type": "code",
   "execution_count": null,
   "id": "20c7126e",
   "metadata": {},
   "outputs": [],
   "source": [
    "p ---> insert/update/delete ---> changable --> mutable --> unhashable\n",
    "p  ---> read only ---> immutable type unchangable --> hashable"
   ]
  },
  {
   "cell_type": "code",
   "execution_count": 33,
   "id": "f3387580",
   "metadata": {},
   "outputs": [],
   "source": [
    "p = [1,2,3]"
   ]
  },
  {
   "cell_type": "code",
   "execution_count": 34,
   "id": "cda5ff5a",
   "metadata": {},
   "outputs": [],
   "source": [
    "p.insert(2,100)"
   ]
  },
  {
   "cell_type": "code",
   "execution_count": 35,
   "id": "e5ae5e6d",
   "metadata": {},
   "outputs": [
    {
     "data": {
      "text/plain": [
       "[1, 2, 100, 3]"
      ]
     },
     "execution_count": 35,
     "metadata": {},
     "output_type": "execute_result"
    }
   ],
   "source": [
    "p"
   ]
  },
  {
   "cell_type": "code",
   "execution_count": 36,
   "id": "26e4cf21",
   "metadata": {},
   "outputs": [],
   "source": [
    "p = (1,2,3)"
   ]
  },
  {
   "cell_type": "code",
   "execution_count": 37,
   "id": "486eb3aa",
   "metadata": {},
   "outputs": [
    {
     "ename": "AttributeError",
     "evalue": "'tuple' object has no attribute 'insert'",
     "output_type": "error",
     "traceback": [
      "\u001b[1;31m---------------------------------------------------------------------------\u001b[0m",
      "\u001b[1;31mAttributeError\u001b[0m                            Traceback (most recent call last)",
      "\u001b[1;32m<ipython-input-37-c2fd8a18961f>\u001b[0m in \u001b[0;36m<module>\u001b[1;34m\u001b[0m\n\u001b[1;32m----> 1\u001b[1;33m \u001b[0mp\u001b[0m\u001b[1;33m.\u001b[0m\u001b[0minsert\u001b[0m\u001b[1;33m(\u001b[0m\u001b[1;36m1\u001b[0m\u001b[1;33m,\u001b[0m\u001b[1;36m500\u001b[0m\u001b[1;33m)\u001b[0m\u001b[1;33m\u001b[0m\u001b[1;33m\u001b[0m\u001b[0m\n\u001b[0m",
      "\u001b[1;31mAttributeError\u001b[0m: 'tuple' object has no attribute 'insert'"
     ]
    }
   ],
   "source": [
    "p.insert(1,500)"
   ]
  },
  {
   "cell_type": "code",
   "execution_count": 38,
   "id": "efe8c5a3",
   "metadata": {},
   "outputs": [
    {
     "data": {
      "text/plain": [
       "'Python'"
      ]
     },
     "execution_count": 38,
     "metadata": {},
     "output_type": "execute_result"
    }
   ],
   "source": [
    "py_str"
   ]
  },
  {
   "cell_type": "code",
   "execution_count": 39,
   "id": "cded6ad2",
   "metadata": {},
   "outputs": [],
   "source": [
    "p = 'python'"
   ]
  },
  {
   "cell_type": "code",
   "execution_count": 41,
   "id": "9c6492e8",
   "metadata": {},
   "outputs": [],
   "source": [
    "temp = p.upper()"
   ]
  },
  {
   "cell_type": "code",
   "execution_count": 42,
   "id": "fa193999",
   "metadata": {},
   "outputs": [
    {
     "data": {
      "text/plain": [
       "'PYTHON'"
      ]
     },
     "execution_count": 42,
     "metadata": {},
     "output_type": "execute_result"
    }
   ],
   "source": [
    "temp"
   ]
  },
  {
   "cell_type": "code",
   "execution_count": 43,
   "id": "b1f5e414",
   "metadata": {},
   "outputs": [
    {
     "data": {
      "text/plain": [
       "'python'"
      ]
     },
     "execution_count": 43,
     "metadata": {},
     "output_type": "execute_result"
    }
   ],
   "source": [
    "p"
   ]
  },
  {
   "cell_type": "code",
   "execution_count": 44,
   "id": "c2f52c75",
   "metadata": {},
   "outputs": [],
   "source": [
    "p = 'JAVA'"
   ]
  },
  {
   "cell_type": "code",
   "execution_count": 45,
   "id": "a0894873",
   "metadata": {},
   "outputs": [
    {
     "data": {
      "text/plain": [
       "'java'"
      ]
     },
     "execution_count": 45,
     "metadata": {},
     "output_type": "execute_result"
    }
   ],
   "source": [
    "p.lower()"
   ]
  },
  {
   "cell_type": "code",
   "execution_count": null,
   "id": "c181bc48",
   "metadata": {},
   "outputs": [],
   "source": [
    "1.upper\n",
    "2.lower\n",
    "3."
   ]
  },
  {
   "cell_type": "code",
   "execution_count": 46,
   "id": "57479d4e",
   "metadata": {},
   "outputs": [],
   "source": [
    "p = 'JAVA'"
   ]
  },
  {
   "cell_type": "code",
   "execution_count": 47,
   "id": "82f0c011",
   "metadata": {},
   "outputs": [
    {
     "data": {
      "text/plain": [
       "'java'"
      ]
     },
     "execution_count": 47,
     "metadata": {},
     "output_type": "execute_result"
    }
   ],
   "source": [
    "p.swapcase()"
   ]
  },
  {
   "cell_type": "code",
   "execution_count": 48,
   "id": "a616f3da",
   "metadata": {},
   "outputs": [],
   "source": [
    "p = 'hadoop'"
   ]
  },
  {
   "cell_type": "code",
   "execution_count": 49,
   "id": "a7280878",
   "metadata": {},
   "outputs": [
    {
     "data": {
      "text/plain": [
       "'HADOOP'"
      ]
     },
     "execution_count": 49,
     "metadata": {},
     "output_type": "execute_result"
    }
   ],
   "source": [
    "p.swapcase()"
   ]
  },
  {
   "cell_type": "code",
   "execution_count": 50,
   "id": "6154aa2f",
   "metadata": {},
   "outputs": [],
   "source": [
    "p = 'PytToN'"
   ]
  },
  {
   "cell_type": "code",
   "execution_count": 51,
   "id": "6ef79fb1",
   "metadata": {},
   "outputs": [
    {
     "data": {
      "text/plain": [
       "'pYTtOn'"
      ]
     },
     "execution_count": 51,
     "metadata": {},
     "output_type": "execute_result"
    }
   ],
   "source": [
    "p.swapcase()"
   ]
  },
  {
   "cell_type": "code",
   "execution_count": 52,
   "id": "b134b06a",
   "metadata": {},
   "outputs": [],
   "source": [
    "p = 'python'"
   ]
  },
  {
   "cell_type": "code",
   "execution_count": 53,
   "id": "bec2edbd",
   "metadata": {},
   "outputs": [
    {
     "data": {
      "text/plain": [
       "'Python'"
      ]
     },
     "execution_count": 53,
     "metadata": {},
     "output_type": "execute_result"
    }
   ],
   "source": [
    "p.capitalize()"
   ]
  },
  {
   "cell_type": "code",
   "execution_count": 54,
   "id": "648c9c6c",
   "metadata": {},
   "outputs": [
    {
     "data": {
      "text/plain": [
       "'python'"
      ]
     },
     "execution_count": 54,
     "metadata": {},
     "output_type": "execute_result"
    }
   ],
   "source": [
    "p"
   ]
  },
  {
   "cell_type": "code",
   "execution_count": 81,
   "id": "f21fda97",
   "metadata": {},
   "outputs": [],
   "source": [
    "p = 'it Is a python Class.@#$%^&*'"
   ]
  },
  {
   "cell_type": "code",
   "execution_count": 72,
   "id": "cc23e59a",
   "metadata": {},
   "outputs": [
    {
     "data": {
      "text/plain": [
       "'It is a python class.@#$%^&*'"
      ]
     },
     "execution_count": 72,
     "metadata": {},
     "output_type": "execute_result"
    }
   ],
   "source": [
    "p.capitalize()\n"
   ]
  },
  {
   "cell_type": "code",
   "execution_count": 73,
   "id": "5b77f7b3",
   "metadata": {},
   "outputs": [
    {
     "data": {
      "text/plain": [
       "'IT iS A PYTHON cLASS.@#$%^&*'"
      ]
     },
     "execution_count": 73,
     "metadata": {},
     "output_type": "execute_result"
    }
   ],
   "source": [
    "p.swapcase()"
   ]
  },
  {
   "cell_type": "code",
   "execution_count": 74,
   "id": "529fa3a4",
   "metadata": {},
   "outputs": [
    {
     "data": {
      "text/plain": [
       "str"
      ]
     },
     "execution_count": 74,
     "metadata": {},
     "output_type": "execute_result"
    }
   ],
   "source": [
    "type(p)"
   ]
  },
  {
   "cell_type": "code",
   "execution_count": 75,
   "id": "c4317de0",
   "metadata": {},
   "outputs": [],
   "source": [
    "p = 'scooden'"
   ]
  },
  {
   "cell_type": "code",
   "execution_count": 76,
   "id": "d653a7c8",
   "metadata": {},
   "outputs": [
    {
     "data": {
      "text/plain": [
       "'c'"
      ]
     },
     "execution_count": 76,
     "metadata": {},
     "output_type": "execute_result"
    }
   ],
   "source": [
    "p[1]"
   ]
  },
  {
   "cell_type": "code",
   "execution_count": 77,
   "id": "a66cf078",
   "metadata": {},
   "outputs": [
    {
     "data": {
      "text/plain": [
       "'n'"
      ]
     },
     "execution_count": 77,
     "metadata": {},
     "output_type": "execute_result"
    }
   ],
   "source": [
    "p[-1]"
   ]
  },
  {
   "cell_type": "code",
   "execution_count": 78,
   "id": "50801a49",
   "metadata": {},
   "outputs": [
    {
     "data": {
      "text/plain": [
       "'s'"
      ]
     },
     "execution_count": 78,
     "metadata": {},
     "output_type": "execute_result"
    }
   ],
   "source": [
    "p[0]"
   ]
  },
  {
   "cell_type": "code",
   "execution_count": 80,
   "id": "13c32885",
   "metadata": {},
   "outputs": [
    {
     "data": {
      "text/plain": [
       "'cood'"
      ]
     },
     "execution_count": 80,
     "metadata": {},
     "output_type": "execute_result"
    }
   ],
   "source": [
    "p[1:5] # slicing"
   ]
  },
  {
   "cell_type": "code",
   "execution_count": 82,
   "id": "8d603048",
   "metadata": {},
   "outputs": [
    {
     "data": {
      "text/plain": [
       "'it Is a python Class.@#$%^&*'"
      ]
     },
     "execution_count": 82,
     "metadata": {},
     "output_type": "execute_result"
    }
   ],
   "source": [
    "p"
   ]
  },
  {
   "cell_type": "code",
   "execution_count": 84,
   "id": "8a3bf006",
   "metadata": {},
   "outputs": [
    {
     "data": {
      "text/plain": [
       "'python'"
      ]
     },
     "execution_count": 84,
     "metadata": {},
     "output_type": "execute_result"
    }
   ],
   "source": [
    "p[8:14]"
   ]
  },
  {
   "cell_type": "code",
   "execution_count": 85,
   "id": "4555c77a",
   "metadata": {},
   "outputs": [],
   "source": [
    "p = 'test   '"
   ]
  },
  {
   "cell_type": "code",
   "execution_count": 86,
   "id": "823608bd",
   "metadata": {},
   "outputs": [
    {
     "data": {
      "text/plain": [
       "7"
      ]
     },
     "execution_count": 86,
     "metadata": {},
     "output_type": "execute_result"
    }
   ],
   "source": [
    "len(p)"
   ]
  },
  {
   "cell_type": "code",
   "execution_count": 87,
   "id": "d1e6c72e",
   "metadata": {},
   "outputs": [
    {
     "data": {
      "text/plain": [
       "' '"
      ]
     },
     "execution_count": 87,
     "metadata": {},
     "output_type": "execute_result"
    }
   ],
   "source": [
    "p[-1]"
   ]
  },
  {
   "cell_type": "code",
   "execution_count": 88,
   "id": "19024d1d",
   "metadata": {},
   "outputs": [],
   "source": [
    "p = '                        '"
   ]
  },
  {
   "cell_type": "code",
   "execution_count": 89,
   "id": "4ae3f74b",
   "metadata": {},
   "outputs": [
    {
     "data": {
      "text/plain": [
       "24"
      ]
     },
     "execution_count": 89,
     "metadata": {},
     "output_type": "execute_result"
    }
   ],
   "source": [
    "len(p)"
   ]
  },
  {
   "cell_type": "code",
   "execution_count": 90,
   "id": "764d7e5b",
   "metadata": {},
   "outputs": [],
   "source": [
    "p = 'test'"
   ]
  },
  {
   "cell_type": "code",
   "execution_count": 91,
   "id": "d24be6a4",
   "metadata": {},
   "outputs": [],
   "source": [
    "p1 = 'test '"
   ]
  },
  {
   "cell_type": "code",
   "execution_count": 92,
   "id": "2afc4db6",
   "metadata": {},
   "outputs": [
    {
     "data": {
      "text/plain": [
       "False"
      ]
     },
     "execution_count": 92,
     "metadata": {},
     "output_type": "execute_result"
    }
   ],
   "source": [
    "p==p1"
   ]
  },
  {
   "cell_type": "code",
   "execution_count": 96,
   "id": "3c648769",
   "metadata": {},
   "outputs": [],
   "source": [
    "t = {' '}"
   ]
  },
  {
   "cell_type": "code",
   "execution_count": 97,
   "id": "6357e889",
   "metadata": {},
   "outputs": [
    {
     "data": {
      "text/plain": [
       "set"
      ]
     },
     "execution_count": 97,
     "metadata": {},
     "output_type": "execute_result"
    }
   ],
   "source": [
    "type(t)"
   ]
  },
  {
   "cell_type": "code",
   "execution_count": 98,
   "id": "b70977a1",
   "metadata": {},
   "outputs": [
    {
     "data": {
      "text/plain": [
       "{' '}"
      ]
     },
     "execution_count": 98,
     "metadata": {},
     "output_type": "execute_result"
    }
   ],
   "source": [
    "t"
   ]
  },
  {
   "cell_type": "code",
   "execution_count": 99,
   "id": "ffcce1a0",
   "metadata": {},
   "outputs": [],
   "source": [
    "#how to remove space from string"
   ]
  },
  {
   "cell_type": "code",
   "execution_count": 100,
   "id": "a02b25a5",
   "metadata": {},
   "outputs": [],
   "source": [
    "p = '   python    '"
   ]
  },
  {
   "cell_type": "code",
   "execution_count": 101,
   "id": "e95fab7f",
   "metadata": {},
   "outputs": [
    {
     "data": {
      "text/plain": [
       "'   python    '"
      ]
     },
     "execution_count": 101,
     "metadata": {},
     "output_type": "execute_result"
    }
   ],
   "source": [
    "p"
   ]
  },
  {
   "cell_type": "code",
   "execution_count": 102,
   "id": "c912011e",
   "metadata": {},
   "outputs": [
    {
     "data": {
      "text/plain": [
       "'python'"
      ]
     },
     "execution_count": 102,
     "metadata": {},
     "output_type": "execute_result"
    }
   ],
   "source": [
    "p.strip()"
   ]
  },
  {
   "cell_type": "code",
   "execution_count": 103,
   "id": "4775e1a1",
   "metadata": {},
   "outputs": [
    {
     "data": {
      "text/plain": [
       "'python    '"
      ]
     },
     "execution_count": 103,
     "metadata": {},
     "output_type": "execute_result"
    }
   ],
   "source": [
    "p.lstrip()"
   ]
  },
  {
   "cell_type": "code",
   "execution_count": 104,
   "id": "fb341832",
   "metadata": {},
   "outputs": [
    {
     "data": {
      "text/plain": [
       "'   python'"
      ]
     },
     "execution_count": 104,
     "metadata": {},
     "output_type": "execute_result"
    }
   ],
   "source": [
    "p.rstrip()"
   ]
  },
  {
   "cell_type": "code",
   "execution_count": 105,
   "id": "03a407df",
   "metadata": {},
   "outputs": [],
   "source": [
    "#trip ---> end "
   ]
  },
  {
   "cell_type": "code",
   "execution_count": 107,
   "id": "343cdd13",
   "metadata": {},
   "outputs": [],
   "source": [
    "p = '      is the ML Sessiomn'"
   ]
  },
  {
   "cell_type": "code",
   "execution_count": 108,
   "id": "3da6cf73",
   "metadata": {},
   "outputs": [
    {
     "data": {
      "text/plain": [
       "'is the ML Sessiomn'"
      ]
     },
     "execution_count": 108,
     "metadata": {},
     "output_type": "execute_result"
    }
   ],
   "source": [
    "\n",
    "p.strip()"
   ]
  },
  {
   "cell_type": "code",
   "execution_count": 37,
   "id": "35d68673",
   "metadata": {},
   "outputs": [],
   "source": [
    "email  =  ['test@gmail.com','test24gmail.com','asdf@gmcom','tseet@sadf,mbn']"
   ]
  },
  {
   "cell_type": "code",
   "execution_count": null,
   "id": "98930ff5",
   "metadata": {},
   "outputs": [],
   "source": [
    "-- ending -- check @gmail.com"
   ]
  },
  {
   "cell_type": "code",
   "execution_count": null,
   "id": "e0e2e205",
   "metadata": {},
   "outputs": [],
   "source": [
    "startswith\n",
    "endswith"
   ]
  },
  {
   "cell_type": "code",
   "execution_count": 4,
   "id": "f447a13b",
   "metadata": {},
   "outputs": [],
   "source": [
    "p = 'test@gmail.com'"
   ]
  },
  {
   "cell_type": "code",
   "execution_count": 6,
   "id": "997e7094",
   "metadata": {},
   "outputs": [
    {
     "data": {
      "text/plain": [
       "False"
      ]
     },
     "execution_count": 6,
     "metadata": {},
     "output_type": "execute_result"
    }
   ],
   "source": [
    "p.endswith('@gmai.com')"
   ]
  },
  {
   "cell_type": "code",
   "execution_count": 7,
   "id": "7d71aa7e",
   "metadata": {},
   "outputs": [],
   "source": [
    "p = 'Python'"
   ]
  },
  {
   "cell_type": "code",
   "execution_count": 8,
   "id": "f0939236",
   "metadata": {},
   "outputs": [
    {
     "data": {
      "text/plain": [
       "True"
      ]
     },
     "execution_count": 8,
     "metadata": {},
     "output_type": "execute_result"
    }
   ],
   "source": [
    "p.endswith('n')"
   ]
  },
  {
   "cell_type": "code",
   "execution_count": 47,
   "id": "52aaa663",
   "metadata": {},
   "outputs": [],
   "source": [
    "p =  'Python is strong in AI'"
   ]
  },
  {
   "cell_type": "code",
   "execution_count": 16,
   "id": "09b144ab",
   "metadata": {},
   "outputs": [
    {
     "data": {
      "text/plain": [
       "False"
      ]
     },
     "execution_count": 16,
     "metadata": {},
     "output_type": "execute_result"
    }
   ],
   "source": [
    "p.endswith('aI')"
   ]
  },
  {
   "cell_type": "code",
   "execution_count": 15,
   "id": "21b3688b",
   "metadata": {},
   "outputs": [
    {
     "name": "stdout",
     "output_type": "stream",
     "text": [
      "Valid email test@gmail.com\n"
     ]
    }
   ],
   "source": [
    "for e in email:\n",
    "    if e.endswith('@gmail.com'):\n",
    "        print(\"Valid email\",e)\n",
    "    "
   ]
  },
  {
   "cell_type": "code",
   "execution_count": 17,
   "id": "90b34b59",
   "metadata": {},
   "outputs": [],
   "source": [
    "p = 'Hadoop'"
   ]
  },
  {
   "cell_type": "code",
   "execution_count": 19,
   "id": "52df19e9",
   "metadata": {},
   "outputs": [
    {
     "data": {
      "text/plain": [
       "False"
      ]
     },
     "execution_count": 19,
     "metadata": {},
     "output_type": "execute_result"
    }
   ],
   "source": [
    "p.endswith('Oop')"
   ]
  },
  {
   "cell_type": "code",
   "execution_count": 20,
   "id": "87994a51",
   "metadata": {},
   "outputs": [],
   "source": [
    "py = \"\"\"The normal distribution is a continuous probability distribution that \n",
    "is symmetrical on both sides of the mean, so the right side of the center is a\n",
    "mirror image of the left side. The area under the normal distribution curve represents \n",
    "probability and the total area under the curve sums to one.\"\"\""
   ]
  },
  {
   "cell_type": "code",
   "execution_count": 21,
   "id": "5b0ad418",
   "metadata": {},
   "outputs": [
    {
     "data": {
      "text/plain": [
       "'The normal distribution is a continuous probability distribution that \\nis symmetrical on both sides of the mean, so the right side of the center is a\\nmirror image of the left side. The area under the normal distribution curve represents \\nprobability and the total area under the curve sums to one.'"
      ]
     },
     "execution_count": 21,
     "metadata": {},
     "output_type": "execute_result"
    }
   ],
   "source": [
    "py"
   ]
  },
  {
   "cell_type": "code",
   "execution_count": 23,
   "id": "042a70d8",
   "metadata": {},
   "outputs": [
    {
     "data": {
      "text/plain": [
       "False"
      ]
     },
     "execution_count": 23,
     "metadata": {},
     "output_type": "execute_result"
    }
   ],
   "source": [
    "py.endswith('total area under the curve sums to one')"
   ]
  },
  {
   "cell_type": "code",
   "execution_count": 24,
   "id": "ac41fa1c",
   "metadata": {},
   "outputs": [],
   "source": [
    "product = ['PX31313','PX2342345',\"PX3543543\",'SA3423432','SE45345',\"PX3454534\"]"
   ]
  },
  {
   "cell_type": "code",
   "execution_count": 34,
   "id": "53e75472",
   "metadata": {},
   "outputs": [
    {
     "name": "stdout",
     "output_type": "stream",
     "text": [
      "PX31313 7 is valid\n",
      "PX2342345 9 is valid\n",
      "PX3543543 9 is valid\n",
      "SA3423432 9 is invalid\n",
      "SE45345 7 is invalid\n",
      "PX3454534 9 is valid\n"
     ]
    }
   ],
   "source": []
  },
  {
   "cell_type": "code",
   "execution_count": 26,
   "id": "0e19bdaa",
   "metadata": {},
   "outputs": [],
   "source": [
    "p = \"PX3543543\""
   ]
  },
  {
   "cell_type": "code",
   "execution_count": 27,
   "id": "cc4ca7c5",
   "metadata": {},
   "outputs": [
    {
     "data": {
      "text/plain": [
       "True"
      ]
     },
     "execution_count": 27,
     "metadata": {},
     "output_type": "execute_result"
    }
   ],
   "source": [
    "p.startswith('PX')"
   ]
  },
  {
   "cell_type": "code",
   "execution_count": 29,
   "id": "4b9cb73e",
   "metadata": {},
   "outputs": [],
   "source": [
    "file = ['testpdf','sample.txt','dfasdf.excel']"
   ]
  },
  {
   "cell_type": "code",
   "execution_count": 30,
   "id": "9d72e79a",
   "metadata": {},
   "outputs": [],
   "source": [
    "f = 'test.pdf'"
   ]
  },
  {
   "cell_type": "code",
   "execution_count": 35,
   "id": "d7d951f6",
   "metadata": {},
   "outputs": [
    {
     "data": {
      "text/plain": [
       "True"
      ]
     },
     "execution_count": 35,
     "metadata": {},
     "output_type": "execute_result"
    }
   ],
   "source": [
    "f.endswith('.pdf')"
   ]
  },
  {
   "cell_type": "code",
   "execution_count": null,
   "id": "c02037a1",
   "metadata": {},
   "outputs": [],
   "source": [
    "pdf --- .pdf"
   ]
  },
  {
   "cell_type": "code",
   "execution_count": null,
   "id": "3487bc4c",
   "metadata": {},
   "outputs": [],
   "source": [
    "code - that should general"
   ]
  },
  {
   "cell_type": "code",
   "execution_count": 36,
   "id": "cd0dd064",
   "metadata": {},
   "outputs": [],
   "source": [
    "# split method"
   ]
  },
  {
   "cell_type": "code",
   "execution_count": 95,
   "id": "1e95624b",
   "metadata": {},
   "outputs": [],
   "source": [
    "email = ['test@gmail.com', 'test24@gmail.com', 'asdf@gmail.com', 'tseet@gmail.com']"
   ]
  },
  {
   "cell_type": "code",
   "execution_count": 40,
   "id": "d900c173",
   "metadata": {},
   "outputs": [
    {
     "data": {
      "text/plain": [
       "['test@gmail.com', 'test24@gmail.com', 'asdf@gmail.com', 'tseet@gmail.com']"
      ]
     },
     "execution_count": 40,
     "metadata": {},
     "output_type": "execute_result"
    }
   ],
   "source": [
    "email"
   ]
  },
  {
   "cell_type": "code",
   "execution_count": null,
   "id": "20fc6ff8",
   "metadata": {},
   "outputs": [],
   "source": [
    "test.pdf\n",
    "sample.csv\n",
    "test1.excel\n",
    "test2.tsv"
   ]
  },
  {
   "cell_type": "code",
   "execution_count": null,
   "id": "4616809f",
   "metadata": {},
   "outputs": [],
   "source": [
    "split -- string break sep"
   ]
  },
  {
   "cell_type": "code",
   "execution_count": 41,
   "id": "d7de5513",
   "metadata": {},
   "outputs": [],
   "source": [
    "file = 'test.pdf'"
   ]
  },
  {
   "cell_type": "code",
   "execution_count": 45,
   "id": "093b466f",
   "metadata": {},
   "outputs": [
    {
     "data": {
      "text/plain": [
       "['test', 'pdf']"
      ]
     },
     "execution_count": 45,
     "metadata": {},
     "output_type": "execute_result"
    }
   ],
   "source": [
    "file.split('.')"
   ]
  },
  {
   "cell_type": "code",
   "execution_count": 46,
   "id": "1904f12a",
   "metadata": {},
   "outputs": [
    {
     "data": {
      "text/plain": [
       "'PX3543543'"
      ]
     },
     "execution_count": 46,
     "metadata": {},
     "output_type": "execute_result"
    }
   ],
   "source": [
    "p"
   ]
  },
  {
   "cell_type": "code",
   "execution_count": 48,
   "id": "4a349c4c",
   "metadata": {},
   "outputs": [
    {
     "data": {
      "text/plain": [
       "'Python is strong in AI'"
      ]
     },
     "execution_count": 48,
     "metadata": {},
     "output_type": "execute_result"
    }
   ],
   "source": [
    "p"
   ]
  },
  {
   "cell_type": "code",
   "execution_count": 50,
   "id": "4f8e763c",
   "metadata": {},
   "outputs": [
    {
     "data": {
      "text/plain": [
       "'strong'"
      ]
     },
     "execution_count": 50,
     "metadata": {},
     "output_type": "execute_result"
    }
   ],
   "source": [
    "p.split(\" \")[2]"
   ]
  },
  {
   "cell_type": "code",
   "execution_count": null,
   "id": "b571d4f3",
   "metadata": {},
   "outputs": [],
   "source": [
    "split ---> output ---> list"
   ]
  },
  {
   "cell_type": "code",
   "execution_count": 51,
   "id": "8f1046c5",
   "metadata": {},
   "outputs": [],
   "source": [
    "p = 'python' #> py hon"
   ]
  },
  {
   "cell_type": "code",
   "execution_count": 52,
   "id": "aea53ef7",
   "metadata": {},
   "outputs": [
    {
     "data": {
      "text/plain": [
       "['py', 'hon']"
      ]
     },
     "execution_count": 52,
     "metadata": {},
     "output_type": "execute_result"
    }
   ],
   "source": [
    "p.split('t')"
   ]
  },
  {
   "cell_type": "code",
   "execution_count": 55,
   "id": "63dbf04e",
   "metadata": {},
   "outputs": [],
   "source": [
    "p = 'scodeeen' # scod ''  'n'"
   ]
  },
  {
   "cell_type": "code",
   "execution_count": 56,
   "id": "d83cb0b6",
   "metadata": {},
   "outputs": [
    {
     "data": {
      "text/plain": [
       "['scod', '', '', 'n']"
      ]
     },
     "execution_count": 56,
     "metadata": {},
     "output_type": "execute_result"
    }
   ],
   "source": [
    "p.split('e')"
   ]
  },
  {
   "cell_type": "code",
   "execution_count": 71,
   "id": "1758fbb2",
   "metadata": {},
   "outputs": [],
   "source": [
    "a = 'kaaabcaaat'"
   ]
  },
  {
   "cell_type": "code",
   "execution_count": 72,
   "id": "f65d8c7b",
   "metadata": {},
   "outputs": [
    {
     "data": {
      "text/plain": [
       "['k', '', '', 'bc', '', '', '']"
      ]
     },
     "execution_count": 72,
     "metadata": {},
     "output_type": "execute_result"
    }
   ],
   "source": [
    "a.split('a')"
   ]
  },
  {
   "cell_type": "code",
   "execution_count": 79,
   "id": "85140bd3",
   "metadata": {},
   "outputs": [],
   "source": [
    " p  = 'PX31313X325435'"
   ]
  },
  {
   "cell_type": "code",
   "execution_count": 86,
   "id": "4db23894",
   "metadata": {},
   "outputs": [
    {
     "data": {
      "text/plain": [
       "'31313'"
      ]
     },
     "execution_count": 86,
     "metadata": {},
     "output_type": "execute_result"
    }
   ],
   "source": [
    "p.split('X')[1]"
   ]
  },
  {
   "cell_type": "code",
   "execution_count": 99,
   "id": "6ca8e143",
   "metadata": {},
   "outputs": [],
   "source": [
    "p = 'python@java@hadoop'"
   ]
  },
  {
   "cell_type": "code",
   "execution_count": 92,
   "id": "0f23aec5",
   "metadata": {},
   "outputs": [
    {
     "data": {
      "text/plain": [
       "['python', 'java', 'hadoop']"
      ]
     },
     "execution_count": 92,
     "metadata": {},
     "output_type": "execute_result"
    }
   ],
   "source": [
    "p.split('@')"
   ]
  },
  {
   "cell_type": "code",
   "execution_count": null,
   "id": "e61efdb2",
   "metadata": {},
   "outputs": [],
   "source": []
  },
  {
   "cell_type": "code",
   "execution_count": 101,
   "id": "46b235af",
   "metadata": {},
   "outputs": [],
   "source": [
    "x  = 'test'"
   ]
  },
  {
   "cell_type": "code",
   "execution_count": 102,
   "id": "df0ccacd",
   "metadata": {},
   "outputs": [
    {
     "data": {
      "text/plain": [
       "'test'"
      ]
     },
     "execution_count": 102,
     "metadata": {},
     "output_type": "execute_result"
    }
   ],
   "source": [
    "x"
   ]
  },
  {
   "cell_type": "code",
   "execution_count": null,
   "id": "0a0ea28a",
   "metadata": {},
   "outputs": [],
   "source": [
    "split -->"
   ]
  },
  {
   "cell_type": "code",
   "execution_count": null,
   "id": "a0dc46fc",
   "metadata": {},
   "outputs": [],
   "source": []
  },
  {
   "cell_type": "code",
   "execution_count": 1,
   "id": "f2d63322",
   "metadata": {},
   "outputs": [],
   "source": [
    "p = \"Python\""
   ]
  },
  {
   "cell_type": "code",
   "execution_count": 2,
   "id": "ace7f9c3",
   "metadata": {},
   "outputs": [
    {
     "data": {
      "text/plain": [
       "2"
      ]
     },
     "execution_count": 2,
     "metadata": {},
     "output_type": "execute_result"
    }
   ],
   "source": [
    "p.index('t')"
   ]
  },
  {
   "cell_type": "code",
   "execution_count": 3,
   "id": "4276ee3f",
   "metadata": {},
   "outputs": [
    {
     "data": {
      "text/plain": [
       "4"
      ]
     },
     "execution_count": 3,
     "metadata": {},
     "output_type": "execute_result"
    }
   ],
   "source": [
    "p.index('o')"
   ]
  },
  {
   "cell_type": "code",
   "execution_count": 4,
   "id": "4e1b3d36",
   "metadata": {},
   "outputs": [
    {
     "ename": "ValueError",
     "evalue": "substring not found",
     "output_type": "error",
     "traceback": [
      "\u001b[1;31m---------------------------------------------------------------------------\u001b[0m",
      "\u001b[1;31mValueError\u001b[0m                                Traceback (most recent call last)",
      "\u001b[1;32m<ipython-input-4-94e48038e658>\u001b[0m in \u001b[0;36m<module>\u001b[1;34m\u001b[0m\n\u001b[1;32m----> 1\u001b[1;33m \u001b[0mp\u001b[0m\u001b[1;33m.\u001b[0m\u001b[0mindex\u001b[0m\u001b[1;33m(\u001b[0m\u001b[1;34m'z'\u001b[0m\u001b[1;33m)\u001b[0m\u001b[1;33m\u001b[0m\u001b[1;33m\u001b[0m\u001b[0m\n\u001b[0m",
      "\u001b[1;31mValueError\u001b[0m: substring not found"
     ]
    }
   ],
   "source": [
    "p.index('z')"
   ]
  },
  {
   "cell_type": "code",
   "execution_count": 5,
   "id": "cf588ae8",
   "metadata": {},
   "outputs": [],
   "source": [
    "p = \"Scodeen\""
   ]
  },
  {
   "cell_type": "code",
   "execution_count": 6,
   "id": "e40d03cb",
   "metadata": {},
   "outputs": [
    {
     "data": {
      "text/plain": [
       "4"
      ]
     },
     "execution_count": 6,
     "metadata": {},
     "output_type": "execute_result"
    }
   ],
   "source": [
    "p.index('e')"
   ]
  },
  {
   "cell_type": "code",
   "execution_count": 7,
   "id": "329909ed",
   "metadata": {},
   "outputs": [
    {
     "data": {
      "text/plain": [
       "'Scodeen'"
      ]
     },
     "execution_count": 7,
     "metadata": {},
     "output_type": "execute_result"
    }
   ],
   "source": [
    "p"
   ]
  },
  {
   "cell_type": "code",
   "execution_count": 8,
   "id": "2172013d",
   "metadata": {},
   "outputs": [
    {
     "data": {
      "text/plain": [
       "1"
      ]
     },
     "execution_count": 8,
     "metadata": {},
     "output_type": "execute_result"
    }
   ],
   "source": [
    "p.find('code')"
   ]
  },
  {
   "cell_type": "code",
   "execution_count": 17,
   "id": "78d4f36c",
   "metadata": {},
   "outputs": [],
   "source": [
    "p = 'PX1232323'"
   ]
  },
  {
   "cell_type": "code",
   "execution_count": 10,
   "id": "dff154aa",
   "metadata": {},
   "outputs": [
    {
     "data": {
      "text/plain": [
       "0"
      ]
     },
     "execution_count": 10,
     "metadata": {},
     "output_type": "execute_result"
    }
   ],
   "source": [
    "p.find('PX')  #if given string is avilable then return its index number if not then return -1"
   ]
  },
  {
   "cell_type": "code",
   "execution_count": 11,
   "id": "26a655d7",
   "metadata": {},
   "outputs": [
    {
     "data": {
      "text/plain": [
       "-1"
      ]
     },
     "execution_count": 11,
     "metadata": {},
     "output_type": "execute_result"
    }
   ],
   "source": [
    "p.find('dffsdsdfsadf')"
   ]
  },
  {
   "cell_type": "code",
   "execution_count": 12,
   "id": "d17de623",
   "metadata": {},
   "outputs": [],
   "source": [
    "p = 'abc@gmail.com'"
   ]
  },
  {
   "cell_type": "code",
   "execution_count": 14,
   "id": "4af5368e",
   "metadata": {},
   "outputs": [
    {
     "data": {
      "text/plain": [
       "-1"
      ]
     },
     "execution_count": 14,
     "metadata": {},
     "output_type": "execute_result"
    }
   ],
   "source": [
    "p.find('@gma12il.com')"
   ]
  },
  {
   "cell_type": "code",
   "execution_count": 15,
   "id": "57fbd472",
   "metadata": {},
   "outputs": [
    {
     "data": {
      "text/plain": [
       "-1"
      ]
     },
     "execution_count": 15,
     "metadata": {},
     "output_type": "execute_result"
    }
   ],
   "source": [
    "p.find('23')"
   ]
  },
  {
   "cell_type": "code",
   "execution_count": 16,
   "id": "43216690",
   "metadata": {},
   "outputs": [
    {
     "data": {
      "text/plain": [
       "'abc@gmail.com'"
      ]
     },
     "execution_count": 16,
     "metadata": {},
     "output_type": "execute_result"
    }
   ],
   "source": [
    "p"
   ]
  },
  {
   "cell_type": "code",
   "execution_count": 18,
   "id": "a19bb650",
   "metadata": {},
   "outputs": [
    {
     "data": {
      "text/plain": [
       "'PX1232323'"
      ]
     },
     "execution_count": 18,
     "metadata": {},
     "output_type": "execute_result"
    }
   ],
   "source": [
    "p"
   ]
  },
  {
   "cell_type": "code",
   "execution_count": 19,
   "id": "b3e34786",
   "metadata": {},
   "outputs": [
    {
     "data": {
      "text/plain": [
       "3"
      ]
     },
     "execution_count": 19,
     "metadata": {},
     "output_type": "execute_result"
    }
   ],
   "source": [
    "p.find('23')"
   ]
  },
  {
   "cell_type": "code",
   "execution_count": 23,
   "id": "e7d21b69",
   "metadata": {},
   "outputs": [
    {
     "name": "stdout",
     "output_type": "stream",
     "text": [
      "Yes avilable\n"
     ]
    }
   ],
   "source": [
    "if p.find('543534') == -1:\n",
    "    print(\"Given string is not avilable in str\")\n",
    "else:\n",
    "    print(\"Yes avilable\")"
   ]
  },
  {
   "cell_type": "code",
   "execution_count": 24,
   "id": "0fba6e26",
   "metadata": {},
   "outputs": [
    {
     "data": {
      "text/plain": [
       "'PX1232323'"
      ]
     },
     "execution_count": 24,
     "metadata": {},
     "output_type": "execute_result"
    }
   ],
   "source": [
    "p"
   ]
  },
  {
   "cell_type": "code",
   "execution_count": 26,
   "id": "05fd763f",
   "metadata": {},
   "outputs": [
    {
     "data": {
      "text/plain": [
       "'PX1232323'"
      ]
     },
     "execution_count": 26,
     "metadata": {},
     "output_type": "execute_result"
    }
   ],
   "source": [
    "p"
   ]
  },
  {
   "cell_type": "code",
   "execution_count": 28,
   "id": "3059983a",
   "metadata": {},
   "outputs": [
    {
     "data": {
      "text/plain": [
       "3"
      ]
     },
     "execution_count": 28,
     "metadata": {},
     "output_type": "execute_result"
    }
   ],
   "source": [
    "p.count('23')"
   ]
  },
  {
   "cell_type": "code",
   "execution_count": 29,
   "id": "15bcf816",
   "metadata": {},
   "outputs": [
    {
     "data": {
      "text/plain": [
       "'PX1232323'"
      ]
     },
     "execution_count": 29,
     "metadata": {},
     "output_type": "execute_result"
    }
   ],
   "source": [
    "p"
   ]
  },
  {
   "cell_type": "code",
   "execution_count": 31,
   "id": "55effa5e",
   "metadata": {},
   "outputs": [
    {
     "data": {
      "text/plain": [
       "'                                   PX1232323                                    '"
      ]
     },
     "execution_count": 31,
     "metadata": {},
     "output_type": "execute_result"
    }
   ],
   "source": [
    "p.center(80)"
   ]
  },
  {
   "cell_type": "code",
   "execution_count": 32,
   "id": "a8ec503b",
   "metadata": {},
   "outputs": [
    {
     "data": {
      "text/plain": [
       "80"
      ]
     },
     "execution_count": 32,
     "metadata": {},
     "output_type": "execute_result"
    }
   ],
   "source": [
    "len('                                   PX1232323                                    ')"
   ]
  },
  {
   "cell_type": "code",
   "execution_count": 33,
   "id": "9de06e9e",
   "metadata": {},
   "outputs": [],
   "source": [
    "#imp method"
   ]
  },
  {
   "cell_type": "code",
   "execution_count": null,
   "id": "ee00cc11",
   "metadata": {},
   "outputs": [],
   "source": [
    "format()"
   ]
  },
  {
   "cell_type": "code",
   "execution_count": null,
   "id": "39a12ddc",
   "metadata": {},
   "outputs": [],
   "source": [
    "value --- perticular display"
   ]
  },
  {
   "cell_type": "code",
   "execution_count": 34,
   "id": "9f599d73",
   "metadata": {},
   "outputs": [],
   "source": [
    "a = 10"
   ]
  },
  {
   "cell_type": "code",
   "execution_count": 35,
   "id": "a1ca10e0",
   "metadata": {},
   "outputs": [],
   "source": [
    "b = 20"
   ]
  },
  {
   "cell_type": "code",
   "execution_count": 36,
   "id": "7dee3601",
   "metadata": {},
   "outputs": [],
   "source": [
    "c  = a+b"
   ]
  },
  {
   "cell_type": "code",
   "execution_count": null,
   "id": "2a8cb317",
   "metadata": {},
   "outputs": [],
   "source": [
    "Addition of 10 and 20 is 30"
   ]
  },
  {
   "cell_type": "code",
   "execution_count": 37,
   "id": "1a9e9fc8",
   "metadata": {},
   "outputs": [
    {
     "name": "stdout",
     "output_type": "stream",
     "text": [
      "Addition : 30\n"
     ]
    }
   ],
   "source": [
    "print(\"Addition :\",c)"
   ]
  },
  {
   "cell_type": "code",
   "execution_count": 38,
   "id": "f7f627da",
   "metadata": {},
   "outputs": [
    {
     "data": {
      "text/plain": [
       "'Addition of 10 and 20 is 30 '"
      ]
     },
     "execution_count": 38,
     "metadata": {},
     "output_type": "execute_result"
    }
   ],
   "source": [
    "\"Addition of {} and {} is {} \".format(a,b,c)"
   ]
  },
  {
   "cell_type": "code",
   "execution_count": null,
   "id": "4b4b6a9a",
   "metadata": {},
   "outputs": [],
   "source": [
    "filename = Test_03/03/2022"
   ]
  },
  {
   "cell_type": "code",
   "execution_count": 39,
   "id": "468468eb",
   "metadata": {},
   "outputs": [],
   "source": [
    "import datetime"
   ]
  },
  {
   "cell_type": "code",
   "execution_count": 42,
   "id": "64ac5d8d",
   "metadata": {},
   "outputs": [],
   "source": [
    "cdtime = datetime.datetime.now()"
   ]
  },
  {
   "cell_type": "code",
   "execution_count": null,
   "id": "4d7a48d4",
   "metadata": {},
   "outputs": [],
   "source": []
  },
  {
   "cell_type": "code",
   "execution_count": 43,
   "id": "7f91c3f1",
   "metadata": {},
   "outputs": [],
   "source": [
    "filename = \"Test_{}\".format(cdtime)"
   ]
  },
  {
   "cell_type": "code",
   "execution_count": 44,
   "id": "638409a8",
   "metadata": {},
   "outputs": [
    {
     "data": {
      "text/plain": [
       "'Test_2022-03-03 20:31:04.158193'"
      ]
     },
     "execution_count": 44,
     "metadata": {},
     "output_type": "execute_result"
    }
   ],
   "source": [
    "filename"
   ]
  },
  {
   "cell_type": "code",
   "execution_count": 45,
   "id": "e519a1d1",
   "metadata": {},
   "outputs": [],
   "source": [
    "a = 'python'"
   ]
  },
  {
   "cell_type": "code",
   "execution_count": 46,
   "id": "9cfaa27c",
   "metadata": {},
   "outputs": [],
   "source": [
    "b = 'java'"
   ]
  },
  {
   "cell_type": "code",
   "execution_count": 48,
   "id": "1c479b79",
   "metadata": {},
   "outputs": [
    {
     "data": {
      "text/plain": [
       "'String concat of python and java result pythonjava :'"
      ]
     },
     "execution_count": 48,
     "metadata": {},
     "output_type": "execute_result"
    }
   ],
   "source": [
    "\"String concat of {} and {} result {} :\".format(a,b,a+b)"
   ]
  },
  {
   "cell_type": "code",
   "execution_count": 49,
   "id": "625c8337",
   "metadata": {},
   "outputs": [],
   "source": [
    "a = 500"
   ]
  },
  {
   "cell_type": "code",
   "execution_count": 50,
   "id": "5c362d02",
   "metadata": {},
   "outputs": [],
   "source": [
    "b = 400"
   ]
  },
  {
   "cell_type": "code",
   "execution_count": 52,
   "id": "3521d514",
   "metadata": {},
   "outputs": [],
   "source": [
    "c = 900"
   ]
  },
  {
   "cell_type": "code",
   "execution_count": 53,
   "id": "20595a17",
   "metadata": {},
   "outputs": [
    {
     "data": {
      "text/plain": [
       "500"
      ]
     },
     "execution_count": 53,
     "metadata": {},
     "output_type": "execute_result"
    }
   ],
   "source": [
    "a"
   ]
  },
  {
   "cell_type": "code",
   "execution_count": 54,
   "id": "b51b0cfa",
   "metadata": {},
   "outputs": [
    {
     "data": {
      "text/plain": [
       "400"
      ]
     },
     "execution_count": 54,
     "metadata": {},
     "output_type": "execute_result"
    }
   ],
   "source": [
    "b"
   ]
  },
  {
   "cell_type": "code",
   "execution_count": 55,
   "id": "1dfa93e1",
   "metadata": {},
   "outputs": [
    {
     "data": {
      "text/plain": [
       "900"
      ]
     },
     "execution_count": 55,
     "metadata": {},
     "output_type": "execute_result"
    }
   ],
   "source": [
    "c"
   ]
  },
  {
   "cell_type": "code",
   "execution_count": 65,
   "id": "ad297884",
   "metadata": {},
   "outputs": [
    {
     "data": {
      "text/plain": [
       "'60 and 50 and 10'"
      ]
     },
     "execution_count": 65,
     "metadata": {},
     "output_type": "execute_result"
    }
   ],
   "source": [
    "\"{2} and {1} and {0}\".format(10,50,60)"
   ]
  },
  {
   "cell_type": "code",
   "execution_count": 64,
   "id": "aa59645b",
   "metadata": {},
   "outputs": [
    {
     "name": "stdout",
     "output_type": "stream",
     "text": [
      "PX101_1\n",
      "PX101_2\n",
      "PX101_3\n",
      "PX101_4\n",
      "PX101_5\n",
      "PX101_6\n",
      "PX101_7\n",
      "PX101_8\n",
      "PX101_9\n",
      "PX101_10\n",
      "PX101_11\n",
      "PX101_12\n",
      "PX101_13\n",
      "PX101_14\n",
      "PX101_15\n",
      "PX101_16\n",
      "PX101_17\n",
      "PX101_18\n",
      "PX101_19\n",
      "PX101_20\n",
      "PX101_21\n",
      "PX101_22\n",
      "PX101_23\n",
      "PX101_24\n",
      "PX101_25\n",
      "PX101_26\n",
      "PX101_27\n",
      "PX101_28\n",
      "PX101_29\n",
      "PX101_30\n",
      "PX101_31\n",
      "PX101_32\n",
      "PX101_33\n",
      "PX101_34\n",
      "PX101_35\n",
      "PX101_36\n",
      "PX101_37\n",
      "PX101_38\n",
      "PX101_39\n",
      "PX101_40\n",
      "PX101_41\n",
      "PX101_42\n",
      "PX101_43\n",
      "PX101_44\n",
      "PX101_45\n",
      "PX101_46\n",
      "PX101_47\n",
      "PX101_48\n",
      "PX101_49\n",
      "PX101_50\n",
      "PX101_51\n",
      "PX101_52\n",
      "PX101_53\n",
      "PX101_54\n",
      "PX101_55\n",
      "PX101_56\n",
      "PX101_57\n",
      "PX101_58\n",
      "PX101_59\n",
      "PX101_60\n",
      "PX101_61\n",
      "PX101_62\n",
      "PX101_63\n",
      "PX101_64\n",
      "PX101_65\n",
      "PX101_66\n",
      "PX101_67\n",
      "PX101_68\n",
      "PX101_69\n",
      "PX101_70\n",
      "PX101_71\n",
      "PX101_72\n",
      "PX101_73\n",
      "PX101_74\n",
      "PX101_75\n",
      "PX101_76\n",
      "PX101_77\n",
      "PX101_78\n",
      "PX101_79\n",
      "PX101_80\n",
      "PX101_81\n",
      "PX101_82\n",
      "PX101_83\n",
      "PX101_84\n",
      "PX101_85\n",
      "PX101_86\n",
      "PX101_87\n",
      "PX101_88\n",
      "PX101_89\n",
      "PX101_90\n",
      "PX101_91\n",
      "PX101_92\n",
      "PX101_93\n",
      "PX101_94\n",
      "PX101_95\n",
      "PX101_96\n",
      "PX101_97\n",
      "PX101_98\n",
      "PX101_99\n"
     ]
    }
   ],
   "source": [
    "#PX101_1\n",
    "#PX101_2\n"
   ]
  },
  {
   "cell_type": "code",
   "execution_count": 66,
   "id": "ee446c08",
   "metadata": {},
   "outputs": [
    {
     "data": {
      "text/plain": [
       "'Sub of 10 and 5 is 5'"
      ]
     },
     "execution_count": 66,
     "metadata": {},
     "output_type": "execute_result"
    }
   ],
   "source": [
    "\"Sub of {} and {} is {}\".format(10,5,10-5)"
   ]
  },
  {
   "cell_type": "code",
   "execution_count": 84,
   "id": "d7c2b4c4",
   "metadata": {},
   "outputs": [
    {
     "name": "stdout",
     "output_type": "stream",
     "text": [
      "Enter the number:56\n",
      "Enter the second number:2\n"
     ]
    },
    {
     "data": {
      "text/plain": [
       "'56 and 2 is 112'"
      ]
     },
     "execution_count": 84,
     "metadata": {},
     "output_type": "execute_result"
    }
   ],
   "source": [
    "no1 = input(\"Enter the number:\")\n",
    "no2 = input(\"Enter the second number:\")\n",
    "\"{} and {} is {}\".format(int(no1),int(no2),int(no1)*int(no2))"
   ]
  },
  {
   "cell_type": "code",
   "execution_count": 68,
   "id": "94745296",
   "metadata": {},
   "outputs": [
    {
     "data": {
      "text/plain": [
       "'60'"
      ]
     },
     "execution_count": 68,
     "metadata": {},
     "output_type": "execute_result"
    }
   ],
   "source": [
    "no1"
   ]
  },
  {
   "cell_type": "code",
   "execution_count": 69,
   "id": "414519ba",
   "metadata": {},
   "outputs": [
    {
     "data": {
      "text/plain": [
       "'40'"
      ]
     },
     "execution_count": 69,
     "metadata": {},
     "output_type": "execute_result"
    }
   ],
   "source": [
    "no2"
   ]
  },
  {
   "cell_type": "code",
   "execution_count": 70,
   "id": "f7733820",
   "metadata": {},
   "outputs": [
    {
     "data": {
      "text/plain": [
       "str"
      ]
     },
     "execution_count": 70,
     "metadata": {},
     "output_type": "execute_result"
    }
   ],
   "source": [
    "type(no1)"
   ]
  },
  {
   "cell_type": "code",
   "execution_count": 71,
   "id": "bf05cb2f",
   "metadata": {},
   "outputs": [
    {
     "data": {
      "text/plain": [
       "str"
      ]
     },
     "execution_count": 71,
     "metadata": {},
     "output_type": "execute_result"
    }
   ],
   "source": [
    "type(no2)"
   ]
  },
  {
   "cell_type": "code",
   "execution_count": 73,
   "id": "64797919",
   "metadata": {},
   "outputs": [
    {
     "data": {
      "text/plain": [
       "20"
      ]
     },
     "execution_count": 73,
     "metadata": {},
     "output_type": "execute_result"
    }
   ],
   "source": [
    "int(no1)-int(no2)"
   ]
  },
  {
   "cell_type": "code",
   "execution_count": 80,
   "id": "d526d8da",
   "metadata": {},
   "outputs": [
    {
     "ename": "KeyError",
     "evalue": "'-3'",
     "output_type": "error",
     "traceback": [
      "\u001b[1;31m---------------------------------------------------------------------------\u001b[0m",
      "\u001b[1;31mKeyError\u001b[0m                                  Traceback (most recent call last)",
      "\u001b[1;32m<ipython-input-80-bf2dfd897c6c>\u001b[0m in \u001b[0;36m<module>\u001b[1;34m\u001b[0m\n\u001b[1;32m----> 1\u001b[1;33m \u001b[1;34m\"{} and {-3} is {-1}\"\u001b[0m\u001b[1;33m.\u001b[0m\u001b[0mformat\u001b[0m\u001b[1;33m(\u001b[0m\u001b[0mint\u001b[0m\u001b[1;33m(\u001b[0m\u001b[0mno1\u001b[0m\u001b[1;33m)\u001b[0m\u001b[1;33m,\u001b[0m\u001b[0mint\u001b[0m\u001b[1;33m(\u001b[0m\u001b[0mno2\u001b[0m\u001b[1;33m)\u001b[0m\u001b[1;33m,\u001b[0m\u001b[0mint\u001b[0m\u001b[1;33m(\u001b[0m\u001b[0mno1\u001b[0m\u001b[1;33m)\u001b[0m\u001b[1;33m-\u001b[0m\u001b[0mint\u001b[0m\u001b[1;33m(\u001b[0m\u001b[0mno2\u001b[0m\u001b[1;33m)\u001b[0m\u001b[1;33m)\u001b[0m\u001b[1;33m\u001b[0m\u001b[1;33m\u001b[0m\u001b[0m\n\u001b[0m",
      "\u001b[1;31mKeyError\u001b[0m: '-3'"
     ]
    }
   ],
   "source": [
    "\"{} and {} is {}\".format(int(no1),int(no2),int(no1)-int(no2))"
   ]
  },
  {
   "cell_type": "code",
   "execution_count": 81,
   "id": "ff8d9dfa",
   "metadata": {},
   "outputs": [],
   "source": [
    "#format -- 20\n"
   ]
  },
  {
   "cell_type": "code",
   "execution_count": 85,
   "id": "70f8b4cb",
   "metadata": {},
   "outputs": [],
   "source": [
    "a = 10\n",
    "b =20\n",
    "c =a+b"
   ]
  },
  {
   "cell_type": "code",
   "execution_count": 86,
   "id": "a48746f3",
   "metadata": {},
   "outputs": [
    {
     "data": {
      "text/plain": [
       "'Addition of 10 and 20 is 30'"
      ]
     },
     "execution_count": 86,
     "metadata": {},
     "output_type": "execute_result"
    }
   ],
   "source": [
    "\"Addition of {} and {} is {}\".format(a,b,c)"
   ]
  },
  {
   "cell_type": "code",
   "execution_count": 87,
   "id": "5cde2b34",
   "metadata": {},
   "outputs": [
    {
     "data": {
      "text/plain": [
       "'Addition of 10 and 20 is 30'"
      ]
     },
     "execution_count": 87,
     "metadata": {},
     "output_type": "execute_result"
    }
   ],
   "source": [
    "f\"Addition of {a} and {b} is {c}\""
   ]
  },
  {
   "cell_type": "code",
   "execution_count": 88,
   "id": "80cc53aa",
   "metadata": {},
   "outputs": [],
   "source": [
    "#raw string"
   ]
  },
  {
   "cell_type": "code",
   "execution_count": 89,
   "id": "959789ec",
   "metadata": {},
   "outputs": [],
   "source": [
    "#check string data"
   ]
  },
  {
   "cell_type": "code",
   "execution_count": null,
   "id": "d882c0c2",
   "metadata": {},
   "outputs": [],
   "source": [
    "'a-z' --- alpha\n",
    "'103123' numeric\n",
    "'sdfasd34543' alnumeric"
   ]
  },
  {
   "cell_type": "code",
   "execution_count": 90,
   "id": "638cc0fe",
   "metadata": {},
   "outputs": [],
   "source": [
    "p = 'python'"
   ]
  },
  {
   "cell_type": "code",
   "execution_count": 91,
   "id": "799fd230",
   "metadata": {},
   "outputs": [
    {
     "data": {
      "text/plain": [
       "True"
      ]
     },
     "execution_count": 91,
     "metadata": {},
     "output_type": "execute_result"
    }
   ],
   "source": [
    "p.isalpha()"
   ]
  },
  {
   "cell_type": "code",
   "execution_count": 92,
   "id": "1cb3587f",
   "metadata": {},
   "outputs": [],
   "source": [
    "p = '123python'"
   ]
  },
  {
   "cell_type": "code",
   "execution_count": 93,
   "id": "9cc062e0",
   "metadata": {},
   "outputs": [
    {
     "data": {
      "text/plain": [
       "False"
      ]
     },
     "execution_count": 93,
     "metadata": {},
     "output_type": "execute_result"
    }
   ],
   "source": [
    "p.isalpha()"
   ]
  },
  {
   "cell_type": "code",
   "execution_count": 94,
   "id": "8008effc",
   "metadata": {},
   "outputs": [
    {
     "data": {
      "text/plain": [
       "True"
      ]
     },
     "execution_count": 94,
     "metadata": {},
     "output_type": "execute_result"
    }
   ],
   "source": [
    "p.isalnum()"
   ]
  },
  {
   "cell_type": "code",
   "execution_count": 95,
   "id": "9050009e",
   "metadata": {},
   "outputs": [],
   "source": [
    "p = '121313123'"
   ]
  },
  {
   "cell_type": "code",
   "execution_count": 96,
   "id": "5783fcbe",
   "metadata": {},
   "outputs": [
    {
     "data": {
      "text/plain": [
       "True"
      ]
     },
     "execution_count": 96,
     "metadata": {},
     "output_type": "execute_result"
    }
   ],
   "source": [
    "p.isnumeric()"
   ]
  },
  {
   "cell_type": "code",
   "execution_count": 98,
   "id": "b251c609",
   "metadata": {},
   "outputs": [],
   "source": [
    "prd = ['123','3213','PX3432','23434']"
   ]
  },
  {
   "cell_type": "code",
   "execution_count": 103,
   "id": "8badc38a",
   "metadata": {},
   "outputs": [],
   "source": [
    "p = \"#2323\""
   ]
  },
  {
   "cell_type": "code",
   "execution_count": 104,
   "id": "c9c0d760",
   "metadata": {},
   "outputs": [
    {
     "data": {
      "text/plain": [
       "False"
      ]
     },
     "execution_count": 104,
     "metadata": {},
     "output_type": "execute_result"
    }
   ],
   "source": [
    "p.isnumeric()"
   ]
  },
  {
   "cell_type": "code",
   "execution_count": 105,
   "id": "5d5372be",
   "metadata": {},
   "outputs": [],
   "source": [
    "p = \"python@\""
   ]
  },
  {
   "cell_type": "code",
   "execution_count": 106,
   "id": "1266a8c5",
   "metadata": {},
   "outputs": [
    {
     "data": {
      "text/plain": [
       "False"
      ]
     },
     "execution_count": 106,
     "metadata": {},
     "output_type": "execute_result"
    }
   ],
   "source": [
    "p.isalpha()"
   ]
  },
  {
   "cell_type": "code",
   "execution_count": 107,
   "id": "2e4ce44a",
   "metadata": {},
   "outputs": [],
   "source": [
    "py_str = \"Java\""
   ]
  },
  {
   "cell_type": "code",
   "execution_count": 108,
   "id": "2e14fef1",
   "metadata": {},
   "outputs": [
    {
     "data": {
      "text/plain": [
       "True"
      ]
     },
     "execution_count": 108,
     "metadata": {},
     "output_type": "execute_result"
    }
   ],
   "source": [
    "py_str.isalpha()"
   ]
  },
  {
   "cell_type": "code",
   "execution_count": 110,
   "id": "233c4c89",
   "metadata": {},
   "outputs": [
    {
     "data": {
      "text/plain": [
       "False"
      ]
     },
     "execution_count": 110,
     "metadata": {},
     "output_type": "execute_result"
    }
   ],
   "source": [
    "py_str.isnumeric()"
   ]
  },
  {
   "cell_type": "code",
   "execution_count": null,
   "id": "5b7b0031",
   "metadata": {},
   "outputs": [],
   "source": [
    "isalph ---> only alphabets\n",
    "isnumeric --> only numbers\n",
    "isalpnum ---> aplha+num"
   ]
  },
  {
   "cell_type": "code",
   "execution_count": null,
   "id": "77cc6ccd",
   "metadata": {},
   "outputs": [],
   "source": [
    "etert"
   ]
  },
  {
   "cell_type": "code",
   "execution_count": 113,
   "id": "77d1ea86",
   "metadata": {},
   "outputs": [],
   "source": [
    "p = 'pYthon'"
   ]
  },
  {
   "cell_type": "code",
   "execution_count": 114,
   "id": "936488b7",
   "metadata": {},
   "outputs": [
    {
     "data": {
      "text/plain": [
       "False"
      ]
     },
     "execution_count": 114,
     "metadata": {},
     "output_type": "execute_result"
    }
   ],
   "source": [
    "p.islower()"
   ]
  },
  {
   "cell_type": "code",
   "execution_count": 115,
   "id": "6b94aeed",
   "metadata": {},
   "outputs": [],
   "source": [
    "p = \"ADMIN\""
   ]
  },
  {
   "cell_type": "code",
   "execution_count": 116,
   "id": "6f37c8df",
   "metadata": {},
   "outputs": [
    {
     "data": {
      "text/plain": [
       "True"
      ]
     },
     "execution_count": 116,
     "metadata": {},
     "output_type": "execute_result"
    }
   ],
   "source": [
    "p.isupper()"
   ]
  },
  {
   "cell_type": "code",
   "execution_count": null,
   "id": "72866e7f",
   "metadata": {},
   "outputs": [],
   "source": [
    "#Home work\n",
    "numeric --- \n",
    "digit ---\n",
    "decimal ---\n",
    "\n",
    "word -- 10 min"
   ]
  },
  {
   "cell_type": "code",
   "execution_count": null,
   "id": "0d02a529",
   "metadata": {},
   "outputs": [],
   "source": []
  },
  {
   "cell_type": "code",
   "execution_count": null,
   "id": "04dde4cb",
   "metadata": {},
   "outputs": [],
   "source": []
  },
  {
   "cell_type": "code",
   "execution_count": null,
   "id": "13d6a50a",
   "metadata": {},
   "outputs": [],
   "source": []
  }
 ],
 "metadata": {
  "kernelspec": {
   "display_name": "Python 3",
   "language": "python",
   "name": "python3"
  },
  "language_info": {
   "codemirror_mode": {
    "name": "ipython",
    "version": 3
   },
   "file_extension": ".py",
   "mimetype": "text/x-python",
   "name": "python",
   "nbconvert_exporter": "python",
   "pygments_lexer": "ipython3",
   "version": "3.8.8"
  }
 },
 "nbformat": 4,
 "nbformat_minor": 5
}

{
 "cells": [
  {
   "cell_type": "code",
   "execution_count": null,
   "id": "572f8e7e",
   "metadata": {},
   "outputs": [],
   "source": [
    "dict:\n",
    "    it is collection of items ---> elements\n",
    "    {}\n",
    "    items -----> key:value --pair\n",
    "    it is mutable type --insert,update,delete\n",
    "    it is unorderd type --> no indexing is possible\n",
    "    \n",
    "    key should not be duplicate"
   ]
  },
  {
   "cell_type": "code",
   "execution_count": 1,
   "id": "03b7af2e",
   "metadata": {},
   "outputs": [],
   "source": [
    "py_dict = {'name':'Akash','roll':21,'city':'pune'}"
   ]
  },
  {
   "cell_type": "code",
   "execution_count": 2,
   "id": "c29b545e",
   "metadata": {},
   "outputs": [
    {
     "data": {
      "text/plain": [
       "{'name': 'Akash', 'roll': 21, 'city': 'pune'}"
      ]
     },
     "execution_count": 2,
     "metadata": {},
     "output_type": "execute_result"
    }
   ],
   "source": [
    "py_dict"
   ]
  },
  {
   "cell_type": "code",
   "execution_count": null,
   "id": "24aad29d",
   "metadata": {},
   "outputs": [],
   "source": [
    "item\n",
    "\n",
    "key:value pair\n",
    "    \n",
    "    key ---> always immutable  type ---> tuple,string,number ---> str/number\n",
    "    value ---> can be mutable or immutable --> list,set,tuple,string,dict,number\n",
    "    "
   ]
  },
  {
   "cell_type": "code",
   "execution_count": 3,
   "id": "5ea4c53a",
   "metadata": {},
   "outputs": [
    {
     "data": {
      "text/plain": [
       "{'name': 'Akash', 'roll': 21, 'city': 'pune'}"
      ]
     },
     "execution_count": 3,
     "metadata": {},
     "output_type": "execute_result"
    }
   ],
   "source": [
    "py_dict"
   ]
  },
  {
   "cell_type": "code",
   "execution_count": null,
   "id": "4dbf527d",
   "metadata": {},
   "outputs": [],
   "source": [
    "keys : name,roll,city\n",
    "values: Akash,21,pune"
   ]
  },
  {
   "cell_type": "code",
   "execution_count": null,
   "id": "e9e66056",
   "metadata": {},
   "outputs": [],
   "source": []
  },
  {
   "cell_type": "code",
   "execution_count": 4,
   "id": "23be3f5d",
   "metadata": {},
   "outputs": [],
   "source": [
    "car = {\n",
    "    'name':'BMW',\n",
    "    'price':200000,\n",
    "    'color':'Red'\n",
    "}"
   ]
  },
  {
   "cell_type": "code",
   "execution_count": 5,
   "id": "c1910169",
   "metadata": {},
   "outputs": [
    {
     "data": {
      "text/plain": [
       "{'name': 'BMW', 'price': 200000, 'color': 'Red'}"
      ]
     },
     "execution_count": 5,
     "metadata": {},
     "output_type": "execute_result"
    }
   ],
   "source": [
    "car"
   ]
  },
  {
   "cell_type": "code",
   "execution_count": 6,
   "id": "919dca5c",
   "metadata": {},
   "outputs": [],
   "source": [
    "# how we can access values from dict"
   ]
  },
  {
   "cell_type": "code",
   "execution_count": 7,
   "id": "9e78f150",
   "metadata": {},
   "outputs": [
    {
     "data": {
      "text/plain": [
       "200000"
      ]
     },
     "execution_count": 7,
     "metadata": {},
     "output_type": "execute_result"
    }
   ],
   "source": [
    "car['price']"
   ]
  },
  {
   "cell_type": "code",
   "execution_count": 8,
   "id": "974059f1",
   "metadata": {},
   "outputs": [
    {
     "data": {
      "text/plain": [
       "'BMW'"
      ]
     },
     "execution_count": 8,
     "metadata": {},
     "output_type": "execute_result"
    }
   ],
   "source": [
    "car['name']"
   ]
  },
  {
   "cell_type": "code",
   "execution_count": 9,
   "id": "02a4b5c7",
   "metadata": {},
   "outputs": [
    {
     "data": {
      "text/plain": [
       "'Red'"
      ]
     },
     "execution_count": 9,
     "metadata": {},
     "output_type": "execute_result"
    }
   ],
   "source": [
    "car['color']"
   ]
  },
  {
   "cell_type": "code",
   "execution_count": 10,
   "id": "fd5abc24",
   "metadata": {},
   "outputs": [
    {
     "data": {
      "text/plain": [
       "{'name': 'BMW', 'price': 200000, 'color': 'Red'}"
      ]
     },
     "execution_count": 10,
     "metadata": {},
     "output_type": "execute_result"
    }
   ],
   "source": [
    "car"
   ]
  },
  {
   "cell_type": "code",
   "execution_count": 17,
   "id": "9af8ab66",
   "metadata": {},
   "outputs": [],
   "source": [
    "stud = {'roll':[21,23,5,7,None],\n",
    "       'name':['a','b','c','d','e'],\n",
    "       'city':['pune','mumbai','chennai','bang','pune']}"
   ]
  },
  {
   "cell_type": "code",
   "execution_count": 18,
   "id": "1b1db97b",
   "metadata": {},
   "outputs": [
    {
     "data": {
      "text/plain": [
       "{'roll': [21, 23, 5, 7, None],\n",
       " 'name': ['a', 'b', 'c', 'd', 'e'],\n",
       " 'city': ['pune', 'mumbai', 'chennai', 'bang', 'pune']}"
      ]
     },
     "execution_count": 18,
     "metadata": {},
     "output_type": "execute_result"
    }
   ],
   "source": [
    "stud"
   ]
  },
  {
   "cell_type": "code",
   "execution_count": null,
   "id": "2f86c50e",
   "metadata": {},
   "outputs": [],
   "source": []
  },
  {
   "cell_type": "code",
   "execution_count": null,
   "id": "ad902db2",
   "metadata": {},
   "outputs": [],
   "source": []
  },
  {
   "cell_type": "code",
   "execution_count": 16,
   "id": "551cb120",
   "metadata": {},
   "outputs": [
    {
     "data": {
      "text/plain": [
       "{'roll': [21, 23, 5, 7, 8],\n",
       " 'name': ['a', 'b', 'c', 'd', 'e'],\n",
       " 'city': ['pune', 'mumbai', 'chennai', 'bang', 'pune']}"
      ]
     },
     "execution_count": 16,
     "metadata": {},
     "output_type": "execute_result"
    }
   ],
   "source": [
    "stud"
   ]
  },
  {
   "cell_type": "code",
   "execution_count": 21,
   "id": "75848c4d",
   "metadata": {},
   "outputs": [
    {
     "data": {
      "text/plain": [
       "{'name': 'Akash', 'roll': 21, 'city': 'pune'}"
      ]
     },
     "execution_count": 21,
     "metadata": {},
     "output_type": "execute_result"
    }
   ],
   "source": [
    "py_dict"
   ]
  },
  {
   "cell_type": "code",
   "execution_count": null,
   "id": "9bfd561a",
   "metadata": {},
   "outputs": [],
   "source": [
    "fetch the value --> keys"
   ]
  },
  {
   "cell_type": "code",
   "execution_count": 22,
   "id": "42e281bf",
   "metadata": {},
   "outputs": [
    {
     "data": {
      "text/plain": [
       "'Akash'"
      ]
     },
     "execution_count": 22,
     "metadata": {},
     "output_type": "execute_result"
    }
   ],
   "source": [
    "py_dict.get('name')"
   ]
  },
  {
   "cell_type": "code",
   "execution_count": 23,
   "id": "927f70d7",
   "metadata": {},
   "outputs": [
    {
     "data": {
      "text/plain": [
       "'Akash'"
      ]
     },
     "execution_count": 23,
     "metadata": {},
     "output_type": "execute_result"
    }
   ],
   "source": [
    "py_dict['name']"
   ]
  },
  {
   "cell_type": "code",
   "execution_count": 24,
   "id": "48f29cd9",
   "metadata": {},
   "outputs": [
    {
     "ename": "KeyError",
     "evalue": "'namm'",
     "output_type": "error",
     "traceback": [
      "\u001b[1;31m---------------------------------------------------------------------------\u001b[0m",
      "\u001b[1;31mKeyError\u001b[0m                                  Traceback (most recent call last)",
      "\u001b[1;32m<ipython-input-24-98eade7fda24>\u001b[0m in \u001b[0;36m<module>\u001b[1;34m\u001b[0m\n\u001b[1;32m----> 1\u001b[1;33m \u001b[0mpy_dict\u001b[0m\u001b[1;33m[\u001b[0m\u001b[1;34m'namm'\u001b[0m\u001b[1;33m]\u001b[0m\u001b[1;33m\u001b[0m\u001b[1;33m\u001b[0m\u001b[0m\n\u001b[0m",
      "\u001b[1;31mKeyError\u001b[0m: 'namm'"
     ]
    }
   ],
   "source": [
    "py_dict['namm']"
   ]
  },
  {
   "cell_type": "code",
   "execution_count": 25,
   "id": "d028ba2b",
   "metadata": {},
   "outputs": [],
   "source": [
    "#if given key is not present in dict then it will return KeyError"
   ]
  },
  {
   "cell_type": "code",
   "execution_count": 29,
   "id": "291a6c58",
   "metadata": {},
   "outputs": [
    {
     "data": {
      "text/plain": [
       "'given key is not present'"
      ]
     },
     "execution_count": 29,
     "metadata": {},
     "output_type": "execute_result"
    }
   ],
   "source": [
    "py_dict.get('namasfsde','given key is not present')"
   ]
  },
  {
   "cell_type": "code",
   "execution_count": 30,
   "id": "cc3ca4b4",
   "metadata": {},
   "outputs": [],
   "source": [
    "p = [1,2,3,4]"
   ]
  },
  {
   "cell_type": "code",
   "execution_count": 31,
   "id": "ea2eb6a6",
   "metadata": {},
   "outputs": [
    {
     "data": {
      "text/plain": [
       "list"
      ]
     },
     "execution_count": 31,
     "metadata": {},
     "output_type": "execute_result"
    }
   ],
   "source": [
    "type(p)"
   ]
  },
  {
   "cell_type": "code",
   "execution_count": 32,
   "id": "8da648d1",
   "metadata": {},
   "outputs": [
    {
     "data": {
      "text/plain": [
       "3"
      ]
     },
     "execution_count": 32,
     "metadata": {},
     "output_type": "execute_result"
    }
   ],
   "source": [
    "p[2]"
   ]
  },
  {
   "cell_type": "code",
   "execution_count": 33,
   "id": "dedc5105",
   "metadata": {},
   "outputs": [
    {
     "data": {
      "text/plain": [
       "{'name': 'BMW', 'price': 200000, 'color': 'Red'}"
      ]
     },
     "execution_count": 33,
     "metadata": {},
     "output_type": "execute_result"
    }
   ],
   "source": [
    "car"
   ]
  },
  {
   "cell_type": "code",
   "execution_count": 34,
   "id": "f6ae1fc4",
   "metadata": {},
   "outputs": [
    {
     "data": {
      "text/plain": [
       "200000"
      ]
     },
     "execution_count": 34,
     "metadata": {},
     "output_type": "execute_result"
    }
   ],
   "source": [
    "car['price']"
   ]
  },
  {
   "cell_type": "code",
   "execution_count": 35,
   "id": "bf3f089b",
   "metadata": {},
   "outputs": [
    {
     "ename": "KeyError",
     "evalue": "'pricesfsdf'",
     "output_type": "error",
     "traceback": [
      "\u001b[1;31m---------------------------------------------------------------------------\u001b[0m",
      "\u001b[1;31mKeyError\u001b[0m                                  Traceback (most recent call last)",
      "\u001b[1;32m<ipython-input-35-2c1d31ccd7b8>\u001b[0m in \u001b[0;36m<module>\u001b[1;34m\u001b[0m\n\u001b[1;32m----> 1\u001b[1;33m \u001b[0mcar\u001b[0m\u001b[1;33m[\u001b[0m\u001b[1;34m'pricesfsdf'\u001b[0m\u001b[1;33m]\u001b[0m\u001b[1;33m\u001b[0m\u001b[1;33m\u001b[0m\u001b[0m\n\u001b[0m",
      "\u001b[1;31mKeyError\u001b[0m: 'pricesfsdf'"
     ]
    }
   ],
   "source": [
    "car['pricesfsdf']"
   ]
  },
  {
   "cell_type": "code",
   "execution_count": 36,
   "id": "cd194c75",
   "metadata": {},
   "outputs": [
    {
     "data": {
      "text/plain": [
       "200000"
      ]
     },
     "execution_count": 36,
     "metadata": {},
     "output_type": "execute_result"
    }
   ],
   "source": [
    "car.get('price')"
   ]
  },
  {
   "cell_type": "code",
   "execution_count": 41,
   "id": "6413160e",
   "metadata": {},
   "outputs": [],
   "source": [
    "car.get('salkfnsdklfsdklfjkl')"
   ]
  },
  {
   "cell_type": "code",
   "execution_count": 42,
   "id": "f7041121",
   "metadata": {},
   "outputs": [
    {
     "data": {
      "text/plain": [
       "{'name': 'BMW', 'price': 200000, 'color': 'Red'}"
      ]
     },
     "execution_count": 42,
     "metadata": {},
     "output_type": "execute_result"
    }
   ],
   "source": [
    "car"
   ]
  },
  {
   "cell_type": "code",
   "execution_count": 43,
   "id": "d61ed20d",
   "metadata": {},
   "outputs": [
    {
     "data": {
      "text/plain": [
       "{'name': 'BMW', 'price': 200000, 'color': 'Red'}"
      ]
     },
     "execution_count": 43,
     "metadata": {},
     "output_type": "execute_result"
    }
   ],
   "source": [
    "car"
   ]
  },
  {
   "cell_type": "code",
   "execution_count": 44,
   "id": "00a2ba7b",
   "metadata": {},
   "outputs": [],
   "source": [
    "#how to insert key:vale pair"
   ]
  },
  {
   "cell_type": "code",
   "execution_count": 45,
   "id": "a2d00f99",
   "metadata": {},
   "outputs": [
    {
     "data": {
      "text/plain": [
       "{'name': 'BMW', 'price': 200000, 'color': 'Red'}"
      ]
     },
     "execution_count": 45,
     "metadata": {},
     "output_type": "execute_result"
    }
   ],
   "source": [
    "car"
   ]
  },
  {
   "cell_type": "code",
   "execution_count": null,
   "id": "c080cb2a",
   "metadata": {},
   "outputs": [],
   "source": [
    "key:value --> item\n",
    "    \n",
    "    \n",
    "    "
   ]
  },
  {
   "cell_type": "code",
   "execution_count": 50,
   "id": "5c514ca3",
   "metadata": {},
   "outputs": [],
   "source": [
    "p = {'name': 'BMW', 'price': 200000, 'color': 'Red','name':'maruti','name':'suzuki','price':450000}"
   ]
  },
  {
   "cell_type": "code",
   "execution_count": 51,
   "id": "abd97caa",
   "metadata": {},
   "outputs": [
    {
     "data": {
      "text/plain": [
       "{'name': 'suzuki', 'price': 450000, 'color': 'Red'}"
      ]
     },
     "execution_count": 51,
     "metadata": {},
     "output_type": "execute_result"
    }
   ],
   "source": [
    "p"
   ]
  },
  {
   "cell_type": "code",
   "execution_count": null,
   "id": "f0385740",
   "metadata": {},
   "outputs": [],
   "source": [
    "key -- never duplicate"
   ]
  },
  {
   "cell_type": "code",
   "execution_count": 53,
   "id": "1d1ecc29",
   "metadata": {},
   "outputs": [],
   "source": [
    "car = {'name': 'BMW', 'price': 200000, 'color': 'Red','head_light':'Red'}"
   ]
  },
  {
   "cell_type": "code",
   "execution_count": 54,
   "id": "c74a2a1a",
   "metadata": {},
   "outputs": [
    {
     "data": {
      "text/plain": [
       "{'name': 'BMW', 'price': 200000, 'color': 'Red', 'head_light': 'Red'}"
      ]
     },
     "execution_count": 54,
     "metadata": {},
     "output_type": "execute_result"
    }
   ],
   "source": [
    "car"
   ]
  },
  {
   "cell_type": "code",
   "execution_count": 55,
   "id": "0e6db4c6",
   "metadata": {},
   "outputs": [],
   "source": [
    "car['mil'] = 45"
   ]
  },
  {
   "cell_type": "code",
   "execution_count": 56,
   "id": "fd2c26c0",
   "metadata": {},
   "outputs": [
    {
     "data": {
      "text/plain": [
       "{'name': 'BMW',\n",
       " 'price': 200000,\n",
       " 'color': 'Red',\n",
       " 'head_light': 'Red',\n",
       " 'mil': 45}"
      ]
     },
     "execution_count": 56,
     "metadata": {},
     "output_type": "execute_result"
    }
   ],
   "source": [
    "car"
   ]
  },
  {
   "cell_type": "code",
   "execution_count": 57,
   "id": "1d035da5",
   "metadata": {},
   "outputs": [
    {
     "data": {
      "text/plain": [
       "{'name': 'BMW',\n",
       " 'price': 200000,\n",
       " 'color': 'Red',\n",
       " 'head_light': 'Red',\n",
       " 'mil': 45}"
      ]
     },
     "execution_count": 57,
     "metadata": {},
     "output_type": "execute_result"
    }
   ],
   "source": [
    "car"
   ]
  },
  {
   "cell_type": "code",
   "execution_count": 58,
   "id": "c200547c",
   "metadata": {},
   "outputs": [],
   "source": [
    "car['HP'] = 1200"
   ]
  },
  {
   "cell_type": "code",
   "execution_count": 59,
   "id": "0c396952",
   "metadata": {},
   "outputs": [
    {
     "data": {
      "text/plain": [
       "{'name': 'BMW',\n",
       " 'price': 200000,\n",
       " 'color': 'Red',\n",
       " 'head_light': 'Red',\n",
       " 'mil': 45,\n",
       " 'HP': 1200}"
      ]
     },
     "execution_count": 59,
     "metadata": {},
     "output_type": "execute_result"
    }
   ],
   "source": [
    "car"
   ]
  },
  {
   "cell_type": "code",
   "execution_count": 60,
   "id": "41964c85",
   "metadata": {},
   "outputs": [
    {
     "data": {
      "text/plain": [
       "{'name': 'BMW',\n",
       " 'price': 200000,\n",
       " 'color': 'Red',\n",
       " 'head_light': 'Red',\n",
       " 'mil': 45,\n",
       " 'HP': 1200}"
      ]
     },
     "execution_count": 60,
     "metadata": {},
     "output_type": "execute_result"
    }
   ],
   "source": [
    "car"
   ]
  },
  {
   "cell_type": "code",
   "execution_count": 61,
   "id": "f9b28e9b",
   "metadata": {},
   "outputs": [],
   "source": [
    "#insert multiple key value pair"
   ]
  },
  {
   "cell_type": "code",
   "execution_count": 62,
   "id": "ef492c8c",
   "metadata": {},
   "outputs": [
    {
     "data": {
      "text/plain": [
       "{'name': 'BMW',\n",
       " 'price': 200000,\n",
       " 'color': 'Red',\n",
       " 'head_light': 'Red',\n",
       " 'mil': 45,\n",
       " 'HP': 1200}"
      ]
     },
     "execution_count": 62,
     "metadata": {},
     "output_type": "execute_result"
    }
   ],
   "source": [
    "car"
   ]
  },
  {
   "cell_type": "code",
   "execution_count": 64,
   "id": "7cfe4dab",
   "metadata": {},
   "outputs": [],
   "source": [
    "car.update({'a':120,'b':4554})"
   ]
  },
  {
   "cell_type": "code",
   "execution_count": 65,
   "id": "10835144",
   "metadata": {},
   "outputs": [
    {
     "data": {
      "text/plain": [
       "{'name': 'BMW',\n",
       " 'price': 200000,\n",
       " 'color': 'Red',\n",
       " 'head_light': 'Red',\n",
       " 'mil': 45,\n",
       " 'HP': 1200,\n",
       " 'a': 120,\n",
       " 'b': 4554}"
      ]
     },
     "execution_count": 65,
     "metadata": {},
     "output_type": "execute_result"
    }
   ],
   "source": [
    "car"
   ]
  },
  {
   "cell_type": "code",
   "execution_count": 66,
   "id": "31c9372c",
   "metadata": {},
   "outputs": [
    {
     "data": {
      "text/plain": [
       "{'name': 'BMW',\n",
       " 'price': 200000,\n",
       " 'color': 'Red',\n",
       " 'head_light': 'Red',\n",
       " 'mil': 45,\n",
       " 'HP': 1200,\n",
       " 'a': 120,\n",
       " 'b': 4554}"
      ]
     },
     "execution_count": 66,
     "metadata": {},
     "output_type": "execute_result"
    }
   ],
   "source": [
    "car"
   ]
  },
  {
   "cell_type": "code",
   "execution_count": null,
   "id": "538ad14b",
   "metadata": {},
   "outputs": [],
   "source": [
    "key ---> value\n",
    "\n",
    "value ---> not key"
   ]
  },
  {
   "cell_type": "code",
   "execution_count": null,
   "id": "99df910d",
   "metadata": {},
   "outputs": [],
   "source": [
    "get\n",
    "update\n",
    "d ['new'] =  new value\n"
   ]
  },
  {
   "cell_type": "code",
   "execution_count": 67,
   "id": "8d5ada7b",
   "metadata": {},
   "outputs": [
    {
     "data": {
      "text/plain": [
       "{'name': 'BMW',\n",
       " 'price': 200000,\n",
       " 'color': 'Red',\n",
       " 'head_light': 'Red',\n",
       " 'mil': 45,\n",
       " 'HP': 1200,\n",
       " 'a': 120,\n",
       " 'b': 4554}"
      ]
     },
     "execution_count": 67,
     "metadata": {},
     "output_type": "execute_result"
    }
   ],
   "source": [
    "car"
   ]
  },
  {
   "cell_type": "code",
   "execution_count": 68,
   "id": "d435dd64",
   "metadata": {},
   "outputs": [
    {
     "data": {
      "text/plain": [
       "dict_keys(['name', 'price', 'color', 'head_light', 'mil', 'HP', 'a', 'b'])"
      ]
     },
     "execution_count": 68,
     "metadata": {},
     "output_type": "execute_result"
    }
   ],
   "source": [
    "car.keys()"
   ]
  },
  {
   "cell_type": "code",
   "execution_count": 69,
   "id": "dbdd46b7",
   "metadata": {},
   "outputs": [
    {
     "data": {
      "text/plain": [
       "dict_values(['BMW', 200000, 'Red', 'Red', 45, 1200, 120, 4554])"
      ]
     },
     "execution_count": 69,
     "metadata": {},
     "output_type": "execute_result"
    }
   ],
   "source": [
    "car.values()"
   ]
  },
  {
   "cell_type": "code",
   "execution_count": 70,
   "id": "a11d1e65",
   "metadata": {},
   "outputs": [
    {
     "data": {
      "text/plain": [
       "dict_items([('name', 'BMW'), ('price', 200000), ('color', 'Red'), ('head_light', 'Red'), ('mil', 45), ('HP', 1200), ('a', 120), ('b', 4554)])"
      ]
     },
     "execution_count": 70,
     "metadata": {},
     "output_type": "execute_result"
    }
   ],
   "source": [
    "car.items()"
   ]
  },
  {
   "cell_type": "code",
   "execution_count": 71,
   "id": "36f22a91",
   "metadata": {},
   "outputs": [
    {
     "data": {
      "text/plain": [
       "8"
      ]
     },
     "execution_count": 71,
     "metadata": {},
     "output_type": "execute_result"
    }
   ],
   "source": [
    "len(car.keys())"
   ]
  },
  {
   "cell_type": "code",
   "execution_count": 72,
   "id": "d765397d",
   "metadata": {},
   "outputs": [
    {
     "data": {
      "text/plain": [
       "8"
      ]
     },
     "execution_count": 72,
     "metadata": {},
     "output_type": "execute_result"
    }
   ],
   "source": [
    "len(car.values())"
   ]
  },
  {
   "cell_type": "code",
   "execution_count": 73,
   "id": "c45e603b",
   "metadata": {},
   "outputs": [
    {
     "data": {
      "text/plain": [
       "8"
      ]
     },
     "execution_count": 73,
     "metadata": {},
     "output_type": "execute_result"
    }
   ],
   "source": [
    "len(car.items())"
   ]
  },
  {
   "cell_type": "code",
   "execution_count": 76,
   "id": "d567e2b0",
   "metadata": {},
   "outputs": [
    {
     "data": {
      "text/plain": [
       "8"
      ]
     },
     "execution_count": 76,
     "metadata": {},
     "output_type": "execute_result"
    }
   ],
   "source": [
    "len(car)"
   ]
  },
  {
   "cell_type": "code",
   "execution_count": 77,
   "id": "6a33727d",
   "metadata": {},
   "outputs": [
    {
     "data": {
      "text/plain": [
       "{'name': 'BMW',\n",
       " 'price': 200000,\n",
       " 'color': 'Red',\n",
       " 'head_light': 'Red',\n",
       " 'mil': 45,\n",
       " 'HP': 1200,\n",
       " 'a': 120,\n",
       " 'b': 4554}"
      ]
     },
     "execution_count": 77,
     "metadata": {},
     "output_type": "execute_result"
    }
   ],
   "source": [
    "car"
   ]
  },
  {
   "cell_type": "code",
   "execution_count": 82,
   "id": "6d516f2f",
   "metadata": {},
   "outputs": [],
   "source": [
    "#update"
   ]
  },
  {
   "cell_type": "code",
   "execution_count": 83,
   "id": "28999dc5",
   "metadata": {},
   "outputs": [
    {
     "data": {
      "text/plain": [
       "{'name': 'BMW',\n",
       " 'price': 200000,\n",
       " 'color': 'Red',\n",
       " 'head_light': 'Red',\n",
       " 'mil': 45,\n",
       " 'HP': 1200,\n",
       " 'a': 120,\n",
       " 'b': 4554}"
      ]
     },
     "execution_count": 83,
     "metadata": {},
     "output_type": "execute_result"
    }
   ],
   "source": [
    "car"
   ]
  },
  {
   "cell_type": "code",
   "execution_count": 84,
   "id": "27c2a2ae",
   "metadata": {},
   "outputs": [],
   "source": [
    "car['name'] = 'Altroz'"
   ]
  },
  {
   "cell_type": "code",
   "execution_count": 85,
   "id": "7c976d40",
   "metadata": {},
   "outputs": [
    {
     "data": {
      "text/plain": [
       "{'name': 'Altroz',\n",
       " 'price': 200000,\n",
       " 'color': 'Red',\n",
       " 'head_light': 'Red',\n",
       " 'mil': 45,\n",
       " 'HP': 1200,\n",
       " 'a': 120,\n",
       " 'b': 4554}"
      ]
     },
     "execution_count": 85,
     "metadata": {},
     "output_type": "execute_result"
    }
   ],
   "source": [
    "car"
   ]
  },
  {
   "cell_type": "code",
   "execution_count": 86,
   "id": "b32bb10e",
   "metadata": {},
   "outputs": [
    {
     "data": {
      "text/plain": [
       "{'name': 'Altroz',\n",
       " 'price': 200000,\n",
       " 'color': 'Red',\n",
       " 'head_light': 'Red',\n",
       " 'mil': 45,\n",
       " 'HP': 1200,\n",
       " 'a': 120,\n",
       " 'b': 4554}"
      ]
     },
     "execution_count": 86,
     "metadata": {},
     "output_type": "execute_result"
    }
   ],
   "source": [
    "car"
   ]
  },
  {
   "cell_type": "code",
   "execution_count": 87,
   "id": "d2723b17",
   "metadata": {},
   "outputs": [],
   "source": [
    "car['colorr'] = 'Blue'"
   ]
  },
  {
   "cell_type": "code",
   "execution_count": 88,
   "id": "353f0792",
   "metadata": {},
   "outputs": [
    {
     "data": {
      "text/plain": [
       "{'name': 'Altroz',\n",
       " 'price': 200000,\n",
       " 'color': 'Red',\n",
       " 'head_light': 'Red',\n",
       " 'mil': 45,\n",
       " 'HP': 1200,\n",
       " 'a': 120,\n",
       " 'b': 4554,\n",
       " 'colorr': 'Blue'}"
      ]
     },
     "execution_count": 88,
     "metadata": {},
     "output_type": "execute_result"
    }
   ],
   "source": [
    "car"
   ]
  },
  {
   "cell_type": "code",
   "execution_count": 89,
   "id": "47ac8dd1",
   "metadata": {},
   "outputs": [],
   "source": [
    "car['color'] = 'Black'"
   ]
  },
  {
   "cell_type": "code",
   "execution_count": 90,
   "id": "a2d418b2",
   "metadata": {},
   "outputs": [
    {
     "data": {
      "text/plain": [
       "{'name': 'Altroz',\n",
       " 'price': 200000,\n",
       " 'color': 'Black',\n",
       " 'head_light': 'Red',\n",
       " 'mil': 45,\n",
       " 'HP': 1200,\n",
       " 'a': 120,\n",
       " 'b': 4554,\n",
       " 'colorr': 'Blue'}"
      ]
     },
     "execution_count": 90,
     "metadata": {},
     "output_type": "execute_result"
    }
   ],
   "source": [
    "car"
   ]
  },
  {
   "cell_type": "code",
   "execution_count": null,
   "id": "f738b683",
   "metadata": {},
   "outputs": [],
   "source": [
    "type casting --> small "
   ]
  },
  {
   "cell_type": "code",
   "execution_count": 91,
   "id": "a9c185f9",
   "metadata": {},
   "outputs": [
    {
     "data": {
      "text/plain": [
       "{'name': 'Altroz',\n",
       " 'price': 200000,\n",
       " 'color': 'Black',\n",
       " 'head_light': 'Red',\n",
       " 'mil': 45,\n",
       " 'HP': 1200,\n",
       " 'a': 120,\n",
       " 'b': 4554,\n",
       " 'colorr': 'Blue'}"
      ]
     },
     "execution_count": 91,
     "metadata": {},
     "output_type": "execute_result"
    }
   ],
   "source": [
    "car"
   ]
  },
  {
   "cell_type": "code",
   "execution_count": 93,
   "id": "69ab7ef0",
   "metadata": {},
   "outputs": [
    {
     "data": {
      "text/plain": [
       "'Altroz'"
      ]
     },
     "execution_count": 93,
     "metadata": {},
     "output_type": "execute_result"
    }
   ],
   "source": [
    "car.pop('name')"
   ]
  },
  {
   "cell_type": "code",
   "execution_count": 94,
   "id": "4859aa3f",
   "metadata": {},
   "outputs": [
    {
     "data": {
      "text/plain": [
       "{'price': 200000,\n",
       " 'color': 'Black',\n",
       " 'head_light': 'Red',\n",
       " 'mil': 45,\n",
       " 'HP': 1200,\n",
       " 'a': 120,\n",
       " 'b': 4554,\n",
       " 'colorr': 'Blue'}"
      ]
     },
     "execution_count": 94,
     "metadata": {},
     "output_type": "execute_result"
    }
   ],
   "source": [
    "car"
   ]
  },
  {
   "cell_type": "code",
   "execution_count": 95,
   "id": "82932d06",
   "metadata": {},
   "outputs": [
    {
     "data": {
      "text/plain": [
       "('colorr', 'Blue')"
      ]
     },
     "execution_count": 95,
     "metadata": {},
     "output_type": "execute_result"
    }
   ],
   "source": [
    "car.popitem()"
   ]
  },
  {
   "cell_type": "code",
   "execution_count": 96,
   "id": "83227f5f",
   "metadata": {},
   "outputs": [
    {
     "data": {
      "text/plain": [
       "('b', 4554)"
      ]
     },
     "execution_count": 96,
     "metadata": {},
     "output_type": "execute_result"
    }
   ],
   "source": [
    "car.popitem()"
   ]
  },
  {
   "cell_type": "code",
   "execution_count": null,
   "id": "3b26c67a",
   "metadata": {},
   "outputs": [],
   "source": [
    "pop ---> key:value -----> key\n",
    "\n",
    "popitem -- > ranodmly it will item"
   ]
  },
  {
   "cell_type": "code",
   "execution_count": null,
   "id": "85333971",
   "metadata": {},
   "outputs": [],
   "source": []
  },
  {
   "cell_type": "code",
   "execution_count": 97,
   "id": "bbaae3d0",
   "metadata": {},
   "outputs": [
    {
     "data": {
      "text/plain": [
       "{'price': 200000,\n",
       " 'color': 'Black',\n",
       " 'head_light': 'Red',\n",
       " 'mil': 45,\n",
       " 'HP': 1200,\n",
       " 'a': 120}"
      ]
     },
     "execution_count": 97,
     "metadata": {},
     "output_type": "execute_result"
    }
   ],
   "source": [
    "car"
   ]
  },
  {
   "cell_type": "code",
   "execution_count": 98,
   "id": "4f3bed05",
   "metadata": {},
   "outputs": [],
   "source": [
    "del car['HP']"
   ]
  },
  {
   "cell_type": "code",
   "execution_count": 100,
   "id": "791a19a8",
   "metadata": {},
   "outputs": [
    {
     "data": {
      "text/plain": [
       "{'price': 200000, 'color': 'Black', 'head_light': 'Red', 'mil': 45, 'a': 120}"
      ]
     },
     "execution_count": 100,
     "metadata": {},
     "output_type": "execute_result"
    }
   ],
   "source": [
    "car"
   ]
  },
  {
   "cell_type": "code",
   "execution_count": 101,
   "id": "808ce6d1",
   "metadata": {},
   "outputs": [
    {
     "ename": "KeyError",
     "evalue": "1200",
     "output_type": "error",
     "traceback": [
      "\u001b[1;31m---------------------------------------------------------------------------\u001b[0m",
      "\u001b[1;31mKeyError\u001b[0m                                  Traceback (most recent call last)",
      "\u001b[1;32m<ipython-input-101-635fc27878a1>\u001b[0m in \u001b[0;36m<module>\u001b[1;34m\u001b[0m\n\u001b[1;32m----> 1\u001b[1;33m \u001b[1;32mdel\u001b[0m \u001b[0mcar\u001b[0m\u001b[1;33m[\u001b[0m\u001b[1;36m1200\u001b[0m\u001b[1;33m]\u001b[0m\u001b[1;33m\u001b[0m\u001b[1;33m\u001b[0m\u001b[0m\n\u001b[0m",
      "\u001b[1;31mKeyError\u001b[0m: 1200"
     ]
    }
   ],
   "source": [
    "del car[1200]"
   ]
  },
  {
   "cell_type": "code",
   "execution_count": 102,
   "id": "05322590",
   "metadata": {},
   "outputs": [
    {
     "data": {
      "text/plain": [
       "{'price': 200000, 'color': 'Black', 'head_light': 'Red', 'mil': 45, 'a': 120}"
      ]
     },
     "execution_count": 102,
     "metadata": {},
     "output_type": "execute_result"
    }
   ],
   "source": [
    "car"
   ]
  },
  {
   "cell_type": "code",
   "execution_count": 103,
   "id": "520b22c5",
   "metadata": {},
   "outputs": [],
   "source": [
    "car.clear()"
   ]
  },
  {
   "cell_type": "code",
   "execution_count": 104,
   "id": "f3e3c428",
   "metadata": {},
   "outputs": [
    {
     "data": {
      "text/plain": [
       "{}"
      ]
     },
     "execution_count": 104,
     "metadata": {},
     "output_type": "execute_result"
    }
   ],
   "source": [
    "car"
   ]
  },
  {
   "cell_type": "code",
   "execution_count": 105,
   "id": "346d5431",
   "metadata": {},
   "outputs": [],
   "source": [
    "del car"
   ]
  },
  {
   "cell_type": "code",
   "execution_count": 106,
   "id": "89bb99b1",
   "metadata": {},
   "outputs": [
    {
     "ename": "NameError",
     "evalue": "name 'car' is not defined",
     "output_type": "error",
     "traceback": [
      "\u001b[1;31m---------------------------------------------------------------------------\u001b[0m",
      "\u001b[1;31mNameError\u001b[0m                                 Traceback (most recent call last)",
      "\u001b[1;32m<ipython-input-106-38f6ffefbd69>\u001b[0m in \u001b[0;36m<module>\u001b[1;34m\u001b[0m\n\u001b[1;32m----> 1\u001b[1;33m \u001b[0mcar\u001b[0m\u001b[1;33m\u001b[0m\u001b[1;33m\u001b[0m\u001b[0m\n\u001b[0m",
      "\u001b[1;31mNameError\u001b[0m: name 'car' is not defined"
     ]
    }
   ],
   "source": [
    "car"
   ]
  },
  {
   "cell_type": "code",
   "execution_count": 8,
   "id": "cf516104",
   "metadata": {},
   "outputs": [],
   "source": [
    "my_dict = {\n",
    "    'Product_name':'Gold',\n",
    "    'Product_Price':54000,\n",
    "    'Product_qnty':10,\n",
    "    'Product_name':'Silver'\n",
    "    \n",
    "}"
   ]
  },
  {
   "cell_type": "code",
   "execution_count": 9,
   "id": "7d5dcb77",
   "metadata": {},
   "outputs": [
    {
     "data": {
      "text/plain": [
       "{'Product_name': 'Silver', 'Product_Price': 54000, 'Product_qnty': 10}"
      ]
     },
     "execution_count": 9,
     "metadata": {},
     "output_type": "execute_result"
    }
   ],
   "source": [
    "my_dict"
   ]
  },
  {
   "cell_type": "code",
   "execution_count": 4,
   "id": "f47c63d3",
   "metadata": {},
   "outputs": [
    {
     "data": {
      "text/plain": [
       "{'product_name': 'Gold', 'Product_Price': 54000, 'Product_qnty': 10}"
      ]
     },
     "execution_count": 4,
     "metadata": {},
     "output_type": "execute_result"
    }
   ],
   "source": [
    "my_dict"
   ]
  },
  {
   "cell_type": "code",
   "execution_count": 10,
   "id": "be826d28",
   "metadata": {},
   "outputs": [],
   "source": [
    "#1.How to create dict"
   ]
  },
  {
   "cell_type": "code",
   "execution_count": null,
   "id": "56dfe4b2",
   "metadata": {},
   "outputs": [],
   "source": [
    "key:\n",
    "    immutable --> number,str,tuple"
   ]
  },
  {
   "cell_type": "code",
   "execution_count": 12,
   "id": "3d7f2b4f",
   "metadata": {},
   "outputs": [],
   "source": [
    "d = {1:'a',2:'b',3:'c'}"
   ]
  },
  {
   "cell_type": "code",
   "execution_count": 13,
   "id": "4ff3e97f",
   "metadata": {},
   "outputs": [
    {
     "data": {
      "text/plain": [
       "{1: 'a', 2: 'b', 3: 'c'}"
      ]
     },
     "execution_count": 13,
     "metadata": {},
     "output_type": "execute_result"
    }
   ],
   "source": [
    "d"
   ]
  },
  {
   "cell_type": "code",
   "execution_count": 14,
   "id": "97b0b754",
   "metadata": {},
   "outputs": [
    {
     "data": {
      "text/plain": [
       "dict_keys([1, 2, 3])"
      ]
     },
     "execution_count": 14,
     "metadata": {},
     "output_type": "execute_result"
    }
   ],
   "source": [
    "d.keys()"
   ]
  },
  {
   "cell_type": "code",
   "execution_count": 15,
   "id": "61016048",
   "metadata": {},
   "outputs": [
    {
     "data": {
      "text/plain": [
       "dict_values(['a', 'b', 'c'])"
      ]
     },
     "execution_count": 15,
     "metadata": {},
     "output_type": "execute_result"
    }
   ],
   "source": [
    "d.values()"
   ]
  },
  {
   "cell_type": "code",
   "execution_count": 16,
   "id": "3d8fa418",
   "metadata": {},
   "outputs": [],
   "source": [
    "d1 = {\n",
    "    (1,2,3):'python',\n",
    "    (2,4,5):'java'\n",
    "}"
   ]
  },
  {
   "cell_type": "code",
   "execution_count": 17,
   "id": "7c7b9075",
   "metadata": {},
   "outputs": [
    {
     "data": {
      "text/plain": [
       "{(1, 2, 3): 'python', (2, 4, 5): 'java'}"
      ]
     },
     "execution_count": 17,
     "metadata": {},
     "output_type": "execute_result"
    }
   ],
   "source": [
    "d1"
   ]
  },
  {
   "cell_type": "code",
   "execution_count": 18,
   "id": "9756d930",
   "metadata": {},
   "outputs": [],
   "source": [
    "#Note even we can use tuple as key but it is not recommended"
   ]
  },
  {
   "cell_type": "code",
   "execution_count": 19,
   "id": "480f7e3a",
   "metadata": {},
   "outputs": [],
   "source": [
    "d2 = {\n",
    "    101 : 'Arun',\n",
    "    'city':'pune'\n",
    "}"
   ]
  },
  {
   "cell_type": "code",
   "execution_count": 20,
   "id": "c4f73c35",
   "metadata": {},
   "outputs": [
    {
     "data": {
      "text/plain": [
       "{101: 'Arun', 'city': 'pune'}"
      ]
     },
     "execution_count": 20,
     "metadata": {},
     "output_type": "execute_result"
    }
   ],
   "source": [
    "d2"
   ]
  },
  {
   "cell_type": "code",
   "execution_count": null,
   "id": "9a5f1779",
   "metadata": {},
   "outputs": [],
   "source": [
    "key:value"
   ]
  },
  {
   "cell_type": "code",
   "execution_count": 21,
   "id": "c80bc5e7",
   "metadata": {},
   "outputs": [],
   "source": [
    "#complex"
   ]
  },
  {
   "cell_type": "code",
   "execution_count": 28,
   "id": "b60139a0",
   "metadata": {},
   "outputs": [],
   "source": [
    "d = {'id':[101,102,103,104],\n",
    "    'name':['a','b','c','d'],\n",
    "    'city':['pune','mumbai','pune','chennai']}"
   ]
  },
  {
   "cell_type": "code",
   "execution_count": 29,
   "id": "b47b6e71",
   "metadata": {},
   "outputs": [
    {
     "data": {
      "text/plain": [
       "{'id': [101, 102, 103, 104],\n",
       " 'name': ['a', 'b', 'c', 'd'],\n",
       " 'city': ['pune', 'mumbai', 'pune', 'chennai']}"
      ]
     },
     "execution_count": 29,
     "metadata": {},
     "output_type": "execute_result"
    }
   ],
   "source": [
    "d"
   ]
  },
  {
   "cell_type": "code",
   "execution_count": 31,
   "id": "9e0b6137",
   "metadata": {},
   "outputs": [],
   "source": [
    "d['city'].append('Banglore')"
   ]
  },
  {
   "cell_type": "code",
   "execution_count": 32,
   "id": "19a3f260",
   "metadata": {},
   "outputs": [
    {
     "data": {
      "text/plain": [
       "{'id': [101, 102, 103, 104],\n",
       " 'name': ['a', 'b', 'c', 'd'],\n",
       " 'city': ['pune', 'mumbai', 'pune', 'chennai', 'Banglore']}"
      ]
     },
     "execution_count": 32,
     "metadata": {},
     "output_type": "execute_result"
    }
   ],
   "source": [
    "d"
   ]
  },
  {
   "cell_type": "code",
   "execution_count": 33,
   "id": "2a7d4dc6",
   "metadata": {},
   "outputs": [],
   "source": [
    "d['new'] = [1,2,3,3,4]"
   ]
  },
  {
   "cell_type": "code",
   "execution_count": 34,
   "id": "98a05827",
   "metadata": {},
   "outputs": [
    {
     "data": {
      "text/plain": [
       "{'id': [101, 102, 103, 104],\n",
       " 'name': ['a', 'b', 'c', 'd'],\n",
       " 'city': ['pune', 'mumbai', 'pune', 'chennai', 'Banglore'],\n",
       " 'new': [1, 2, 3, 3, 4]}"
      ]
     },
     "execution_count": 34,
     "metadata": {},
     "output_type": "execute_result"
    }
   ],
   "source": [
    "d"
   ]
  },
  {
   "cell_type": "code",
   "execution_count": 35,
   "id": "1a6faa3f",
   "metadata": {},
   "outputs": [
    {
     "data": {
      "text/plain": [
       "['a', 'b', 'c', 'd']"
      ]
     },
     "execution_count": 35,
     "metadata": {},
     "output_type": "execute_result"
    }
   ],
   "source": []
  },
  {
   "cell_type": "code",
   "execution_count": 37,
   "id": "15d1a699",
   "metadata": {},
   "outputs": [],
   "source": [
    "d['name'] = 500"
   ]
  },
  {
   "cell_type": "code",
   "execution_count": 38,
   "id": "66088a50",
   "metadata": {},
   "outputs": [
    {
     "data": {
      "text/plain": [
       "{'id': [101, 102, 103, 104],\n",
       " 'name': 500,\n",
       " 'city': ['pune', 'mumbai', 'pune', 'chennai', 'Banglore'],\n",
       " 'new': [1, 2, 3, 3, 4]}"
      ]
     },
     "execution_count": 38,
     "metadata": {},
     "output_type": "execute_result"
    }
   ],
   "source": [
    "d"
   ]
  },
  {
   "cell_type": "code",
   "execution_count": 40,
   "id": "9ff7c8a1",
   "metadata": {},
   "outputs": [],
   "source": [
    "d['id'].append(105)"
   ]
  },
  {
   "cell_type": "code",
   "execution_count": 41,
   "id": "d1d26b81",
   "metadata": {},
   "outputs": [
    {
     "data": {
      "text/plain": [
       "{'id': [101, 102, 103, 104, 105],\n",
       " 'name': 500,\n",
       " 'city': ['pune', 'mumbai', 'pune', 'chennai', 'Banglore'],\n",
       " 'new': [1, 2, 3, 3, 4]}"
      ]
     },
     "execution_count": 41,
     "metadata": {},
     "output_type": "execute_result"
    }
   ],
   "source": [
    "d"
   ]
  },
  {
   "cell_type": "code",
   "execution_count": 56,
   "id": "2fd9e6b0",
   "metadata": {},
   "outputs": [],
   "source": [
    "temp = {'id': {101, 102, 103, 104, 105},\n",
    " 'name': [1,2,23,3],\n",
    " 'city': ('pune', 'mumbai', 'pune', 'chennai', 'Banglore'),\n",
    " 'new': {1:1, 2:2, 3:3, 3:100, 4:4}}"
   ]
  },
  {
   "cell_type": "code",
   "execution_count": 57,
   "id": "430f0649",
   "metadata": {},
   "outputs": [
    {
     "data": {
      "text/plain": [
       "{'id': {101, 102, 103, 104, 105},\n",
       " 'name': [1, 2, 23, 3],\n",
       " 'city': ('pune', 'mumbai', 'pune', 'chennai', 'Banglore'),\n",
       " 'new': {1: 1, 2: 2, 3: 100, 4: 4}}"
      ]
     },
     "execution_count": 57,
     "metadata": {},
     "output_type": "execute_result"
    }
   ],
   "source": [
    "temp"
   ]
  },
  {
   "cell_type": "code",
   "execution_count": 49,
   "id": "0dc006e4",
   "metadata": {},
   "outputs": [],
   "source": [
    "temp['id'].add(900)"
   ]
  },
  {
   "cell_type": "code",
   "execution_count": 50,
   "id": "7279d820",
   "metadata": {},
   "outputs": [
    {
     "data": {
      "text/plain": [
       "{'id': {101, 102, 103, 104, 105, 900},\n",
       " 'name': [1, 2, 23, 3],\n",
       " 'city': ('pune', 'mumbai', 'pune', 'chennai', 'Banglore'),\n",
       " 'new': [1, 2, 3, 3, 4]}"
      ]
     },
     "execution_count": 50,
     "metadata": {},
     "output_type": "execute_result"
    }
   ],
   "source": [
    "temp"
   ]
  },
  {
   "cell_type": "code",
   "execution_count": 53,
   "id": "9295696a",
   "metadata": {},
   "outputs": [
    {
     "data": {
      "text/plain": [
       "0"
      ]
     },
     "execution_count": 53,
     "metadata": {},
     "output_type": "execute_result"
    }
   ],
   "source": [
    "temp['city'].index('pune')"
   ]
  },
  {
   "cell_type": "code",
   "execution_count": 54,
   "id": "f3030475",
   "metadata": {},
   "outputs": [
    {
     "data": {
      "text/plain": [
       "{'id': {101, 102, 103, 104, 105, 900},\n",
       " 'name': [1, 2, 23, 3],\n",
       " 'city': ('pune', 'mumbai', 'pune', 'chennai', 'Banglore'),\n",
       " 'new': [1, 2, 3, 3, 4]}"
      ]
     },
     "execution_count": 54,
     "metadata": {},
     "output_type": "execute_result"
    }
   ],
   "source": [
    "temp"
   ]
  },
  {
   "cell_type": "code",
   "execution_count": 58,
   "id": "1591a7e4",
   "metadata": {},
   "outputs": [
    {
     "data": {
      "text/plain": [
       "{1: 1, 2: 2, 3: 100, 4: 4}"
      ]
     },
     "execution_count": 58,
     "metadata": {},
     "output_type": "execute_result"
    }
   ],
   "source": [
    "temp['new']"
   ]
  },
  {
   "cell_type": "code",
   "execution_count": null,
   "id": "9b294d30",
   "metadata": {},
   "outputs": [],
   "source": [
    "key -- string,number,tuple\n",
    "values -- list,set,tuple,string,dict"
   ]
  },
  {
   "cell_type": "code",
   "execution_count": null,
   "id": "b748f90a",
   "metadata": {},
   "outputs": [],
   "source": []
  },
  {
   "cell_type": "code",
   "execution_count": 59,
   "id": "0c03185e",
   "metadata": {},
   "outputs": [],
   "source": []
  },
  {
   "cell_type": "code",
   "execution_count": null,
   "id": "192f1a74",
   "metadata": {},
   "outputs": [],
   "source": []
  },
  {
   "cell_type": "code",
   "execution_count": 67,
   "id": "d2f4e399",
   "metadata": {},
   "outputs": [],
   "source": [
    "d = {'a':101,'b':102,'c':104}"
   ]
  },
  {
   "cell_type": "code",
   "execution_count": 68,
   "id": "4b61bee7",
   "metadata": {},
   "outputs": [
    {
     "data": {
      "text/plain": [
       "{'a': 101, 'b': 102, 'c': 104}"
      ]
     },
     "execution_count": 68,
     "metadata": {},
     "output_type": "execute_result"
    }
   ],
   "source": [
    "d"
   ]
  },
  {
   "cell_type": "code",
   "execution_count": 69,
   "id": "7012cb51",
   "metadata": {},
   "outputs": [
    {
     "data": {
      "text/plain": [
       "dict"
      ]
     },
     "execution_count": 69,
     "metadata": {},
     "output_type": "execute_result"
    }
   ],
   "source": [
    "type(d)"
   ]
  },
  {
   "cell_type": "code",
   "execution_count": 70,
   "id": "a319a9f7",
   "metadata": {},
   "outputs": [
    {
     "data": {
      "text/plain": [
       "102"
      ]
     },
     "execution_count": 70,
     "metadata": {},
     "output_type": "execute_result"
    }
   ],
   "source": [
    "d.pop('b') "
   ]
  },
  {
   "cell_type": "code",
   "execution_count": 71,
   "id": "39d8f344",
   "metadata": {},
   "outputs": [
    {
     "data": {
      "text/plain": [
       "{'a': 101, 'c': 104}"
      ]
     },
     "execution_count": 71,
     "metadata": {},
     "output_type": "execute_result"
    }
   ],
   "source": [
    "d"
   ]
  },
  {
   "cell_type": "code",
   "execution_count": 72,
   "id": "ab03b763",
   "metadata": {},
   "outputs": [],
   "source": [
    "#pop method it is used delete item by using key"
   ]
  },
  {
   "cell_type": "code",
   "execution_count": 73,
   "id": "3d565a0e",
   "metadata": {},
   "outputs": [],
   "source": [
    "d.update({'e':100,'t':700})"
   ]
  },
  {
   "cell_type": "code",
   "execution_count": 74,
   "id": "1121bd63",
   "metadata": {},
   "outputs": [
    {
     "data": {
      "text/plain": [
       "{'a': 101, 'c': 104, 'e': 100, 't': 700}"
      ]
     },
     "execution_count": 74,
     "metadata": {},
     "output_type": "execute_result"
    }
   ],
   "source": [
    "d"
   ]
  },
  {
   "cell_type": "code",
   "execution_count": 75,
   "id": "6842d408",
   "metadata": {},
   "outputs": [
    {
     "data": {
      "text/plain": [
       "('t', 700)"
      ]
     },
     "execution_count": 75,
     "metadata": {},
     "output_type": "execute_result"
    }
   ],
   "source": [
    "d.popitem()"
   ]
  },
  {
   "cell_type": "code",
   "execution_count": 76,
   "id": "c4c35ee5",
   "metadata": {},
   "outputs": [
    {
     "data": {
      "text/plain": [
       "{'a': 101, 'c': 104, 'e': 100}"
      ]
     },
     "execution_count": 76,
     "metadata": {},
     "output_type": "execute_result"
    }
   ],
   "source": [
    "d"
   ]
  },
  {
   "cell_type": "code",
   "execution_count": 77,
   "id": "398c948f",
   "metadata": {},
   "outputs": [
    {
     "data": {
      "text/plain": [
       "('e', 100)"
      ]
     },
     "execution_count": 77,
     "metadata": {},
     "output_type": "execute_result"
    }
   ],
   "source": [
    "d.popitem()"
   ]
  },
  {
   "cell_type": "code",
   "execution_count": 78,
   "id": "9bda6847",
   "metadata": {},
   "outputs": [
    {
     "data": {
      "text/plain": [
       "('c', 104)"
      ]
     },
     "execution_count": 78,
     "metadata": {},
     "output_type": "execute_result"
    }
   ],
   "source": [
    "d.popitem()"
   ]
  },
  {
   "cell_type": "code",
   "execution_count": 79,
   "id": "88ea16a4",
   "metadata": {},
   "outputs": [
    {
     "data": {
      "text/plain": [
       "('a', 101)"
      ]
     },
     "execution_count": 79,
     "metadata": {},
     "output_type": "execute_result"
    }
   ],
   "source": [
    "d.popitem()"
   ]
  },
  {
   "cell_type": "code",
   "execution_count": 80,
   "id": "e6f23f93",
   "metadata": {},
   "outputs": [
    {
     "data": {
      "text/plain": [
       "{}"
      ]
     },
     "execution_count": 80,
     "metadata": {},
     "output_type": "execute_result"
    }
   ],
   "source": [
    "d"
   ]
  },
  {
   "cell_type": "code",
   "execution_count": 81,
   "id": "d41f1fb2",
   "metadata": {},
   "outputs": [
    {
     "ename": "KeyError",
     "evalue": "'popitem(): dictionary is empty'",
     "output_type": "error",
     "traceback": [
      "\u001b[1;31m---------------------------------------------------------------------------\u001b[0m",
      "\u001b[1;31mKeyError\u001b[0m                                  Traceback (most recent call last)",
      "\u001b[1;32m<ipython-input-81-83c64cff336b>\u001b[0m in \u001b[0;36m<module>\u001b[1;34m\u001b[0m\n\u001b[1;32m----> 1\u001b[1;33m \u001b[0md\u001b[0m\u001b[1;33m.\u001b[0m\u001b[0mpopitem\u001b[0m\u001b[1;33m(\u001b[0m\u001b[1;33m)\u001b[0m\u001b[1;33m\u001b[0m\u001b[1;33m\u001b[0m\u001b[0m\n\u001b[0m",
      "\u001b[1;31mKeyError\u001b[0m: 'popitem(): dictionary is empty'"
     ]
    }
   ],
   "source": [
    "d.popitem()"
   ]
  },
  {
   "cell_type": "code",
   "execution_count": null,
   "id": "9250beaa",
   "metadata": {},
   "outputs": [],
   "source": [
    "pop ---> \n",
    "popitem ---> last in first out"
   ]
  },
  {
   "cell_type": "code",
   "execution_count": null,
   "id": "7ae2198b",
   "metadata": {},
   "outputs": [],
   "source": []
  },
  {
   "cell_type": "code",
   "execution_count": 82,
   "id": "8a9a2824",
   "metadata": {},
   "outputs": [],
   "source": [
    "#want to create dict but you dont have values"
   ]
  },
  {
   "cell_type": "code",
   "execution_count": 83,
   "id": "ed2c2a76",
   "metadata": {},
   "outputs": [],
   "source": [
    "k = ('name','city','salary')"
   ]
  },
  {
   "cell_type": "code",
   "execution_count": 87,
   "id": "1e0a72f2",
   "metadata": {},
   "outputs": [],
   "source": [
    "my_dict = dict.fromkeys(k,'no data')"
   ]
  },
  {
   "cell_type": "code",
   "execution_count": 88,
   "id": "4d43ef05",
   "metadata": {},
   "outputs": [
    {
     "data": {
      "text/plain": [
       "{'name': 'no data', 'city': 'no data', 'salary': 'no data'}"
      ]
     },
     "execution_count": 88,
     "metadata": {},
     "output_type": "execute_result"
    }
   ],
   "source": [
    "my_dict"
   ]
  },
  {
   "cell_type": "code",
   "execution_count": 90,
   "id": "3af00e6a",
   "metadata": {},
   "outputs": [],
   "source": [
    "my_dict['name'] = ['a','b']"
   ]
  },
  {
   "cell_type": "code",
   "execution_count": 91,
   "id": "40f8ff05",
   "metadata": {},
   "outputs": [
    {
     "data": {
      "text/plain": [
       "{'name': ['a', 'b'], 'city': 'no data', 'salary': 'no data'}"
      ]
     },
     "execution_count": 91,
     "metadata": {},
     "output_type": "execute_result"
    }
   ],
   "source": [
    "my_dict"
   ]
  },
  {
   "cell_type": "code",
   "execution_count": 92,
   "id": "0e58a152",
   "metadata": {},
   "outputs": [],
   "source": [
    "#how to create from only keys"
   ]
  },
  {
   "cell_type": "code",
   "execution_count": 101,
   "id": "492e9df7",
   "metadata": {},
   "outputs": [],
   "source": [
    "p = {}"
   ]
  },
  {
   "cell_type": "code",
   "execution_count": 102,
   "id": "c3d3d087",
   "metadata": {},
   "outputs": [
    {
     "data": {
      "text/plain": [
       "('name', 'city', 'salary')"
      ]
     },
     "execution_count": 102,
     "metadata": {},
     "output_type": "execute_result"
    }
   ],
   "source": [
    "k"
   ]
  },
  {
   "cell_type": "code",
   "execution_count": 103,
   "id": "3dc97196",
   "metadata": {},
   "outputs": [
    {
     "data": {
      "text/plain": [
       "{'name': None, 'city': None, 'salary': None}"
      ]
     },
     "execution_count": 103,
     "metadata": {},
     "output_type": "execute_result"
    }
   ],
   "source": [
    "p.fromkeys(k)"
   ]
  },
  {
   "cell_type": "code",
   "execution_count": 99,
   "id": "44a08cc6",
   "metadata": {},
   "outputs": [],
   "source": [
    "p = {1,2}"
   ]
  },
  {
   "cell_type": "code",
   "execution_count": 100,
   "id": "516e680e",
   "metadata": {},
   "outputs": [
    {
     "data": {
      "text/plain": [
       "set"
      ]
     },
     "execution_count": 100,
     "metadata": {},
     "output_type": "execute_result"
    }
   ],
   "source": [
    "type(p)"
   ]
  },
  {
   "cell_type": "code",
   "execution_count": 104,
   "id": "47ccec63",
   "metadata": {},
   "outputs": [],
   "source": [
    "p = []"
   ]
  },
  {
   "cell_type": "code",
   "execution_count": 105,
   "id": "5942eb35",
   "metadata": {},
   "outputs": [
    {
     "data": {
      "text/plain": [
       "list"
      ]
     },
     "execution_count": 105,
     "metadata": {},
     "output_type": "execute_result"
    }
   ],
   "source": [
    "type(p)"
   ]
  },
  {
   "cell_type": "code",
   "execution_count": 106,
   "id": "0cc405c4",
   "metadata": {},
   "outputs": [
    {
     "data": {
      "text/plain": [
       "{}"
      ]
     },
     "execution_count": 106,
     "metadata": {},
     "output_type": "execute_result"
    }
   ],
   "source": [
    "d"
   ]
  },
  {
   "cell_type": "code",
   "execution_count": 107,
   "id": "878ad7b6",
   "metadata": {},
   "outputs": [],
   "source": [
    "d['name'] ='test'"
   ]
  },
  {
   "cell_type": "code",
   "execution_count": 108,
   "id": "8a02c87e",
   "metadata": {},
   "outputs": [],
   "source": [
    "d['id'] =101"
   ]
  },
  {
   "cell_type": "code",
   "execution_count": 109,
   "id": "d5ee2793",
   "metadata": {},
   "outputs": [
    {
     "data": {
      "text/plain": [
       "{'name': 'test', 'id': 101}"
      ]
     },
     "execution_count": 109,
     "metadata": {},
     "output_type": "execute_result"
    }
   ],
   "source": [
    "d"
   ]
  },
  {
   "cell_type": "code",
   "execution_count": 110,
   "id": "e4a49690",
   "metadata": {},
   "outputs": [
    {
     "data": {
      "text/plain": [
       "{'name': 'test', 'id': 101}"
      ]
     },
     "execution_count": 110,
     "metadata": {},
     "output_type": "execute_result"
    }
   ],
   "source": [
    "d"
   ]
  },
  {
   "cell_type": "code",
   "execution_count": 111,
   "id": "7dfee285",
   "metadata": {},
   "outputs": [
    {
     "data": {
      "text/plain": [
       "'test'"
      ]
     },
     "execution_count": 111,
     "metadata": {},
     "output_type": "execute_result"
    }
   ],
   "source": [
    "d.setdefault('name','python')"
   ]
  },
  {
   "cell_type": "code",
   "execution_count": 112,
   "id": "e0d9f718",
   "metadata": {},
   "outputs": [
    {
     "data": {
      "text/plain": [
       "{'name': 'test', 'id': 101}"
      ]
     },
     "execution_count": 112,
     "metadata": {},
     "output_type": "execute_result"
    }
   ],
   "source": [
    "d"
   ]
  },
  {
   "cell_type": "code",
   "execution_count": null,
   "id": "ab663147",
   "metadata": {},
   "outputs": [],
   "source": [
    "key present then skip \n",
    "\n",
    "\n",
    "key present then add the item"
   ]
  },
  {
   "cell_type": "code",
   "execution_count": 113,
   "id": "45b17346",
   "metadata": {},
   "outputs": [
    {
     "data": {
      "text/plain": [
       "{'name': 'test', 'id': 101}"
      ]
     },
     "execution_count": 113,
     "metadata": {},
     "output_type": "execute_result"
    }
   ],
   "source": [
    "d"
   ]
  },
  {
   "cell_type": "code",
   "execution_count": 114,
   "id": "8b817fdf",
   "metadata": {},
   "outputs": [
    {
     "data": {
      "text/plain": [
       "500"
      ]
     },
     "execution_count": 114,
     "metadata": {},
     "output_type": "execute_result"
    }
   ],
   "source": [
    "d.setdefault('score',500)"
   ]
  },
  {
   "cell_type": "code",
   "execution_count": 115,
   "id": "86e8d49f",
   "metadata": {},
   "outputs": [
    {
     "data": {
      "text/plain": [
       "{'name': 'test', 'id': 101, 'score': 500}"
      ]
     },
     "execution_count": 115,
     "metadata": {},
     "output_type": "execute_result"
    }
   ],
   "source": [
    "d"
   ]
  },
  {
   "cell_type": "code",
   "execution_count": 116,
   "id": "1575b90e",
   "metadata": {},
   "outputs": [
    {
     "data": {
      "text/plain": [
       "500"
      ]
     },
     "execution_count": 116,
     "metadata": {},
     "output_type": "execute_result"
    }
   ],
   "source": [
    "d.setdefault('score',500)"
   ]
  },
  {
   "cell_type": "code",
   "execution_count": 117,
   "id": "eb8992d8",
   "metadata": {},
   "outputs": [
    {
     "data": {
      "text/plain": [
       "{'name': 'test', 'id': 101, 'score': 500}"
      ]
     },
     "execution_count": 117,
     "metadata": {},
     "output_type": "execute_result"
    }
   ],
   "source": [
    "d"
   ]
  },
  {
   "cell_type": "code",
   "execution_count": 118,
   "id": "e6a2c3f2",
   "metadata": {},
   "outputs": [
    {
     "data": {
      "text/plain": [
       "500"
      ]
     },
     "execution_count": 118,
     "metadata": {},
     "output_type": "execute_result"
    }
   ],
   "source": [
    "d.setdefault('score',600)"
   ]
  },
  {
   "cell_type": "code",
   "execution_count": 119,
   "id": "bb1ab94d",
   "metadata": {},
   "outputs": [
    {
     "data": {
      "text/plain": [
       "{'name': 'test', 'id': 101, 'score': 500}"
      ]
     },
     "execution_count": 119,
     "metadata": {},
     "output_type": "execute_result"
    }
   ],
   "source": [
    "d"
   ]
  },
  {
   "cell_type": "code",
   "execution_count": 120,
   "id": "fc85cf24",
   "metadata": {},
   "outputs": [
    {
     "data": {
      "text/plain": [
       "101"
      ]
     },
     "execution_count": 120,
     "metadata": {},
     "output_type": "execute_result"
    }
   ],
   "source": [
    "d.setdefault('id',102)"
   ]
  },
  {
   "cell_type": "code",
   "execution_count": 121,
   "id": "b2d91816",
   "metadata": {},
   "outputs": [
    {
     "data": {
      "text/plain": [
       "{'name': 'test', 'id': 101, 'score': 500}"
      ]
     },
     "execution_count": 121,
     "metadata": {},
     "output_type": "execute_result"
    }
   ],
   "source": [
    "d"
   ]
  },
  {
   "cell_type": "code",
   "execution_count": 122,
   "id": "08610290",
   "metadata": {},
   "outputs": [
    {
     "data": {
      "text/plain": [
       "'pune'"
      ]
     },
     "execution_count": 122,
     "metadata": {},
     "output_type": "execute_result"
    }
   ],
   "source": [
    "d.setdefault('city','pune')"
   ]
  },
  {
   "cell_type": "code",
   "execution_count": 123,
   "id": "c6f51fb1",
   "metadata": {},
   "outputs": [
    {
     "data": {
      "text/plain": [
       "{'name': 'test', 'id': 101, 'score': 500, 'city': 'pune'}"
      ]
     },
     "execution_count": 123,
     "metadata": {},
     "output_type": "execute_result"
    }
   ],
   "source": [
    "d"
   ]
  },
  {
   "cell_type": "code",
   "execution_count": 124,
   "id": "b7226972",
   "metadata": {},
   "outputs": [
    {
     "data": {
      "text/plain": [
       "'test'"
      ]
     },
     "execution_count": 124,
     "metadata": {},
     "output_type": "execute_result"
    }
   ],
   "source": [
    "d.setdefault('name')"
   ]
  },
  {
   "cell_type": "code",
   "execution_count": 125,
   "id": "c80019ed",
   "metadata": {},
   "outputs": [],
   "source": [
    "d.setdefault('sadfsf')"
   ]
  },
  {
   "cell_type": "code",
   "execution_count": 126,
   "id": "56871607",
   "metadata": {},
   "outputs": [
    {
     "data": {
      "text/plain": [
       "{'name': 'test', 'id': 101, 'score': 500, 'city': 'pune', 'sadfsf': None}"
      ]
     },
     "execution_count": 126,
     "metadata": {},
     "output_type": "execute_result"
    }
   ],
   "source": [
    "d"
   ]
  },
  {
   "cell_type": "code",
   "execution_count": 127,
   "id": "9d9d4afc",
   "metadata": {},
   "outputs": [],
   "source": [
    "key = ('a','b','c','d')"
   ]
  },
  {
   "cell_type": "code",
   "execution_count": 128,
   "id": "77f9b355",
   "metadata": {},
   "outputs": [],
   "source": [
    "temp = dict.fromkeys(key)"
   ]
  },
  {
   "cell_type": "code",
   "execution_count": 129,
   "id": "86478beb",
   "metadata": {},
   "outputs": [
    {
     "data": {
      "text/plain": [
       "{'a': None, 'b': None, 'c': None, 'd': None}"
      ]
     },
     "execution_count": 129,
     "metadata": {},
     "output_type": "execute_result"
    }
   ],
   "source": [
    "temp"
   ]
  },
  {
   "cell_type": "code",
   "execution_count": null,
   "id": "08864171",
   "metadata": {},
   "outputs": [],
   "source": [
    "conclude:\n",
    "    get() ---> values from key ---> key not present then return default value\n",
    "    update() ---> add multiple key value pair(item)\n",
    "    keys() --- > fetch all keys\n",
    "    values() --> fetch all values\n",
    "     items() --> list of tuple key,value \n",
    "     pop() ---> delete item by using key\n",
    "    popitem() --> delete item last in first out\n",
    "    fromkeys() ---> to construct dict from only keys\n",
    "    setdefault() ---> insert item if key is not present\n",
    "    "
   ]
  }
 ],
 "metadata": {
  "kernelspec": {
   "display_name": "Python 3",
   "language": "python",
   "name": "python3"
  },
  "language_info": {
   "codemirror_mode": {
    "name": "ipython",
    "version": 3
   },
   "file_extension": ".py",
   "mimetype": "text/x-python",
   "name": "python",
   "nbconvert_exporter": "python",
   "pygments_lexer": "ipython3",
   "version": "3.8.8"
  }
 },
 "nbformat": 4,
 "nbformat_minor": 5
}

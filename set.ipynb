{
 "cells": [
  {
   "cell_type": "code",
   "execution_count": 1,
   "id": "7b5d8d9e",
   "metadata": {},
   "outputs": [],
   "source": [
    "#set\n",
    "it is collection of unique elements\n",
    "\n",
    "{at least one element}\n",
    "\n",
    "it is unorderd type"
   ]
  },
  {
   "cell_type": "code",
   "execution_count": 2,
   "id": "8df9611f",
   "metadata": {},
   "outputs": [],
   "source": [
    "p = {}"
   ]
  },
  {
   "cell_type": "code",
   "execution_count": 3,
   "id": "1594e0cf",
   "metadata": {},
   "outputs": [
    {
     "data": {
      "text/plain": [
       "dict"
      ]
     },
     "execution_count": 3,
     "metadata": {},
     "output_type": "execute_result"
    }
   ],
   "source": [
    "type(p)"
   ]
  },
  {
   "cell_type": "code",
   "execution_count": 4,
   "id": "f3e27436",
   "metadata": {},
   "outputs": [],
   "source": [
    "p = {40}"
   ]
  },
  {
   "cell_type": "code",
   "execution_count": 5,
   "id": "b717867c",
   "metadata": {},
   "outputs": [
    {
     "data": {
      "text/plain": [
       "{40}"
      ]
     },
     "execution_count": 5,
     "metadata": {},
     "output_type": "execute_result"
    }
   ],
   "source": [
    "p"
   ]
  },
  {
   "cell_type": "code",
   "execution_count": 6,
   "id": "63fedd97",
   "metadata": {},
   "outputs": [
    {
     "data": {
      "text/plain": [
       "set"
      ]
     },
     "execution_count": 6,
     "metadata": {},
     "output_type": "execute_result"
    }
   ],
   "source": [
    "type(p)"
   ]
  },
  {
   "cell_type": "code",
   "execution_count": 7,
   "id": "49dff180",
   "metadata": {},
   "outputs": [],
   "source": [
    "p = []"
   ]
  },
  {
   "cell_type": "code",
   "execution_count": 8,
   "id": "5f73a6f9",
   "metadata": {},
   "outputs": [
    {
     "data": {
      "text/plain": [
       "list"
      ]
     },
     "execution_count": 8,
     "metadata": {},
     "output_type": "execute_result"
    }
   ],
   "source": [
    "type(p)"
   ]
  },
  {
   "cell_type": "code",
   "execution_count": 9,
   "id": "aa5d8656",
   "metadata": {},
   "outputs": [],
   "source": [
    "p = ()"
   ]
  },
  {
   "cell_type": "code",
   "execution_count": 10,
   "id": "86437ced",
   "metadata": {},
   "outputs": [
    {
     "data": {
      "text/plain": [
       "tuple"
      ]
     },
     "execution_count": 10,
     "metadata": {},
     "output_type": "execute_result"
    }
   ],
   "source": [
    "type(p)"
   ]
  },
  {
   "cell_type": "code",
   "execution_count": 11,
   "id": "36888b5a",
   "metadata": {},
   "outputs": [],
   "source": [
    "p = {}"
   ]
  },
  {
   "cell_type": "code",
   "execution_count": 12,
   "id": "87815bbf",
   "metadata": {},
   "outputs": [
    {
     "data": {
      "text/plain": [
       "dict"
      ]
     },
     "execution_count": 12,
     "metadata": {},
     "output_type": "execute_result"
    }
   ],
   "source": [
    "type(p)"
   ]
  },
  {
   "cell_type": "code",
   "execution_count": 13,
   "id": "1a69189c",
   "metadata": {},
   "outputs": [],
   "source": [
    "p = {1,1,1,1,1,1,1,1,1,2,3,4,5}"
   ]
  },
  {
   "cell_type": "code",
   "execution_count": 14,
   "id": "cec0ac97",
   "metadata": {},
   "outputs": [
    {
     "data": {
      "text/plain": [
       "{1, 2, 3, 4, 5}"
      ]
     },
     "execution_count": 14,
     "metadata": {},
     "output_type": "execute_result"
    }
   ],
   "source": [
    "p"
   ]
  },
  {
   "cell_type": "code",
   "execution_count": 15,
   "id": "57669ac0",
   "metadata": {},
   "outputs": [],
   "source": [
    "p = [1,50,'python','java',100]"
   ]
  },
  {
   "cell_type": "code",
   "execution_count": 16,
   "id": "e3f15213",
   "metadata": {},
   "outputs": [
    {
     "data": {
      "text/plain": [
       "[1, 50, 'python', 'java', 100]"
      ]
     },
     "execution_count": 16,
     "metadata": {},
     "output_type": "execute_result"
    }
   ],
   "source": [
    "p"
   ]
  },
  {
   "cell_type": "code",
   "execution_count": 19,
   "id": "e14add03",
   "metadata": {},
   "outputs": [],
   "source": [
    "py_set = {1,50,'python','java',100}"
   ]
  },
  {
   "cell_type": "code",
   "execution_count": 20,
   "id": "55980a2c",
   "metadata": {},
   "outputs": [
    {
     "data": {
      "text/plain": [
       "{1, 100, 50, 'java', 'python'}"
      ]
     },
     "execution_count": 20,
     "metadata": {},
     "output_type": "execute_result"
    }
   ],
   "source": [
    "py_set"
   ]
  },
  {
   "cell_type": "code",
   "execution_count": null,
   "id": "33ad6dd5",
   "metadata": {},
   "outputs": [],
   "source": [
    "memory location fixed\n",
    "indexing no"
   ]
  },
  {
   "cell_type": "code",
   "execution_count": 22,
   "id": "d6c9261a",
   "metadata": {},
   "outputs": [
    {
     "ename": "TypeError",
     "evalue": "'set' object is not subscriptable",
     "output_type": "error",
     "traceback": [
      "\u001b[1;31m---------------------------------------------------------------------------\u001b[0m",
      "\u001b[1;31mTypeError\u001b[0m                                 Traceback (most recent call last)",
      "\u001b[1;32m<ipython-input-22-d225d8125761>\u001b[0m in \u001b[0;36m<module>\u001b[1;34m\u001b[0m\n\u001b[1;32m----> 1\u001b[1;33m \u001b[0mpy_set\u001b[0m\u001b[1;33m[\u001b[0m\u001b[1;36m3\u001b[0m\u001b[1;33m]\u001b[0m\u001b[1;33m\u001b[0m\u001b[1;33m\u001b[0m\u001b[0m\n\u001b[0m",
      "\u001b[1;31mTypeError\u001b[0m: 'set' object is not subscriptable"
     ]
    }
   ],
   "source": [
    "py_set[3]"
   ]
  },
  {
   "cell_type": "code",
   "execution_count": 23,
   "id": "25c1c08b",
   "metadata": {},
   "outputs": [],
   "source": [
    "#notaion == {} ---> at one least element"
   ]
  },
  {
   "cell_type": "code",
   "execution_count": null,
   "id": "d21c0e6a",
   "metadata": {},
   "outputs": [],
   "source": [
    "[] --- list\n",
    "() --- tuple\n",
    "{} --- one element set\n",
    "#{} == key:value -- dict"
   ]
  },
  {
   "cell_type": "code",
   "execution_count": 3,
   "id": "fbefd634",
   "metadata": {},
   "outputs": [],
   "source": [
    "p1 = {1,4,7,True,1,0,False,'python','java'}"
   ]
  },
  {
   "cell_type": "code",
   "execution_count": 5,
   "id": "175e1b38",
   "metadata": {},
   "outputs": [
    {
     "data": {
      "text/plain": [
       "{0, 1, 4, 7, 'java', 'python'}"
      ]
     },
     "execution_count": 5,
     "metadata": {},
     "output_type": "execute_result"
    }
   ],
   "source": [
    "p1"
   ]
  },
  {
   "cell_type": "code",
   "execution_count": 6,
   "id": "840f6cea",
   "metadata": {},
   "outputs": [
    {
     "data": {
      "text/plain": [
       "{0, 1, 4, 7, 'java', 'python'}"
      ]
     },
     "execution_count": 6,
     "metadata": {},
     "output_type": "execute_result"
    }
   ],
   "source": [
    "p1"
   ]
  },
  {
   "cell_type": "code",
   "execution_count": null,
   "id": "8dc3476e",
   "metadata": {},
   "outputs": [],
   "source": [
    "it mutable type\n",
    "\n",
    "insertion\n",
    "deletion\n",
    "updation"
   ]
  },
  {
   "cell_type": "code",
   "execution_count": 7,
   "id": "295467af",
   "metadata": {},
   "outputs": [
    {
     "data": {
      "text/plain": [
       "{0, 1, 4, 7, 'java', 'python'}"
      ]
     },
     "execution_count": 7,
     "metadata": {},
     "output_type": "execute_result"
    }
   ],
   "source": [
    "p1"
   ]
  },
  {
   "cell_type": "code",
   "execution_count": 8,
   "id": "39d4b1ed",
   "metadata": {},
   "outputs": [],
   "source": [
    "#insertion\n"
   ]
  },
  {
   "cell_type": "code",
   "execution_count": 9,
   "id": "4f35986f",
   "metadata": {},
   "outputs": [
    {
     "data": {
      "text/plain": [
       "{0, 1, 4, 7, 'java', 'python'}"
      ]
     },
     "execution_count": 9,
     "metadata": {},
     "output_type": "execute_result"
    }
   ],
   "source": [
    "p1"
   ]
  },
  {
   "cell_type": "code",
   "execution_count": 10,
   "id": "bb50a709",
   "metadata": {},
   "outputs": [
    {
     "data": {
      "text/plain": [
       "{0, 1, 4, 7, 'java', 'python'}"
      ]
     },
     "execution_count": 10,
     "metadata": {},
     "output_type": "execute_result"
    }
   ],
   "source": [
    "p1"
   ]
  },
  {
   "cell_type": "code",
   "execution_count": null,
   "id": "330892ec",
   "metadata": {},
   "outputs": [],
   "source": [
    "add() ---> add the single element\n",
    "update()"
   ]
  },
  {
   "cell_type": "code",
   "execution_count": 11,
   "id": "91f048a0",
   "metadata": {},
   "outputs": [],
   "source": [
    "p1.add(100)"
   ]
  },
  {
   "cell_type": "code",
   "execution_count": 12,
   "id": "36602f2b",
   "metadata": {},
   "outputs": [
    {
     "data": {
      "text/plain": [
       "{0, 1, 100, 4, 7, 'java', 'python'}"
      ]
     },
     "execution_count": 12,
     "metadata": {},
     "output_type": "execute_result"
    }
   ],
   "source": [
    "p1"
   ]
  },
  {
   "cell_type": "code",
   "execution_count": 13,
   "id": "bdc31935",
   "metadata": {},
   "outputs": [],
   "source": [
    "p1.add('hadoop')"
   ]
  },
  {
   "cell_type": "code",
   "execution_count": 14,
   "id": "5bbb624d",
   "metadata": {},
   "outputs": [
    {
     "data": {
      "text/plain": [
       "{0, 1, 100, 4, 7, 'hadoop', 'java', 'python'}"
      ]
     },
     "execution_count": 14,
     "metadata": {},
     "output_type": "execute_result"
    }
   ],
   "source": [
    "p1"
   ]
  },
  {
   "cell_type": "code",
   "execution_count": 15,
   "id": "47a7f60d",
   "metadata": {},
   "outputs": [],
   "source": [
    "p1.add(500)"
   ]
  },
  {
   "cell_type": "code",
   "execution_count": 16,
   "id": "f1595cde",
   "metadata": {},
   "outputs": [
    {
     "data": {
      "text/plain": [
       "{0, 1, 100, 4, 500, 7, 'hadoop', 'java', 'python'}"
      ]
     },
     "execution_count": 16,
     "metadata": {},
     "output_type": "execute_result"
    }
   ],
   "source": [
    "p1"
   ]
  },
  {
   "cell_type": "code",
   "execution_count": null,
   "id": "641fb3e3",
   "metadata": {},
   "outputs": [],
   "source": []
  },
  {
   "cell_type": "code",
   "execution_count": 19,
   "id": "9a291fe0",
   "metadata": {},
   "outputs": [],
   "source": [
    "p1.add('safsdsdf')"
   ]
  },
  {
   "cell_type": "code",
   "execution_count": 20,
   "id": "fa12c7a7",
   "metadata": {},
   "outputs": [
    {
     "data": {
      "text/plain": [
       "{0, 1, 100, 4, 500, 7, 'hadoop', 'java', 'python', 'safsdsdf'}"
      ]
     },
     "execution_count": 20,
     "metadata": {},
     "output_type": "execute_result"
    }
   ],
   "source": [
    "p1"
   ]
  },
  {
   "cell_type": "code",
   "execution_count": 21,
   "id": "a11c8d18",
   "metadata": {},
   "outputs": [],
   "source": [
    "#multiple insertion"
   ]
  },
  {
   "cell_type": "code",
   "execution_count": 22,
   "id": "e20fe985",
   "metadata": {},
   "outputs": [],
   "source": [
    "p1.update({300,400,500,600})"
   ]
  },
  {
   "cell_type": "code",
   "execution_count": 23,
   "id": "d3e019af",
   "metadata": {},
   "outputs": [
    {
     "data": {
      "text/plain": [
       "{0, 1, 100, 300, 4, 400, 500, 600, 7, 'hadoop', 'java', 'python', 'safsdsdf'}"
      ]
     },
     "execution_count": 23,
     "metadata": {},
     "output_type": "execute_result"
    }
   ],
   "source": [
    "p1"
   ]
  },
  {
   "cell_type": "code",
   "execution_count": 24,
   "id": "3d5e230e",
   "metadata": {},
   "outputs": [],
   "source": [
    "s1 = {1,2,3}"
   ]
  },
  {
   "cell_type": "code",
   "execution_count": 25,
   "id": "8a253eac",
   "metadata": {},
   "outputs": [],
   "source": [
    "s2 = {'python','java','hadoop'}"
   ]
  },
  {
   "cell_type": "code",
   "execution_count": 26,
   "id": "590e9783",
   "metadata": {},
   "outputs": [],
   "source": [
    "s1.update(s2)"
   ]
  },
  {
   "cell_type": "code",
   "execution_count": 27,
   "id": "770002b2",
   "metadata": {},
   "outputs": [
    {
     "data": {
      "text/plain": [
       "{1, 2, 3, 'hadoop', 'java', 'python'}"
      ]
     },
     "execution_count": 27,
     "metadata": {},
     "output_type": "execute_result"
    }
   ],
   "source": [
    "s1"
   ]
  },
  {
   "cell_type": "code",
   "execution_count": 28,
   "id": "13535079",
   "metadata": {},
   "outputs": [
    {
     "ename": "TypeError",
     "evalue": "unsupported operand type(s) for +: 'set' and 'set'",
     "output_type": "error",
     "traceback": [
      "\u001b[1;31m---------------------------------------------------------------------------\u001b[0m",
      "\u001b[1;31mTypeError\u001b[0m                                 Traceback (most recent call last)",
      "\u001b[1;32m<ipython-input-28-f20250a9f944>\u001b[0m in \u001b[0;36m<module>\u001b[1;34m\u001b[0m\n\u001b[1;32m----> 1\u001b[1;33m \u001b[0ms1\u001b[0m\u001b[1;33m+\u001b[0m\u001b[0ms2\u001b[0m\u001b[1;33m\u001b[0m\u001b[1;33m\u001b[0m\u001b[0m\n\u001b[0m",
      "\u001b[1;31mTypeError\u001b[0m: unsupported operand type(s) for +: 'set' and 'set'"
     ]
    }
   ],
   "source": [
    "#note : '+' TypeError: unsupported operand type(s) for +: 'set' and 'set'"
   ]
  },
  {
   "cell_type": "code",
   "execution_count": 29,
   "id": "6b3e2791",
   "metadata": {},
   "outputs": [
    {
     "ename": "TypeError",
     "evalue": "unsupported operand type(s) for *: 'set' and 'int'",
     "output_type": "error",
     "traceback": [
      "\u001b[1;31m---------------------------------------------------------------------------\u001b[0m",
      "\u001b[1;31mTypeError\u001b[0m                                 Traceback (most recent call last)",
      "\u001b[1;32m<ipython-input-29-67f95d9fcca5>\u001b[0m in \u001b[0;36m<module>\u001b[1;34m\u001b[0m\n\u001b[1;32m----> 1\u001b[1;33m \u001b[0ms1\u001b[0m\u001b[1;33m*\u001b[0m\u001b[1;36m3\u001b[0m\u001b[1;33m\u001b[0m\u001b[1;33m\u001b[0m\u001b[0m\n\u001b[0m",
      "\u001b[1;31mTypeError\u001b[0m: unsupported operand type(s) for *: 'set' and 'int'"
     ]
    }
   ],
   "source": [
    "s1*3"
   ]
  },
  {
   "cell_type": "code",
   "execution_count": 30,
   "id": "736fc1a4",
   "metadata": {},
   "outputs": [],
   "source": [
    "t = (1,2,3)"
   ]
  },
  {
   "cell_type": "code",
   "execution_count": 31,
   "id": "c58c4ca6",
   "metadata": {},
   "outputs": [
    {
     "data": {
      "text/plain": [
       "(1, 2, 3, 1, 2, 3, 1, 2, 3, 1, 2, 3)"
      ]
     },
     "execution_count": 31,
     "metadata": {},
     "output_type": "execute_result"
    }
   ],
   "source": [
    "t*4"
   ]
  },
  {
   "cell_type": "code",
   "execution_count": 32,
   "id": "ba191d41",
   "metadata": {},
   "outputs": [
    {
     "data": {
      "text/plain": [
       "{1, 2, 3, 'hadoop', 'java', 'python'}"
      ]
     },
     "execution_count": 32,
     "metadata": {},
     "output_type": "execute_result"
    }
   ],
   "source": [
    "s1 "
   ]
  },
  {
   "cell_type": "code",
   "execution_count": 33,
   "id": "48b539c0",
   "metadata": {},
   "outputs": [
    {
     "ename": "TypeError",
     "evalue": "unsupported operand type(s) for *: 'set' and 'int'",
     "output_type": "error",
     "traceback": [
      "\u001b[1;31m---------------------------------------------------------------------------\u001b[0m",
      "\u001b[1;31mTypeError\u001b[0m                                 Traceback (most recent call last)",
      "\u001b[1;32m<ipython-input-33-f699cd1c6e0f>\u001b[0m in \u001b[0;36m<module>\u001b[1;34m\u001b[0m\n\u001b[1;32m----> 1\u001b[1;33m \u001b[0ms1\u001b[0m\u001b[1;33m*\u001b[0m\u001b[1;36m4\u001b[0m\u001b[1;33m\u001b[0m\u001b[1;33m\u001b[0m\u001b[0m\n\u001b[0m",
      "\u001b[1;31mTypeError\u001b[0m: unsupported operand type(s) for *: 'set' and 'int'"
     ]
    }
   ],
   "source": [
    "s1*4"
   ]
  },
  {
   "cell_type": "code",
   "execution_count": 34,
   "id": "527fb51f",
   "metadata": {},
   "outputs": [
    {
     "data": {
      "text/plain": [
       "{1, 2, 3, 'hadoop', 'java', 'python'}"
      ]
     },
     "execution_count": 34,
     "metadata": {},
     "output_type": "execute_result"
    }
   ],
   "source": [
    "s1"
   ]
  },
  {
   "cell_type": "code",
   "execution_count": 35,
   "id": "d6c4965f",
   "metadata": {},
   "outputs": [
    {
     "data": {
      "text/plain": [
       "{'hadoop', 'java', 'python'}"
      ]
     },
     "execution_count": 35,
     "metadata": {},
     "output_type": "execute_result"
    }
   ],
   "source": [
    "s2"
   ]
  },
  {
   "cell_type": "code",
   "execution_count": 36,
   "id": "57494502",
   "metadata": {},
   "outputs": [],
   "source": [
    "s1 = {100,400,600,700}"
   ]
  },
  {
   "cell_type": "code",
   "execution_count": 37,
   "id": "17d8d61b",
   "metadata": {},
   "outputs": [],
   "source": [
    "s2 = {1,2,3,4,5}"
   ]
  },
  {
   "cell_type": "code",
   "execution_count": 38,
   "id": "ff93e96a",
   "metadata": {},
   "outputs": [],
   "source": [
    "s2.update(s1)"
   ]
  },
  {
   "cell_type": "code",
   "execution_count": 39,
   "id": "f0d9bde4",
   "metadata": {},
   "outputs": [
    {
     "data": {
      "text/plain": [
       "{1, 2, 3, 4, 5, 100, 400, 600, 700}"
      ]
     },
     "execution_count": 39,
     "metadata": {},
     "output_type": "execute_result"
    }
   ],
   "source": [
    "s2"
   ]
  },
  {
   "cell_type": "code",
   "execution_count": 41,
   "id": "9d79bd07",
   "metadata": {},
   "outputs": [],
   "source": [
    "s1.update({30})"
   ]
  },
  {
   "cell_type": "code",
   "execution_count": 42,
   "id": "266f3a64",
   "metadata": {},
   "outputs": [
    {
     "data": {
      "text/plain": [
       "{30, 100, 400, 600, 700}"
      ]
     },
     "execution_count": 42,
     "metadata": {},
     "output_type": "execute_result"
    }
   ],
   "source": [
    "s1"
   ]
  },
  {
   "cell_type": "code",
   "execution_count": 43,
   "id": "039797a1",
   "metadata": {},
   "outputs": [
    {
     "data": {
      "text/plain": [
       "{1, 2, 3, 4, 5, 100, 400, 600, 700}"
      ]
     },
     "execution_count": 43,
     "metadata": {},
     "output_type": "execute_result"
    }
   ],
   "source": [
    "s2"
   ]
  },
  {
   "cell_type": "code",
   "execution_count": 44,
   "id": "a529ab70",
   "metadata": {},
   "outputs": [],
   "source": [
    "s1 = {'python','java','c'}"
   ]
  },
  {
   "cell_type": "code",
   "execution_count": 45,
   "id": "d89cffd6",
   "metadata": {},
   "outputs": [],
   "source": [
    "s2 = {45,89,35}"
   ]
  },
  {
   "cell_type": "code",
   "execution_count": 46,
   "id": "152a3fef",
   "metadata": {},
   "outputs": [
    {
     "ename": "TypeError",
     "evalue": "unhashable type: 'set'",
     "output_type": "error",
     "traceback": [
      "\u001b[1;31m---------------------------------------------------------------------------\u001b[0m",
      "\u001b[1;31mTypeError\u001b[0m                                 Traceback (most recent call last)",
      "\u001b[1;32m<ipython-input-46-9eccb0cf78ec>\u001b[0m in \u001b[0;36m<module>\u001b[1;34m\u001b[0m\n\u001b[1;32m----> 1\u001b[1;33m \u001b[0ms2\u001b[0m\u001b[1;33m.\u001b[0m\u001b[0madd\u001b[0m\u001b[1;33m(\u001b[0m\u001b[0ms1\u001b[0m\u001b[1;33m)\u001b[0m\u001b[1;33m\u001b[0m\u001b[1;33m\u001b[0m\u001b[0m\n\u001b[0m",
      "\u001b[1;31mTypeError\u001b[0m: unhashable type: 'set'"
     ]
    }
   ],
   "source": [
    "s2.add(s1)"
   ]
  },
  {
   "cell_type": "code",
   "execution_count": 47,
   "id": "82e341fd",
   "metadata": {},
   "outputs": [
    {
     "ename": "TypeError",
     "evalue": "unhashable type: 'set'",
     "output_type": "error",
     "traceback": [
      "\u001b[1;31m---------------------------------------------------------------------------\u001b[0m",
      "\u001b[1;31mTypeError\u001b[0m                                 Traceback (most recent call last)",
      "\u001b[1;32m<ipython-input-47-28466b34eac1>\u001b[0m in \u001b[0;36m<module>\u001b[1;34m\u001b[0m\n\u001b[1;32m----> 1\u001b[1;33m \u001b[1;33m{\u001b[0m\u001b[1;36m1\u001b[0m\u001b[1;33m,\u001b[0m\u001b[1;36m2\u001b[0m\u001b[1;33m,\u001b[0m\u001b[1;36m3\u001b[0m\u001b[1;33m,\u001b[0m\u001b[1;33m{\u001b[0m\u001b[1;36m4\u001b[0m\u001b[1;33m,\u001b[0m\u001b[1;36m5\u001b[0m\u001b[1;33m,\u001b[0m\u001b[1;36m6\u001b[0m\u001b[1;33m}\u001b[0m\u001b[1;33m}\u001b[0m\u001b[1;33m\u001b[0m\u001b[1;33m\u001b[0m\u001b[0m\n\u001b[0m",
      "\u001b[1;31mTypeError\u001b[0m: unhashable type: 'set'"
     ]
    }
   ],
   "source": [
    "{1,2,3,{4,5,6}}"
   ]
  },
  {
   "cell_type": "code",
   "execution_count": 48,
   "id": "9fab1fa9",
   "metadata": {},
   "outputs": [
    {
     "data": {
      "text/plain": [
       "{'c', 'java', 'python'}"
      ]
     },
     "execution_count": 48,
     "metadata": {},
     "output_type": "execute_result"
    }
   ],
   "source": [
    "s1"
   ]
  },
  {
   "cell_type": "code",
   "execution_count": 49,
   "id": "8f0038b9",
   "metadata": {},
   "outputs": [
    {
     "data": {
      "text/plain": [
       "{35, 45, 89}"
      ]
     },
     "execution_count": 49,
     "metadata": {},
     "output_type": "execute_result"
    }
   ],
   "source": [
    "s2"
   ]
  },
  {
   "cell_type": "code",
   "execution_count": 51,
   "id": "7cfbb3d1",
   "metadata": {},
   "outputs": [],
   "source": [
    "s2.update(s1,s1,s1)"
   ]
  },
  {
   "cell_type": "markdown",
   "id": "f80961b8",
   "metadata": {},
   "source": [
    "s2"
   ]
  },
  {
   "cell_type": "code",
   "execution_count": 52,
   "id": "53ccb86d",
   "metadata": {},
   "outputs": [
    {
     "data": {
      "text/plain": [
       "{35, 45, 89, 'c', 'java', 'python'}"
      ]
     },
     "execution_count": 52,
     "metadata": {},
     "output_type": "execute_result"
    }
   ],
   "source": [
    "s2"
   ]
  },
  {
   "cell_type": "code",
   "execution_count": 53,
   "id": "932ef049",
   "metadata": {},
   "outputs": [],
   "source": [
    "a = {1,2,3}"
   ]
  },
  {
   "cell_type": "code",
   "execution_count": 54,
   "id": "c5dcf753",
   "metadata": {},
   "outputs": [],
   "source": [
    "s2.update(s1,a)"
   ]
  },
  {
   "cell_type": "code",
   "execution_count": 55,
   "id": "c9941ae8",
   "metadata": {},
   "outputs": [
    {
     "data": {
      "text/plain": [
       "{1, 2, 3, 35, 45, 89, 'c', 'java', 'python'}"
      ]
     },
     "execution_count": 55,
     "metadata": {},
     "output_type": "execute_result"
    }
   ],
   "source": [
    "s2"
   ]
  },
  {
   "cell_type": "code",
   "execution_count": 56,
   "id": "ef4df72e",
   "metadata": {},
   "outputs": [],
   "source": [
    "s2.add('1')"
   ]
  },
  {
   "cell_type": "code",
   "execution_count": 57,
   "id": "ba98ab7b",
   "metadata": {},
   "outputs": [
    {
     "data": {
      "text/plain": [
       "{1, '1', 2, 3, 35, 45, 89, 'c', 'java', 'python'}"
      ]
     },
     "execution_count": 57,
     "metadata": {},
     "output_type": "execute_result"
    }
   ],
   "source": [
    "s2"
   ]
  },
  {
   "cell_type": "code",
   "execution_count": 58,
   "id": "9d485901",
   "metadata": {},
   "outputs": [],
   "source": [
    "#deletion of element from set"
   ]
  },
  {
   "cell_type": "code",
   "execution_count": 59,
   "id": "1ef5242d",
   "metadata": {},
   "outputs": [
    {
     "data": {
      "text/plain": [
       "{'c', 'java', 'python'}"
      ]
     },
     "execution_count": 59,
     "metadata": {},
     "output_type": "execute_result"
    }
   ],
   "source": [
    "s1"
   ]
  },
  {
   "cell_type": "code",
   "execution_count": 60,
   "id": "ba22a75b",
   "metadata": {},
   "outputs": [
    {
     "data": {
      "text/plain": [
       "{1, '1', 2, 3, 35, 45, 89, 'c', 'java', 'python'}"
      ]
     },
     "execution_count": 60,
     "metadata": {},
     "output_type": "execute_result"
    }
   ],
   "source": [
    "s2"
   ]
  },
  {
   "cell_type": "code",
   "execution_count": 61,
   "id": "47f56121",
   "metadata": {},
   "outputs": [
    {
     "ename": "SyntaxError",
     "evalue": "invalid syntax (<ipython-input-61-f433bd31c981>, line 1)",
     "output_type": "error",
     "traceback": [
      "\u001b[1;36m  File \u001b[1;32m\"<ipython-input-61-f433bd31c981>\"\u001b[1;36m, line \u001b[1;32m1\u001b[0m\n\u001b[1;33m    |s1\u001b[0m\n\u001b[1;37m    ^\u001b[0m\n\u001b[1;31mSyntaxError\u001b[0m\u001b[1;31m:\u001b[0m invalid syntax\n"
     ]
    }
   ],
   "source": [
    "|s1"
   ]
  },
  {
   "cell_type": "code",
   "execution_count": 62,
   "id": "37a9c22b",
   "metadata": {},
   "outputs": [
    {
     "data": {
      "text/plain": [
       "{'c', 'java', 'python'}"
      ]
     },
     "execution_count": 62,
     "metadata": {},
     "output_type": "execute_result"
    }
   ],
   "source": [
    "s1"
   ]
  },
  {
   "cell_type": "code",
   "execution_count": 63,
   "id": "812c8d20",
   "metadata": {},
   "outputs": [],
   "source": [
    "s1.remove('c')"
   ]
  },
  {
   "cell_type": "code",
   "execution_count": 64,
   "id": "00167920",
   "metadata": {},
   "outputs": [
    {
     "data": {
      "text/plain": [
       "{'java', 'python'}"
      ]
     },
     "execution_count": 64,
     "metadata": {},
     "output_type": "execute_result"
    }
   ],
   "source": [
    "s1"
   ]
  },
  {
   "cell_type": "code",
   "execution_count": 65,
   "id": "9f1cbaef",
   "metadata": {},
   "outputs": [
    {
     "ename": "KeyError",
     "evalue": "5435345",
     "output_type": "error",
     "traceback": [
      "\u001b[1;31m---------------------------------------------------------------------------\u001b[0m",
      "\u001b[1;31mKeyError\u001b[0m                                  Traceback (most recent call last)",
      "\u001b[1;32m<ipython-input-65-a0105d3e661f>\u001b[0m in \u001b[0;36m<module>\u001b[1;34m\u001b[0m\n\u001b[1;32m----> 1\u001b[1;33m \u001b[0ms1\u001b[0m\u001b[1;33m.\u001b[0m\u001b[0mremove\u001b[0m\u001b[1;33m(\u001b[0m\u001b[1;36m5435345\u001b[0m\u001b[1;33m)\u001b[0m\u001b[1;33m\u001b[0m\u001b[1;33m\u001b[0m\u001b[0m\n\u001b[0m",
      "\u001b[1;31mKeyError\u001b[0m: 5435345"
     ]
    }
   ],
   "source": [
    "s1.remove(5435345)"
   ]
  },
  {
   "cell_type": "code",
   "execution_count": 66,
   "id": "56aa0c7b",
   "metadata": {},
   "outputs": [
    {
     "data": {
      "text/plain": [
       "{'java', 'python'}"
      ]
     },
     "execution_count": 66,
     "metadata": {},
     "output_type": "execute_result"
    }
   ],
   "source": [
    "s1"
   ]
  },
  {
   "cell_type": "code",
   "execution_count": 67,
   "id": "43a8056c",
   "metadata": {},
   "outputs": [],
   "source": [
    "s1.discard('java')"
   ]
  },
  {
   "cell_type": "code",
   "execution_count": 68,
   "id": "ad089543",
   "metadata": {},
   "outputs": [
    {
     "data": {
      "text/plain": [
       "{'python'}"
      ]
     },
     "execution_count": 68,
     "metadata": {},
     "output_type": "execute_result"
    }
   ],
   "source": [
    "s1"
   ]
  },
  {
   "cell_type": "code",
   "execution_count": 69,
   "id": "f90671b9",
   "metadata": {},
   "outputs": [],
   "source": [
    "s1.discard(543534534543543534543)"
   ]
  },
  {
   "cell_type": "code",
   "execution_count": 70,
   "id": "2d1c00e2",
   "metadata": {},
   "outputs": [
    {
     "data": {
      "text/plain": [
       "{1, '1', 2, 3, 35, 45, 89, 'c', 'java', 'python'}"
      ]
     },
     "execution_count": 70,
     "metadata": {},
     "output_type": "execute_result"
    }
   ],
   "source": [
    "s2"
   ]
  },
  {
   "cell_type": "code",
   "execution_count": 71,
   "id": "e3a0fa1f",
   "metadata": {},
   "outputs": [],
   "source": [
    "s2.discard(35)"
   ]
  },
  {
   "cell_type": "code",
   "execution_count": 72,
   "id": "38f470e1",
   "metadata": {},
   "outputs": [
    {
     "data": {
      "text/plain": [
       "{1, '1', 2, 3, 45, 89, 'c', 'java', 'python'}"
      ]
     },
     "execution_count": 72,
     "metadata": {},
     "output_type": "execute_result"
    }
   ],
   "source": [
    "s2"
   ]
  },
  {
   "cell_type": "code",
   "execution_count": 73,
   "id": "0aef3fdf",
   "metadata": {},
   "outputs": [
    {
     "ename": "KeyError",
     "evalue": "'343434'",
     "output_type": "error",
     "traceback": [
      "\u001b[1;31m---------------------------------------------------------------------------\u001b[0m",
      "\u001b[1;31mKeyError\u001b[0m                                  Traceback (most recent call last)",
      "\u001b[1;32m<ipython-input-73-fe713ff4e96a>\u001b[0m in \u001b[0;36m<module>\u001b[1;34m\u001b[0m\n\u001b[1;32m----> 1\u001b[1;33m \u001b[0ms2\u001b[0m\u001b[1;33m.\u001b[0m\u001b[0mremove\u001b[0m\u001b[1;33m(\u001b[0m\u001b[1;34m'343434'\u001b[0m\u001b[1;33m)\u001b[0m\u001b[1;33m\u001b[0m\u001b[1;33m\u001b[0m\u001b[0m\n\u001b[0m",
      "\u001b[1;31mKeyError\u001b[0m: '343434'"
     ]
    }
   ],
   "source": [
    "s2.remove('343434')"
   ]
  },
  {
   "cell_type": "code",
   "execution_count": 81,
   "id": "4d7a5fb1",
   "metadata": {},
   "outputs": [
    {
     "data": {
      "text/plain": [
       "89"
      ]
     },
     "execution_count": 81,
     "metadata": {},
     "output_type": "execute_result"
    }
   ],
   "source": [
    "s2.pop()"
   ]
  },
  {
   "cell_type": "code",
   "execution_count": 82,
   "id": "5ebd7ac3",
   "metadata": {},
   "outputs": [
    {
     "data": {
      "text/plain": [
       "{'python'}"
      ]
     },
     "execution_count": 82,
     "metadata": {},
     "output_type": "execute_result"
    }
   ],
   "source": [
    "s2"
   ]
  },
  {
   "cell_type": "code",
   "execution_count": 83,
   "id": "a74351cc",
   "metadata": {},
   "outputs": [
    {
     "ename": "TypeError",
     "evalue": "pop() takes no arguments (1 given)",
     "output_type": "error",
     "traceback": [
      "\u001b[1;31m---------------------------------------------------------------------------\u001b[0m",
      "\u001b[1;31mTypeError\u001b[0m                                 Traceback (most recent call last)",
      "\u001b[1;32m<ipython-input-83-08cadb038ddb>\u001b[0m in \u001b[0;36m<module>\u001b[1;34m\u001b[0m\n\u001b[1;32m----> 1\u001b[1;33m \u001b[0ms2\u001b[0m\u001b[1;33m.\u001b[0m\u001b[0mpop\u001b[0m\u001b[1;33m(\u001b[0m\u001b[1;34m'python'\u001b[0m\u001b[1;33m)\u001b[0m\u001b[1;33m\u001b[0m\u001b[1;33m\u001b[0m\u001b[0m\n\u001b[0m",
      "\u001b[1;31mTypeError\u001b[0m: pop() takes no arguments (1 given)"
     ]
    }
   ],
   "source": [
    "s2.pop('python')"
   ]
  },
  {
   "cell_type": "code",
   "execution_count": 84,
   "id": "427ab8e2",
   "metadata": {},
   "outputs": [],
   "source": [
    "p = {'gold','silver','titnium','c','copper'}"
   ]
  },
  {
   "cell_type": "code",
   "execution_count": 85,
   "id": "f0503210",
   "metadata": {},
   "outputs": [
    {
     "data": {
      "text/plain": [
       "'titnium'"
      ]
     },
     "execution_count": 85,
     "metadata": {},
     "output_type": "execute_result"
    }
   ],
   "source": [
    "p.pop()"
   ]
  },
  {
   "cell_type": "code",
   "execution_count": 86,
   "id": "0a39d7fa",
   "metadata": {},
   "outputs": [
    {
     "data": {
      "text/plain": [
       "'c'"
      ]
     },
     "execution_count": 86,
     "metadata": {},
     "output_type": "execute_result"
    }
   ],
   "source": [
    "p.pop()"
   ]
  },
  {
   "cell_type": "code",
   "execution_count": 87,
   "id": "add4c07c",
   "metadata": {},
   "outputs": [
    {
     "data": {
      "text/plain": [
       "{'copper', 'gold', 'silver'}"
      ]
     },
     "execution_count": 87,
     "metadata": {},
     "output_type": "execute_result"
    }
   ],
   "source": [
    "p"
   ]
  },
  {
   "cell_type": "code",
   "execution_count": 88,
   "id": "167e72f5",
   "metadata": {},
   "outputs": [
    {
     "data": {
      "text/plain": [
       "'silver'"
      ]
     },
     "execution_count": 88,
     "metadata": {},
     "output_type": "execute_result"
    }
   ],
   "source": [
    "p.pop()"
   ]
  },
  {
   "cell_type": "code",
   "execution_count": 89,
   "id": "882c36d6",
   "metadata": {},
   "outputs": [
    {
     "data": {
      "text/plain": [
       "'copper'"
      ]
     },
     "execution_count": 89,
     "metadata": {},
     "output_type": "execute_result"
    }
   ],
   "source": [
    "p.pop()"
   ]
  },
  {
   "cell_type": "code",
   "execution_count": 90,
   "id": "fee9dc6d",
   "metadata": {},
   "outputs": [
    {
     "data": {
      "text/plain": [
       "'gold'"
      ]
     },
     "execution_count": 90,
     "metadata": {},
     "output_type": "execute_result"
    }
   ],
   "source": [
    "p.pop()"
   ]
  },
  {
   "cell_type": "code",
   "execution_count": 91,
   "id": "2f2bcff4",
   "metadata": {},
   "outputs": [
    {
     "data": {
      "text/plain": [
       "set()"
      ]
     },
     "execution_count": 91,
     "metadata": {},
     "output_type": "execute_result"
    }
   ],
   "source": [
    "p"
   ]
  },
  {
   "cell_type": "code",
   "execution_count": 92,
   "id": "eec17a5a",
   "metadata": {},
   "outputs": [],
   "source": [
    "#pop ---> use"
   ]
  },
  {
   "cell_type": "code",
   "execution_count": 93,
   "id": "d73b3eeb",
   "metadata": {},
   "outputs": [],
   "source": [
    "p = {1,2,3,4,5}"
   ]
  },
  {
   "cell_type": "code",
   "execution_count": 94,
   "id": "0f763460",
   "metadata": {},
   "outputs": [],
   "source": [
    "p1 = {'python','java',3,'hadoop'}"
   ]
  },
  {
   "cell_type": "code",
   "execution_count": 95,
   "id": "927179be",
   "metadata": {},
   "outputs": [
    {
     "data": {
      "text/plain": [
       "{1, 2, 3, 4, 5, 'hadoop', 'java', 'python'}"
      ]
     },
     "execution_count": 95,
     "metadata": {},
     "output_type": "execute_result"
    }
   ],
   "source": [
    "p.union(p1)"
   ]
  },
  {
   "cell_type": "code",
   "execution_count": 96,
   "id": "8582e154",
   "metadata": {},
   "outputs": [
    {
     "data": {
      "text/plain": [
       "{1, 2, 3, 4, 5}"
      ]
     },
     "execution_count": 96,
     "metadata": {},
     "output_type": "execute_result"
    }
   ],
   "source": [
    "p"
   ]
  },
  {
   "cell_type": "code",
   "execution_count": 98,
   "id": "981c5662",
   "metadata": {},
   "outputs": [
    {
     "data": {
      "text/plain": [
       "{3, 'hadoop', 'java', 'python'}"
      ]
     },
     "execution_count": 98,
     "metadata": {},
     "output_type": "execute_result"
    }
   ],
   "source": [
    "p1"
   ]
  },
  {
   "cell_type": "code",
   "execution_count": 104,
   "id": "8fd1aaa7",
   "metadata": {},
   "outputs": [],
   "source": [
    "p = {'one','two','three'}"
   ]
  },
  {
   "cell_type": "code",
   "execution_count": 100,
   "id": "1c732a52",
   "metadata": {},
   "outputs": [],
   "source": [
    "p1 = {1,2,3}"
   ]
  },
  {
   "cell_type": "code",
   "execution_count": 101,
   "id": "7d141be2",
   "metadata": {},
   "outputs": [],
   "source": [
    "p.update(p1)"
   ]
  },
  {
   "cell_type": "code",
   "execution_count": 102,
   "id": "2ab4df7d",
   "metadata": {},
   "outputs": [
    {
     "data": {
      "text/plain": [
       "{1, 2, 3, 'one', 'three', 'two'}"
      ]
     },
     "execution_count": 102,
     "metadata": {},
     "output_type": "execute_result"
    }
   ],
   "source": [
    "p"
   ]
  },
  {
   "cell_type": "code",
   "execution_count": 103,
   "id": "78f5f931",
   "metadata": {},
   "outputs": [
    {
     "data": {
      "text/plain": [
       "{1, 2, 3}"
      ]
     },
     "execution_count": 103,
     "metadata": {},
     "output_type": "execute_result"
    }
   ],
   "source": [
    "p1"
   ]
  },
  {
   "cell_type": "code",
   "execution_count": 105,
   "id": "781fa76f",
   "metadata": {},
   "outputs": [
    {
     "data": {
      "text/plain": [
       "{'one', 'three', 'two'}"
      ]
     },
     "execution_count": 105,
     "metadata": {},
     "output_type": "execute_result"
    }
   ],
   "source": [
    "p"
   ]
  },
  {
   "cell_type": "code",
   "execution_count": 106,
   "id": "57f67c00",
   "metadata": {},
   "outputs": [
    {
     "data": {
      "text/plain": [
       "{1, 2, 3}"
      ]
     },
     "execution_count": 106,
     "metadata": {},
     "output_type": "execute_result"
    }
   ],
   "source": [
    "p1"
   ]
  },
  {
   "cell_type": "code",
   "execution_count": 108,
   "id": "c37860ba",
   "metadata": {},
   "outputs": [],
   "source": [
    "p3 = p.union(p1)"
   ]
  },
  {
   "cell_type": "code",
   "execution_count": 109,
   "id": "53318b2a",
   "metadata": {},
   "outputs": [
    {
     "data": {
      "text/plain": [
       "{1, 2, 3, 'one', 'three', 'two'}"
      ]
     },
     "execution_count": 109,
     "metadata": {},
     "output_type": "execute_result"
    }
   ],
   "source": [
    "p3"
   ]
  },
  {
   "cell_type": "code",
   "execution_count": 110,
   "id": "7bdab2c8",
   "metadata": {},
   "outputs": [
    {
     "data": {
      "text/plain": [
       "{'one', 'three', 'two'}"
      ]
     },
     "execution_count": 110,
     "metadata": {},
     "output_type": "execute_result"
    }
   ],
   "source": [
    "p"
   ]
  },
  {
   "cell_type": "code",
   "execution_count": 111,
   "id": "beb99a10",
   "metadata": {},
   "outputs": [
    {
     "data": {
      "text/plain": [
       "{1, 2, 3}"
      ]
     },
     "execution_count": 111,
     "metadata": {},
     "output_type": "execute_result"
    }
   ],
   "source": [
    "p1"
   ]
  },
  {
   "cell_type": "code",
   "execution_count": 130,
   "id": "73b9f0ec",
   "metadata": {},
   "outputs": [],
   "source": [
    "p = {200,34,600,10}"
   ]
  },
  {
   "cell_type": "code",
   "execution_count": 134,
   "id": "079e1776",
   "metadata": {},
   "outputs": [],
   "source": [
    "p1 = {400,1000,500,34,10}"
   ]
  },
  {
   "cell_type": "code",
   "execution_count": 115,
   "id": "92361cbf",
   "metadata": {},
   "outputs": [
    {
     "data": {
      "text/plain": [
       "{34, 200, 600}"
      ]
     },
     "execution_count": 115,
     "metadata": {},
     "output_type": "execute_result"
    }
   ],
   "source": [
    "p"
   ]
  },
  {
   "cell_type": "code",
   "execution_count": 116,
   "id": "def4871f",
   "metadata": {},
   "outputs": [
    {
     "data": {
      "text/plain": [
       "{34, 400, 500, 1000}"
      ]
     },
     "execution_count": 116,
     "metadata": {},
     "output_type": "execute_result"
    }
   ],
   "source": [
    "p1"
   ]
  },
  {
   "cell_type": "code",
   "execution_count": 117,
   "id": "7e88c8f4",
   "metadata": {},
   "outputs": [
    {
     "data": {
      "text/plain": [
       "{34}"
      ]
     },
     "execution_count": 117,
     "metadata": {},
     "output_type": "execute_result"
    }
   ],
   "source": [
    "p.intersection(p1)"
   ]
  },
  {
   "cell_type": "code",
   "execution_count": 135,
   "id": "06f1f280",
   "metadata": {},
   "outputs": [],
   "source": [
    "p3 = {450,300,34,10}"
   ]
  },
  {
   "cell_type": "code",
   "execution_count": 137,
   "id": "0071f8ec",
   "metadata": {},
   "outputs": [],
   "source": [
    "p5 = p.intersection(p1,p3)"
   ]
  },
  {
   "cell_type": "code",
   "execution_count": 138,
   "id": "3e378238",
   "metadata": {},
   "outputs": [
    {
     "data": {
      "text/plain": [
       "set"
      ]
     },
     "execution_count": 138,
     "metadata": {},
     "output_type": "execute_result"
    }
   ],
   "source": [
    "type(p5)"
   ]
  },
  {
   "cell_type": "code",
   "execution_count": 139,
   "id": "a3206c44",
   "metadata": {},
   "outputs": [
    {
     "data": {
      "text/plain": [
       "{10, 34}"
      ]
     },
     "execution_count": 139,
     "metadata": {},
     "output_type": "execute_result"
    }
   ],
   "source": [
    "p5"
   ]
  },
  {
   "cell_type": "code",
   "execution_count": null,
   "id": "34b771e7",
   "metadata": {},
   "outputs": [],
   "source": [
    "union\n",
    "intersection\n",
    "\n",
    "\n",
    "\n",
    "add()\n",
    "update()\n",
    "\n",
    "deletion\n",
    "1.remove\n",
    "2.discard\n",
    "3.pop"
   ]
  },
  {
   "cell_type": "code",
   "execution_count": 4,
   "id": "0c20a32f",
   "metadata": {},
   "outputs": [],
   "source": [
    "s  = {'python','java','c',400}"
   ]
  },
  {
   "cell_type": "code",
   "execution_count": 7,
   "id": "d49b1a19",
   "metadata": {},
   "outputs": [],
   "source": [
    "s1 ={100,200,300,400}"
   ]
  },
  {
   "cell_type": "code",
   "execution_count": 8,
   "id": "003ff4c4",
   "metadata": {},
   "outputs": [
    {
     "data": {
      "text/plain": [
       "{'c', 'java', 'python'}"
      ]
     },
     "execution_count": 8,
     "metadata": {},
     "output_type": "execute_result"
    }
   ],
   "source": [
    "s.difference(s1)"
   ]
  },
  {
   "cell_type": "code",
   "execution_count": 9,
   "id": "89bdf408",
   "metadata": {},
   "outputs": [
    {
     "data": {
      "text/plain": [
       "{100, 200, 300}"
      ]
     },
     "execution_count": 9,
     "metadata": {},
     "output_type": "execute_result"
    }
   ],
   "source": [
    "s1.difference(s)"
   ]
  },
  {
   "cell_type": "code",
   "execution_count": 10,
   "id": "d9306ab5",
   "metadata": {},
   "outputs": [
    {
     "data": {
      "text/plain": [
       "{100, 200, 300, 400}"
      ]
     },
     "execution_count": 10,
     "metadata": {},
     "output_type": "execute_result"
    }
   ],
   "source": [
    "s1"
   ]
  },
  {
   "cell_type": "code",
   "execution_count": 11,
   "id": "b6f6fb9c",
   "metadata": {},
   "outputs": [
    {
     "data": {
      "text/plain": [
       "{400, 'c', 'java', 'python'}"
      ]
     },
     "execution_count": 11,
     "metadata": {},
     "output_type": "execute_result"
    }
   ],
   "source": [
    "s"
   ]
  },
  {
   "cell_type": "code",
   "execution_count": null,
   "id": "1562be15",
   "metadata": {},
   "outputs": [],
   "source": [
    "symmetric diff --- "
   ]
  },
  {
   "cell_type": "code",
   "execution_count": 12,
   "id": "99f5a921",
   "metadata": {},
   "outputs": [
    {
     "data": {
      "text/plain": [
       "{100, 200, 300, 'c', 'java', 'python'}"
      ]
     },
     "execution_count": 12,
     "metadata": {},
     "output_type": "execute_result"
    }
   ],
   "source": [
    "s.symmetric_difference(s1)"
   ]
  },
  {
   "cell_type": "code",
   "execution_count": null,
   "id": "881c616e",
   "metadata": {},
   "outputs": [],
   "source": []
  },
  {
   "cell_type": "code",
   "execution_count": 13,
   "id": "7493bfc0",
   "metadata": {},
   "outputs": [],
   "source": [
    "a = {1,2,3,4,5}"
   ]
  },
  {
   "cell_type": "code",
   "execution_count": 14,
   "id": "1f9055d0",
   "metadata": {},
   "outputs": [],
   "source": [
    "b = {2,4,8,9,56}"
   ]
  },
  {
   "cell_type": "code",
   "execution_count": 15,
   "id": "967aa48f",
   "metadata": {},
   "outputs": [
    {
     "data": {
      "text/plain": [
       "{1, 3, 5, 8, 9, 56}"
      ]
     },
     "execution_count": 15,
     "metadata": {},
     "output_type": "execute_result"
    }
   ],
   "source": [
    "a.symmetric_difference(b)"
   ]
  },
  {
   "cell_type": "code",
   "execution_count": 16,
   "id": "82f43d4a",
   "metadata": {},
   "outputs": [
    {
     "data": {
      "text/plain": [
       "{1, 3, 5, 8, 9, 56}"
      ]
     },
     "execution_count": 16,
     "metadata": {},
     "output_type": "execute_result"
    }
   ],
   "source": [
    "b.symmetric_difference(a)"
   ]
  },
  {
   "cell_type": "code",
   "execution_count": 17,
   "id": "72334402",
   "metadata": {},
   "outputs": [
    {
     "data": {
      "text/plain": [
       "{1, 2, 3, 4, 5, 8, 9, 56}"
      ]
     },
     "execution_count": 17,
     "metadata": {},
     "output_type": "execute_result"
    }
   ],
   "source": [
    "a.union(b)"
   ]
  },
  {
   "cell_type": "code",
   "execution_count": 21,
   "id": "07897705",
   "metadata": {},
   "outputs": [
    {
     "data": {
      "text/plain": [
       "{2, 4}"
      ]
     },
     "execution_count": 21,
     "metadata": {},
     "output_type": "execute_result"
    }
   ],
   "source": [
    "a.intersection(b)"
   ]
  },
  {
   "cell_type": "code",
   "execution_count": 22,
   "id": "5009d18a",
   "metadata": {},
   "outputs": [
    {
     "data": {
      "text/plain": [
       "{1, 2, 3, 4, 5}"
      ]
     },
     "execution_count": 22,
     "metadata": {},
     "output_type": "execute_result"
    }
   ],
   "source": [
    "a"
   ]
  },
  {
   "cell_type": "code",
   "execution_count": 23,
   "id": "ec303802",
   "metadata": {},
   "outputs": [
    {
     "data": {
      "text/plain": [
       "{2, 4, 8, 9, 56}"
      ]
     },
     "execution_count": 23,
     "metadata": {},
     "output_type": "execute_result"
    }
   ],
   "source": [
    "b"
   ]
  },
  {
   "cell_type": "code",
   "execution_count": 25,
   "id": "c897807d",
   "metadata": {},
   "outputs": [],
   "source": [
    "temp = a.intersection(b)"
   ]
  },
  {
   "cell_type": "code",
   "execution_count": 26,
   "id": "0cdaae73",
   "metadata": {},
   "outputs": [
    {
     "data": {
      "text/plain": [
       "{2, 4}"
      ]
     },
     "execution_count": 26,
     "metadata": {},
     "output_type": "execute_result"
    }
   ],
   "source": [
    "temp"
   ]
  },
  {
   "cell_type": "code",
   "execution_count": 27,
   "id": "16da62a5",
   "metadata": {},
   "outputs": [
    {
     "data": {
      "text/plain": [
       "{1, 2, 3, 4, 5}"
      ]
     },
     "execution_count": 27,
     "metadata": {},
     "output_type": "execute_result"
    }
   ],
   "source": [
    "a"
   ]
  },
  {
   "cell_type": "code",
   "execution_count": 28,
   "id": "4b8ac921",
   "metadata": {},
   "outputs": [
    {
     "data": {
      "text/plain": [
       "{2, 4, 8, 9, 56}"
      ]
     },
     "execution_count": 28,
     "metadata": {},
     "output_type": "execute_result"
    }
   ],
   "source": [
    "b"
   ]
  },
  {
   "cell_type": "code",
   "execution_count": 29,
   "id": "3a206175",
   "metadata": {},
   "outputs": [],
   "source": [
    "a.intersection_update(b) #intersection then update ---> left side set save third variable"
   ]
  },
  {
   "cell_type": "code",
   "execution_count": 30,
   "id": "e595fdba",
   "metadata": {},
   "outputs": [
    {
     "data": {
      "text/plain": [
       "{2, 4}"
      ]
     },
     "execution_count": 30,
     "metadata": {},
     "output_type": "execute_result"
    }
   ],
   "source": [
    "a"
   ]
  },
  {
   "cell_type": "code",
   "execution_count": 31,
   "id": "cbdc67ca",
   "metadata": {},
   "outputs": [
    {
     "data": {
      "text/plain": [
       "{2, 4, 8, 9, 56}"
      ]
     },
     "execution_count": 31,
     "metadata": {},
     "output_type": "execute_result"
    }
   ],
   "source": [
    "b"
   ]
  },
  {
   "cell_type": "code",
   "execution_count": 32,
   "id": "98104b7e",
   "metadata": {},
   "outputs": [
    {
     "data": {
      "text/plain": [
       "{2, 4}"
      ]
     },
     "execution_count": 32,
     "metadata": {},
     "output_type": "execute_result"
    }
   ],
   "source": [
    "a"
   ]
  },
  {
   "cell_type": "code",
   "execution_count": 33,
   "id": "d1fa19eb",
   "metadata": {},
   "outputs": [
    {
     "data": {
      "text/plain": [
       "{2, 4, 8, 9, 56}"
      ]
     },
     "execution_count": 33,
     "metadata": {},
     "output_type": "execute_result"
    }
   ],
   "source": [
    "b"
   ]
  },
  {
   "cell_type": "code",
   "execution_count": 36,
   "id": "7cddbe04",
   "metadata": {},
   "outputs": [],
   "source": [
    "a = {100,200,400,500,'python','java'}"
   ]
  },
  {
   "cell_type": "code",
   "execution_count": 37,
   "id": "10b89728",
   "metadata": {},
   "outputs": [],
   "source": [
    "b = {'python','java',500}"
   ]
  },
  {
   "cell_type": "code",
   "execution_count": 38,
   "id": "5b8259ff",
   "metadata": {},
   "outputs": [
    {
     "data": {
      "text/plain": [
       "True"
      ]
     },
     "execution_count": 38,
     "metadata": {},
     "output_type": "execute_result"
    }
   ],
   "source": [
    "a.issuperset(b)"
   ]
  },
  {
   "cell_type": "code",
   "execution_count": 39,
   "id": "a14cd427",
   "metadata": {},
   "outputs": [
    {
     "data": {
      "text/plain": [
       "True"
      ]
     },
     "execution_count": 39,
     "metadata": {},
     "output_type": "execute_result"
    }
   ],
   "source": [
    "b.issubset(a)"
   ]
  },
  {
   "cell_type": "code",
   "execution_count": 40,
   "id": "f9852854",
   "metadata": {},
   "outputs": [
    {
     "data": {
      "text/plain": [
       "False"
      ]
     },
     "execution_count": 40,
     "metadata": {},
     "output_type": "execute_result"
    }
   ],
   "source": [
    "a.issubset(b)"
   ]
  },
  {
   "cell_type": "code",
   "execution_count": 44,
   "id": "9b1fcc09",
   "metadata": {},
   "outputs": [],
   "source": [
    "c = {2,6,7,8,8,500}"
   ]
  },
  {
   "cell_type": "code",
   "execution_count": 45,
   "id": "5b4d6329",
   "metadata": {},
   "outputs": [
    {
     "data": {
      "text/plain": [
       "False"
      ]
     },
     "execution_count": 45,
     "metadata": {},
     "output_type": "execute_result"
    }
   ],
   "source": [
    "a.isdisjoint(c)"
   ]
  },
  {
   "cell_type": "code",
   "execution_count": 46,
   "id": "4cea6276",
   "metadata": {},
   "outputs": [
    {
     "data": {
      "text/plain": [
       "False"
      ]
     },
     "execution_count": 46,
     "metadata": {},
     "output_type": "execute_result"
    }
   ],
   "source": [
    "b.isdisjoint(c)"
   ]
  },
  {
   "cell_type": "code",
   "execution_count": 48,
   "id": "7edeb2e6",
   "metadata": {},
   "outputs": [],
   "source": [
    "#subset (all) ---> superset ---> True"
   ]
  },
  {
   "cell_type": "code",
   "execution_count": 49,
   "id": "259d6887",
   "metadata": {},
   "outputs": [
    {
     "data": {
      "text/plain": [
       "{100, 200, 400, 500, 'java', 'python'}"
      ]
     },
     "execution_count": 49,
     "metadata": {},
     "output_type": "execute_result"
    }
   ],
   "source": [
    "a"
   ]
  },
  {
   "cell_type": "code",
   "execution_count": 50,
   "id": "31aefb6f",
   "metadata": {},
   "outputs": [],
   "source": [
    "a.discard(400)"
   ]
  },
  {
   "cell_type": "code",
   "execution_count": 51,
   "id": "a9e592ae",
   "metadata": {},
   "outputs": [
    {
     "data": {
      "text/plain": [
       "{100, 200, 500, 'java', 'python'}"
      ]
     },
     "execution_count": 51,
     "metadata": {},
     "output_type": "execute_result"
    }
   ],
   "source": [
    "a"
   ]
  },
  {
   "cell_type": "code",
   "execution_count": 52,
   "id": "8773a166",
   "metadata": {},
   "outputs": [],
   "source": [
    "a.discard('java')"
   ]
  },
  {
   "cell_type": "code",
   "execution_count": 53,
   "id": "7748f003",
   "metadata": {},
   "outputs": [
    {
     "data": {
      "text/plain": [
       "{100, 200, 500, 'python'}"
      ]
     },
     "execution_count": 53,
     "metadata": {},
     "output_type": "execute_result"
    }
   ],
   "source": [
    "a"
   ]
  },
  {
   "cell_type": "code",
   "execution_count": 54,
   "id": "e9c2585a",
   "metadata": {},
   "outputs": [],
   "source": [
    "a = {2,4,5}"
   ]
  },
  {
   "cell_type": "code",
   "execution_count": 55,
   "id": "c8af5dc5",
   "metadata": {},
   "outputs": [],
   "source": [
    "a =[1,2,3]"
   ]
  },
  {
   "cell_type": "code",
   "execution_count": 56,
   "id": "aad271b6",
   "metadata": {},
   "outputs": [],
   "source": [
    "a = (1,2,3)"
   ]
  },
  {
   "cell_type": "code",
   "execution_count": null,
   "id": "66147956",
   "metadata": {},
   "outputs": [],
   "source": [
    "list\n",
    "set\n",
    "tuple\n",
    "dict\n"
   ]
  },
  {
   "cell_type": "code",
   "execution_count": null,
   "id": "3c765232",
   "metadata": {},
   "outputs": [],
   "source": [
    "for -loop\n",
    "if statement\n",
    "break"
   ]
  },
  {
   "cell_type": "code",
   "execution_count": null,
   "id": "4bf5115e",
   "metadata": {},
   "outputs": [],
   "source": [
    "dict --- > 1.5hr --> 7.30 to 9.00 ->"
   ]
  },
  {
   "cell_type": "code",
   "execution_count": null,
   "id": "ea3bf850",
   "metadata": {},
   "outputs": [],
   "source": []
  },
  {
   "cell_type": "code",
   "execution_count": null,
   "id": "0e506f52",
   "metadata": {},
   "outputs": [],
   "source": []
  }
 ],
 "metadata": {
  "kernelspec": {
   "display_name": "Python 3",
   "language": "python",
   "name": "python3"
  },
  "language_info": {
   "codemirror_mode": {
    "name": "ipython",
    "version": 3
   },
   "file_extension": ".py",
   "mimetype": "text/x-python",
   "name": "python",
   "nbconvert_exporter": "python",
   "pygments_lexer": "ipython3",
   "version": "3.8.8"
  }
 },
 "nbformat": 4,
 "nbformat_minor": 5
}
